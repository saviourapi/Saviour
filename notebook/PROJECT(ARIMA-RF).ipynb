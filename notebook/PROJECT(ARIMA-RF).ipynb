{
 "cells": [
  {
   "cell_type": "code",
   "execution_count": 1,
   "source": [
    "import numpy as np\n",
    "import pandas as pd\n",
    "import matplotlib.pyplot as plt\n",
    "import seaborn as sns\n",
    "from ipywidgets import *\n",
    "from datetime import date, time, datetime \n",
    "# %config Completer.use_jedi = False"
   ],
   "outputs": [],
   "metadata": {
    "tags": []
   }
  },
  {
   "cell_type": "code",
   "execution_count": 2,
   "source": [
    "from sklearn import metrics\n",
    "from sklearn.metrics import mean_absolute_error\n",
    "from sklearn.metrics import mean_squared_error\n",
    "from sklearn.metrics import r2_score\n",
    "from sklearn.metrics import explained_variance_score\n",
    "\n",
    "from math import sqrt"
   ],
   "outputs": [],
   "metadata": {}
  },
  {
   "cell_type": "code",
   "execution_count": 3,
   "source": [
    "import seaborn as sns\n",
    "# %matplotlib inline"
   ],
   "outputs": [],
   "metadata": {}
  },
  {
   "cell_type": "code",
   "execution_count": 4,
   "source": [
    "def parser(x):\n",
    "    return datetime.strptime(x,\"%d/%m/%Y\")"
   ],
   "outputs": [],
   "metadata": {}
  },
  {
   "cell_type": "code",
   "execution_count": 5,
   "source": [
    "campo=pd.read_csv(\"Volve production data_1.csv\",parse_dates=[0], date_parser=parser)"
   ],
   "outputs": [],
   "metadata": {}
  },
  {
   "cell_type": "code",
   "execution_count": 6,
   "source": [
    "del campo[\"WELL_BORE_CODE\"]\n",
    "del campo[\"NPD_WELL_BORE_CODE\"]\n",
    "del campo[\"NPD_FIELD_CODE\"]\n",
    "del campo[\"NPD_FIELD_NAME\"]\n",
    "del campo[\"NPD_FACILITY_CODE\"]\n",
    "del campo[\"NPD_FACILITY_NAME\"]\n",
    "del campo[\"AVG_CHOKE_UOM\"]"
   ],
   "outputs": [],
   "metadata": {}
  },
  {
   "cell_type": "code",
   "execution_count": 7,
   "source": [
    "data_tratada=campo[campo.ON_STREAM_HRS>0]"
   ],
   "outputs": [],
   "metadata": {}
  },
  {
   "cell_type": "markdown",
   "source": [
    "# POZOS PRODUCTORES"
   ],
   "metadata": {}
  },
  {
   "cell_type": "code",
   "execution_count": 9,
   "source": [
    "df_productores=data_tratada[data_tratada.FLOW_KIND==\"production\"]\n",
    "df_productores"
   ],
   "outputs": [
    {
     "output_type": "execute_result",
     "data": {
      "text/plain": [
       "         DATEPRD NPD_WELL_BORE_NAME  ON_STREAM_HRS  AVG_DOWNHOLE_PRESSURE  \\\n",
       "14    2014-04-21         15/9-F-1 C          11.50                301.376   \n",
       "15    2014-04-22         15/9-F-1 C          24.00                289.421   \n",
       "16    2014-04-23         15/9-F-1 C          24.00                270.240   \n",
       "17    2014-04-24         15/9-F-1 C          24.00                262.843   \n",
       "18    2014-04-25         15/9-F-1 C          24.00                255.527   \n",
       "...          ...                ...            ...                    ...   \n",
       "15606 2016-08-22           15/9-F-5          24.00                    NaN   \n",
       "15607 2016-08-23           15/9-F-5          24.00                    NaN   \n",
       "15608 2016-08-24           15/9-F-5          24.00                    NaN   \n",
       "15609 2016-08-25           15/9-F-5          24.00                    NaN   \n",
       "15610 2016-08-26           15/9-F-5          20.59                    NaN   \n",
       "\n",
       "       AVG_DOWNHOLE_TEMPERATURE  AVG_DP_TUBING  AVG_ANNULUS_PRESS  \\\n",
       "14                      102.676        204.795              0.000   \n",
       "15                      106.353        182.059              0.000   \n",
       "16                      107.644        171.053                NaN   \n",
       "17                      107.869        168.242                NaN   \n",
       "18                      107.971        165.539                NaN   \n",
       "...                         ...            ...                ...   \n",
       "15606                       NaN            NaN             24.998   \n",
       "15607                       NaN            NaN             25.074   \n",
       "15608                       NaN            NaN             24.934   \n",
       "15609                       NaN            NaN             24.931   \n",
       "15610                       NaN            NaN             24.828   \n",
       "\n",
       "       AVG_CHOKE_SIZE_P  AVG_WHP_P  AVG_WHT_P  DP_CHOKE_SIZE  BORE_OIL_VOL  \\\n",
       "14             20.98975     96.580     19.197         69.776          0.00   \n",
       "15             43.34345    107.362     37.939         78.935        631.47   \n",
       "16             47.16752     99.187     60.757         70.627       1166.46   \n",
       "17             47.73231     94.601     63.047         66.049       1549.81   \n",
       "18             48.53377     89.988     64.547         61.405       1248.70   \n",
       "...                 ...        ...        ...            ...           ...   \n",
       "15606         100.00000     23.650     57.480          0.120        371.33   \n",
       "15607         100.00000     23.728     56.862          0.190        378.55   \n",
       "15608         100.00000     23.703     56.249          0.168        376.86   \n",
       "15609         100.00000     23.642     57.884          0.102        377.44   \n",
       "15610          83.87681     23.970     55.872          0.420        327.16   \n",
       "\n",
       "       BORE_GAS_VOL  BORE_WAT_VOL  BORE_WI_VOL   FLOW_KIND WELL_TYPE  \n",
       "14             0.00          0.00          NaN  production        OP  \n",
       "15         90439.09          0.00          NaN  production        OP  \n",
       "16        165720.39          0.00          NaN  production        OP  \n",
       "17        221707.31          0.00          NaN  production        OP  \n",
       "18        178063.52          0.00          NaN  production        OP  \n",
       "...             ...           ...          ...         ...       ...  \n",
       "15606      57934.84         90.61          NaN  production        OP  \n",
       "15607      59119.57         90.11          NaN  production        OP  \n",
       "15608      58632.31         91.32          NaN  production        OP  \n",
       "15609      59337.43         91.38          NaN  production        OP  \n",
       "15610      52209.60         77.52          NaN  production        OP  \n",
       "\n",
       "[8020 rows x 17 columns]"
      ],
      "text/html": [
       "<div>\n",
       "<style scoped>\n",
       "    .dataframe tbody tr th:only-of-type {\n",
       "        vertical-align: middle;\n",
       "    }\n",
       "\n",
       "    .dataframe tbody tr th {\n",
       "        vertical-align: top;\n",
       "    }\n",
       "\n",
       "    .dataframe thead th {\n",
       "        text-align: right;\n",
       "    }\n",
       "</style>\n",
       "<table border=\"1\" class=\"dataframe\">\n",
       "  <thead>\n",
       "    <tr style=\"text-align: right;\">\n",
       "      <th></th>\n",
       "      <th>DATEPRD</th>\n",
       "      <th>NPD_WELL_BORE_NAME</th>\n",
       "      <th>ON_STREAM_HRS</th>\n",
       "      <th>AVG_DOWNHOLE_PRESSURE</th>\n",
       "      <th>AVG_DOWNHOLE_TEMPERATURE</th>\n",
       "      <th>AVG_DP_TUBING</th>\n",
       "      <th>AVG_ANNULUS_PRESS</th>\n",
       "      <th>AVG_CHOKE_SIZE_P</th>\n",
       "      <th>AVG_WHP_P</th>\n",
       "      <th>AVG_WHT_P</th>\n",
       "      <th>DP_CHOKE_SIZE</th>\n",
       "      <th>BORE_OIL_VOL</th>\n",
       "      <th>BORE_GAS_VOL</th>\n",
       "      <th>BORE_WAT_VOL</th>\n",
       "      <th>BORE_WI_VOL</th>\n",
       "      <th>FLOW_KIND</th>\n",
       "      <th>WELL_TYPE</th>\n",
       "    </tr>\n",
       "  </thead>\n",
       "  <tbody>\n",
       "    <tr>\n",
       "      <th>14</th>\n",
       "      <td>2014-04-21</td>\n",
       "      <td>15/9-F-1 C</td>\n",
       "      <td>11.50</td>\n",
       "      <td>301.376</td>\n",
       "      <td>102.676</td>\n",
       "      <td>204.795</td>\n",
       "      <td>0.000</td>\n",
       "      <td>20.98975</td>\n",
       "      <td>96.580</td>\n",
       "      <td>19.197</td>\n",
       "      <td>69.776</td>\n",
       "      <td>0.00</td>\n",
       "      <td>0.00</td>\n",
       "      <td>0.00</td>\n",
       "      <td>NaN</td>\n",
       "      <td>production</td>\n",
       "      <td>OP</td>\n",
       "    </tr>\n",
       "    <tr>\n",
       "      <th>15</th>\n",
       "      <td>2014-04-22</td>\n",
       "      <td>15/9-F-1 C</td>\n",
       "      <td>24.00</td>\n",
       "      <td>289.421</td>\n",
       "      <td>106.353</td>\n",
       "      <td>182.059</td>\n",
       "      <td>0.000</td>\n",
       "      <td>43.34345</td>\n",
       "      <td>107.362</td>\n",
       "      <td>37.939</td>\n",
       "      <td>78.935</td>\n",
       "      <td>631.47</td>\n",
       "      <td>90439.09</td>\n",
       "      <td>0.00</td>\n",
       "      <td>NaN</td>\n",
       "      <td>production</td>\n",
       "      <td>OP</td>\n",
       "    </tr>\n",
       "    <tr>\n",
       "      <th>16</th>\n",
       "      <td>2014-04-23</td>\n",
       "      <td>15/9-F-1 C</td>\n",
       "      <td>24.00</td>\n",
       "      <td>270.240</td>\n",
       "      <td>107.644</td>\n",
       "      <td>171.053</td>\n",
       "      <td>NaN</td>\n",
       "      <td>47.16752</td>\n",
       "      <td>99.187</td>\n",
       "      <td>60.757</td>\n",
       "      <td>70.627</td>\n",
       "      <td>1166.46</td>\n",
       "      <td>165720.39</td>\n",
       "      <td>0.00</td>\n",
       "      <td>NaN</td>\n",
       "      <td>production</td>\n",
       "      <td>OP</td>\n",
       "    </tr>\n",
       "    <tr>\n",
       "      <th>17</th>\n",
       "      <td>2014-04-24</td>\n",
       "      <td>15/9-F-1 C</td>\n",
       "      <td>24.00</td>\n",
       "      <td>262.843</td>\n",
       "      <td>107.869</td>\n",
       "      <td>168.242</td>\n",
       "      <td>NaN</td>\n",
       "      <td>47.73231</td>\n",
       "      <td>94.601</td>\n",
       "      <td>63.047</td>\n",
       "      <td>66.049</td>\n",
       "      <td>1549.81</td>\n",
       "      <td>221707.31</td>\n",
       "      <td>0.00</td>\n",
       "      <td>NaN</td>\n",
       "      <td>production</td>\n",
       "      <td>OP</td>\n",
       "    </tr>\n",
       "    <tr>\n",
       "      <th>18</th>\n",
       "      <td>2014-04-25</td>\n",
       "      <td>15/9-F-1 C</td>\n",
       "      <td>24.00</td>\n",
       "      <td>255.527</td>\n",
       "      <td>107.971</td>\n",
       "      <td>165.539</td>\n",
       "      <td>NaN</td>\n",
       "      <td>48.53377</td>\n",
       "      <td>89.988</td>\n",
       "      <td>64.547</td>\n",
       "      <td>61.405</td>\n",
       "      <td>1248.70</td>\n",
       "      <td>178063.52</td>\n",
       "      <td>0.00</td>\n",
       "      <td>NaN</td>\n",
       "      <td>production</td>\n",
       "      <td>OP</td>\n",
       "    </tr>\n",
       "    <tr>\n",
       "      <th>...</th>\n",
       "      <td>...</td>\n",
       "      <td>...</td>\n",
       "      <td>...</td>\n",
       "      <td>...</td>\n",
       "      <td>...</td>\n",
       "      <td>...</td>\n",
       "      <td>...</td>\n",
       "      <td>...</td>\n",
       "      <td>...</td>\n",
       "      <td>...</td>\n",
       "      <td>...</td>\n",
       "      <td>...</td>\n",
       "      <td>...</td>\n",
       "      <td>...</td>\n",
       "      <td>...</td>\n",
       "      <td>...</td>\n",
       "      <td>...</td>\n",
       "    </tr>\n",
       "    <tr>\n",
       "      <th>15606</th>\n",
       "      <td>2016-08-22</td>\n",
       "      <td>15/9-F-5</td>\n",
       "      <td>24.00</td>\n",
       "      <td>NaN</td>\n",
       "      <td>NaN</td>\n",
       "      <td>NaN</td>\n",
       "      <td>24.998</td>\n",
       "      <td>100.00000</td>\n",
       "      <td>23.650</td>\n",
       "      <td>57.480</td>\n",
       "      <td>0.120</td>\n",
       "      <td>371.33</td>\n",
       "      <td>57934.84</td>\n",
       "      <td>90.61</td>\n",
       "      <td>NaN</td>\n",
       "      <td>production</td>\n",
       "      <td>OP</td>\n",
       "    </tr>\n",
       "    <tr>\n",
       "      <th>15607</th>\n",
       "      <td>2016-08-23</td>\n",
       "      <td>15/9-F-5</td>\n",
       "      <td>24.00</td>\n",
       "      <td>NaN</td>\n",
       "      <td>NaN</td>\n",
       "      <td>NaN</td>\n",
       "      <td>25.074</td>\n",
       "      <td>100.00000</td>\n",
       "      <td>23.728</td>\n",
       "      <td>56.862</td>\n",
       "      <td>0.190</td>\n",
       "      <td>378.55</td>\n",
       "      <td>59119.57</td>\n",
       "      <td>90.11</td>\n",
       "      <td>NaN</td>\n",
       "      <td>production</td>\n",
       "      <td>OP</td>\n",
       "    </tr>\n",
       "    <tr>\n",
       "      <th>15608</th>\n",
       "      <td>2016-08-24</td>\n",
       "      <td>15/9-F-5</td>\n",
       "      <td>24.00</td>\n",
       "      <td>NaN</td>\n",
       "      <td>NaN</td>\n",
       "      <td>NaN</td>\n",
       "      <td>24.934</td>\n",
       "      <td>100.00000</td>\n",
       "      <td>23.703</td>\n",
       "      <td>56.249</td>\n",
       "      <td>0.168</td>\n",
       "      <td>376.86</td>\n",
       "      <td>58632.31</td>\n",
       "      <td>91.32</td>\n",
       "      <td>NaN</td>\n",
       "      <td>production</td>\n",
       "      <td>OP</td>\n",
       "    </tr>\n",
       "    <tr>\n",
       "      <th>15609</th>\n",
       "      <td>2016-08-25</td>\n",
       "      <td>15/9-F-5</td>\n",
       "      <td>24.00</td>\n",
       "      <td>NaN</td>\n",
       "      <td>NaN</td>\n",
       "      <td>NaN</td>\n",
       "      <td>24.931</td>\n",
       "      <td>100.00000</td>\n",
       "      <td>23.642</td>\n",
       "      <td>57.884</td>\n",
       "      <td>0.102</td>\n",
       "      <td>377.44</td>\n",
       "      <td>59337.43</td>\n",
       "      <td>91.38</td>\n",
       "      <td>NaN</td>\n",
       "      <td>production</td>\n",
       "      <td>OP</td>\n",
       "    </tr>\n",
       "    <tr>\n",
       "      <th>15610</th>\n",
       "      <td>2016-08-26</td>\n",
       "      <td>15/9-F-5</td>\n",
       "      <td>20.59</td>\n",
       "      <td>NaN</td>\n",
       "      <td>NaN</td>\n",
       "      <td>NaN</td>\n",
       "      <td>24.828</td>\n",
       "      <td>83.87681</td>\n",
       "      <td>23.970</td>\n",
       "      <td>55.872</td>\n",
       "      <td>0.420</td>\n",
       "      <td>327.16</td>\n",
       "      <td>52209.60</td>\n",
       "      <td>77.52</td>\n",
       "      <td>NaN</td>\n",
       "      <td>production</td>\n",
       "      <td>OP</td>\n",
       "    </tr>\n",
       "  </tbody>\n",
       "</table>\n",
       "<p>8020 rows × 17 columns</p>\n",
       "</div>"
      ]
     },
     "metadata": {},
     "execution_count": 9
    }
   ],
   "metadata": {}
  },
  {
   "cell_type": "code",
   "execution_count": 10,
   "source": [
    "del df_productores[\"BORE_WI_VOL\"]"
   ],
   "outputs": [],
   "metadata": {}
  },
  {
   "cell_type": "code",
   "execution_count": 11,
   "source": [
    "names_prod = pd.unique(df_productores[\"NPD_WELL_BORE_NAME\"])\n",
    "list(names_prod)"
   ],
   "outputs": [
    {
     "output_type": "execute_result",
     "data": {
      "text/plain": [
       "['15/9-F-1 C',\n",
       " '15/9-F-11',\n",
       " '15/9-F-12',\n",
       " '15/9-F-14',\n",
       " '15/9-F-15 D',\n",
       " '15/9-F-5']"
      ]
     },
     "metadata": {},
     "execution_count": 11
    }
   ],
   "metadata": {}
  },
  {
   "cell_type": "code",
   "execution_count": 12,
   "source": [
    "df_well_1=df_productores[df_productores.NPD_WELL_BORE_NAME==\"15/9-F-1 C\"]\n",
    "df_well_2=df_productores[df_productores.NPD_WELL_BORE_NAME==\"15/9-F-11\"]\n",
    "df_well_3=df_productores[df_productores.NPD_WELL_BORE_NAME==\"15/9-F-12\"]\n",
    "df_well_4=df_productores[df_productores.NPD_WELL_BORE_NAME==\"15/9-F-14\"]\n",
    "df_well_5=df_productores[df_productores.NPD_WELL_BORE_NAME==\"15/9-F-15 D\"]\n",
    "df_well_6=df_productores[df_productores.NPD_WELL_BORE_NAME==\"15/9-F-5\"]"
   ],
   "outputs": [],
   "metadata": {}
  },
  {
   "cell_type": "code",
   "execution_count": 13,
   "source": [
    "lista_df_well_prod=[df_well_1,df_well_2,df_well_3,df_well_4,df_well_5,df_well_6]"
   ],
   "outputs": [],
   "metadata": {}
  },
  {
   "cell_type": "code",
   "execution_count": 14,
   "source": [
    "for name in lista_df_well_prod:\n",
    "    nulos=name.isnull().values.sum()\n",
    "    print(nulos)"
   ],
   "outputs": [
    {
     "output_type": "stream",
     "name": "stdout",
     "text": [
      "436\n",
      "21\n",
      "31\n",
      "517\n",
      "0\n",
      "387\n"
     ]
    }
   ],
   "metadata": {}
  },
  {
   "cell_type": "markdown",
   "source": [
    "----------------------------------------------------------------------------------------------------------------------------------------------------------------------------------------------------------------"
   ],
   "metadata": {}
  },
  {
   "cell_type": "markdown",
   "source": [
    "## POZO 1"
   ],
   "metadata": {}
  },
  {
   "cell_type": "code",
   "execution_count": 16,
   "source": [
    "encabezados=[\"ON_STREAM_HRS\",\"AVG_DOWNHOLE_PRESSURE\",\"AVG_DOWNHOLE_TEMPERATURE\",\"AVG_DP_TUBING\",\"AVG_ANNULUS_PRESS\",\"AVG_CHOKE_SIZE_P\",\"AVG_WHP_P\",\"AVG_WHT_P\",\"DP_CHOKE_SIZE\",\"BORE_OIL_VOL\",\"BORE_GAS_VOL\",\"BORE_WAT_VOL\"]\n",
    "encabezados"
   ],
   "outputs": [
    {
     "output_type": "execute_result",
     "data": {
      "text/plain": [
       "['ON_STREAM_HRS',\n",
       " 'AVG_DOWNHOLE_PRESSURE',\n",
       " 'AVG_DOWNHOLE_TEMPERATURE',\n",
       " 'AVG_DP_TUBING',\n",
       " 'AVG_ANNULUS_PRESS',\n",
       " 'AVG_CHOKE_SIZE_P',\n",
       " 'AVG_WHP_P',\n",
       " 'AVG_WHT_P',\n",
       " 'DP_CHOKE_SIZE',\n",
       " 'BORE_OIL_VOL',\n",
       " 'BORE_GAS_VOL',\n",
       " 'BORE_WAT_VOL']"
      ]
     },
     "metadata": {},
     "execution_count": 16
    }
   ],
   "metadata": {}
  },
  {
   "cell_type": "code",
   "execution_count": 17,
   "source": [
    "df_well_1"
   ],
   "outputs": [
    {
     "output_type": "execute_result",
     "data": {
      "text/plain": [
       "       DATEPRD NPD_WELL_BORE_NAME  ON_STREAM_HRS  AVG_DOWNHOLE_PRESSURE  \\\n",
       "14  2014-04-21         15/9-F-1 C          11.50                301.376   \n",
       "15  2014-04-22         15/9-F-1 C          24.00                289.421   \n",
       "16  2014-04-23         15/9-F-1 C          24.00                270.240   \n",
       "17  2014-04-24         15/9-F-1 C          24.00                262.843   \n",
       "18  2014-04-25         15/9-F-1 C          24.00                255.527   \n",
       "..         ...                ...            ...                    ...   \n",
       "726 2016-04-02         15/9-F-1 C          24.00                223.012   \n",
       "727 2016-04-03         15/9-F-1 C          24.00                221.813   \n",
       "728 2016-04-04         15/9-F-1 C          24.00                220.780   \n",
       "729 2016-04-05         15/9-F-1 C          24.00                218.752   \n",
       "730 2016-04-06         15/9-F-1 C          20.82                218.438   \n",
       "\n",
       "     AVG_DOWNHOLE_TEMPERATURE  AVG_DP_TUBING  AVG_ANNULUS_PRESS  \\\n",
       "14                    102.676        204.795                0.0   \n",
       "15                    106.353        182.059                0.0   \n",
       "16                    107.644        171.053                NaN   \n",
       "17                    107.869        168.242                NaN   \n",
       "18                    107.971        165.539                NaN   \n",
       "..                        ...            ...                ...   \n",
       "726                   108.058        196.629                NaN   \n",
       "727                   108.044        196.133                NaN   \n",
       "728                   108.042        195.665                NaN   \n",
       "729                   108.078        193.411                NaN   \n",
       "730                   107.857        192.830                NaN   \n",
       "\n",
       "     AVG_CHOKE_SIZE_P  AVG_WHP_P  AVG_WHT_P  DP_CHOKE_SIZE  BORE_OIL_VOL  \\\n",
       "14           20.98975     96.580     19.197         69.776          0.00   \n",
       "15           43.34345    107.362     37.939         78.935        631.47   \n",
       "16           47.16752     99.187     60.757         70.627       1166.46   \n",
       "17           47.73231     94.601     63.047         66.049       1549.81   \n",
       "18           48.53377     89.988     64.547         61.405       1248.70   \n",
       "..                ...        ...        ...            ...           ...   \n",
       "726          54.68774     26.383     69.559         10.681        284.72   \n",
       "727          54.72411     25.681     72.502          9.910        280.17   \n",
       "728          55.06795     25.115     71.750          9.197        281.93   \n",
       "729          55.99813     25.341     72.218          9.101        317.38   \n",
       "730          45.14344     25.608     66.568          9.830        208.00   \n",
       "\n",
       "     BORE_GAS_VOL  BORE_WAT_VOL   FLOW_KIND WELL_TYPE  \n",
       "14           0.00          0.00  production        OP  \n",
       "15       90439.09          0.00  production        OP  \n",
       "16      165720.39          0.00  production        OP  \n",
       "17      221707.31          0.00  production        OP  \n",
       "18      178063.52          0.00  production        OP  \n",
       "..            ...           ...         ...       ...  \n",
       "726      46880.14        766.23  production        OP  \n",
       "727      45842.82        748.25  production        OP  \n",
       "728      45800.83        797.30  production        OP  \n",
       "729      51990.65        792.76  production        OP  \n",
       "730      34998.30        542.39  production        OP  \n",
       "\n",
       "[438 rows x 16 columns]"
      ],
      "text/html": [
       "<div>\n",
       "<style scoped>\n",
       "    .dataframe tbody tr th:only-of-type {\n",
       "        vertical-align: middle;\n",
       "    }\n",
       "\n",
       "    .dataframe tbody tr th {\n",
       "        vertical-align: top;\n",
       "    }\n",
       "\n",
       "    .dataframe thead th {\n",
       "        text-align: right;\n",
       "    }\n",
       "</style>\n",
       "<table border=\"1\" class=\"dataframe\">\n",
       "  <thead>\n",
       "    <tr style=\"text-align: right;\">\n",
       "      <th></th>\n",
       "      <th>DATEPRD</th>\n",
       "      <th>NPD_WELL_BORE_NAME</th>\n",
       "      <th>ON_STREAM_HRS</th>\n",
       "      <th>AVG_DOWNHOLE_PRESSURE</th>\n",
       "      <th>AVG_DOWNHOLE_TEMPERATURE</th>\n",
       "      <th>AVG_DP_TUBING</th>\n",
       "      <th>AVG_ANNULUS_PRESS</th>\n",
       "      <th>AVG_CHOKE_SIZE_P</th>\n",
       "      <th>AVG_WHP_P</th>\n",
       "      <th>AVG_WHT_P</th>\n",
       "      <th>DP_CHOKE_SIZE</th>\n",
       "      <th>BORE_OIL_VOL</th>\n",
       "      <th>BORE_GAS_VOL</th>\n",
       "      <th>BORE_WAT_VOL</th>\n",
       "      <th>FLOW_KIND</th>\n",
       "      <th>WELL_TYPE</th>\n",
       "    </tr>\n",
       "  </thead>\n",
       "  <tbody>\n",
       "    <tr>\n",
       "      <th>14</th>\n",
       "      <td>2014-04-21</td>\n",
       "      <td>15/9-F-1 C</td>\n",
       "      <td>11.50</td>\n",
       "      <td>301.376</td>\n",
       "      <td>102.676</td>\n",
       "      <td>204.795</td>\n",
       "      <td>0.0</td>\n",
       "      <td>20.98975</td>\n",
       "      <td>96.580</td>\n",
       "      <td>19.197</td>\n",
       "      <td>69.776</td>\n",
       "      <td>0.00</td>\n",
       "      <td>0.00</td>\n",
       "      <td>0.00</td>\n",
       "      <td>production</td>\n",
       "      <td>OP</td>\n",
       "    </tr>\n",
       "    <tr>\n",
       "      <th>15</th>\n",
       "      <td>2014-04-22</td>\n",
       "      <td>15/9-F-1 C</td>\n",
       "      <td>24.00</td>\n",
       "      <td>289.421</td>\n",
       "      <td>106.353</td>\n",
       "      <td>182.059</td>\n",
       "      <td>0.0</td>\n",
       "      <td>43.34345</td>\n",
       "      <td>107.362</td>\n",
       "      <td>37.939</td>\n",
       "      <td>78.935</td>\n",
       "      <td>631.47</td>\n",
       "      <td>90439.09</td>\n",
       "      <td>0.00</td>\n",
       "      <td>production</td>\n",
       "      <td>OP</td>\n",
       "    </tr>\n",
       "    <tr>\n",
       "      <th>16</th>\n",
       "      <td>2014-04-23</td>\n",
       "      <td>15/9-F-1 C</td>\n",
       "      <td>24.00</td>\n",
       "      <td>270.240</td>\n",
       "      <td>107.644</td>\n",
       "      <td>171.053</td>\n",
       "      <td>NaN</td>\n",
       "      <td>47.16752</td>\n",
       "      <td>99.187</td>\n",
       "      <td>60.757</td>\n",
       "      <td>70.627</td>\n",
       "      <td>1166.46</td>\n",
       "      <td>165720.39</td>\n",
       "      <td>0.00</td>\n",
       "      <td>production</td>\n",
       "      <td>OP</td>\n",
       "    </tr>\n",
       "    <tr>\n",
       "      <th>17</th>\n",
       "      <td>2014-04-24</td>\n",
       "      <td>15/9-F-1 C</td>\n",
       "      <td>24.00</td>\n",
       "      <td>262.843</td>\n",
       "      <td>107.869</td>\n",
       "      <td>168.242</td>\n",
       "      <td>NaN</td>\n",
       "      <td>47.73231</td>\n",
       "      <td>94.601</td>\n",
       "      <td>63.047</td>\n",
       "      <td>66.049</td>\n",
       "      <td>1549.81</td>\n",
       "      <td>221707.31</td>\n",
       "      <td>0.00</td>\n",
       "      <td>production</td>\n",
       "      <td>OP</td>\n",
       "    </tr>\n",
       "    <tr>\n",
       "      <th>18</th>\n",
       "      <td>2014-04-25</td>\n",
       "      <td>15/9-F-1 C</td>\n",
       "      <td>24.00</td>\n",
       "      <td>255.527</td>\n",
       "      <td>107.971</td>\n",
       "      <td>165.539</td>\n",
       "      <td>NaN</td>\n",
       "      <td>48.53377</td>\n",
       "      <td>89.988</td>\n",
       "      <td>64.547</td>\n",
       "      <td>61.405</td>\n",
       "      <td>1248.70</td>\n",
       "      <td>178063.52</td>\n",
       "      <td>0.00</td>\n",
       "      <td>production</td>\n",
       "      <td>OP</td>\n",
       "    </tr>\n",
       "    <tr>\n",
       "      <th>...</th>\n",
       "      <td>...</td>\n",
       "      <td>...</td>\n",
       "      <td>...</td>\n",
       "      <td>...</td>\n",
       "      <td>...</td>\n",
       "      <td>...</td>\n",
       "      <td>...</td>\n",
       "      <td>...</td>\n",
       "      <td>...</td>\n",
       "      <td>...</td>\n",
       "      <td>...</td>\n",
       "      <td>...</td>\n",
       "      <td>...</td>\n",
       "      <td>...</td>\n",
       "      <td>...</td>\n",
       "      <td>...</td>\n",
       "    </tr>\n",
       "    <tr>\n",
       "      <th>726</th>\n",
       "      <td>2016-04-02</td>\n",
       "      <td>15/9-F-1 C</td>\n",
       "      <td>24.00</td>\n",
       "      <td>223.012</td>\n",
       "      <td>108.058</td>\n",
       "      <td>196.629</td>\n",
       "      <td>NaN</td>\n",
       "      <td>54.68774</td>\n",
       "      <td>26.383</td>\n",
       "      <td>69.559</td>\n",
       "      <td>10.681</td>\n",
       "      <td>284.72</td>\n",
       "      <td>46880.14</td>\n",
       "      <td>766.23</td>\n",
       "      <td>production</td>\n",
       "      <td>OP</td>\n",
       "    </tr>\n",
       "    <tr>\n",
       "      <th>727</th>\n",
       "      <td>2016-04-03</td>\n",
       "      <td>15/9-F-1 C</td>\n",
       "      <td>24.00</td>\n",
       "      <td>221.813</td>\n",
       "      <td>108.044</td>\n",
       "      <td>196.133</td>\n",
       "      <td>NaN</td>\n",
       "      <td>54.72411</td>\n",
       "      <td>25.681</td>\n",
       "      <td>72.502</td>\n",
       "      <td>9.910</td>\n",
       "      <td>280.17</td>\n",
       "      <td>45842.82</td>\n",
       "      <td>748.25</td>\n",
       "      <td>production</td>\n",
       "      <td>OP</td>\n",
       "    </tr>\n",
       "    <tr>\n",
       "      <th>728</th>\n",
       "      <td>2016-04-04</td>\n",
       "      <td>15/9-F-1 C</td>\n",
       "      <td>24.00</td>\n",
       "      <td>220.780</td>\n",
       "      <td>108.042</td>\n",
       "      <td>195.665</td>\n",
       "      <td>NaN</td>\n",
       "      <td>55.06795</td>\n",
       "      <td>25.115</td>\n",
       "      <td>71.750</td>\n",
       "      <td>9.197</td>\n",
       "      <td>281.93</td>\n",
       "      <td>45800.83</td>\n",
       "      <td>797.30</td>\n",
       "      <td>production</td>\n",
       "      <td>OP</td>\n",
       "    </tr>\n",
       "    <tr>\n",
       "      <th>729</th>\n",
       "      <td>2016-04-05</td>\n",
       "      <td>15/9-F-1 C</td>\n",
       "      <td>24.00</td>\n",
       "      <td>218.752</td>\n",
       "      <td>108.078</td>\n",
       "      <td>193.411</td>\n",
       "      <td>NaN</td>\n",
       "      <td>55.99813</td>\n",
       "      <td>25.341</td>\n",
       "      <td>72.218</td>\n",
       "      <td>9.101</td>\n",
       "      <td>317.38</td>\n",
       "      <td>51990.65</td>\n",
       "      <td>792.76</td>\n",
       "      <td>production</td>\n",
       "      <td>OP</td>\n",
       "    </tr>\n",
       "    <tr>\n",
       "      <th>730</th>\n",
       "      <td>2016-04-06</td>\n",
       "      <td>15/9-F-1 C</td>\n",
       "      <td>20.82</td>\n",
       "      <td>218.438</td>\n",
       "      <td>107.857</td>\n",
       "      <td>192.830</td>\n",
       "      <td>NaN</td>\n",
       "      <td>45.14344</td>\n",
       "      <td>25.608</td>\n",
       "      <td>66.568</td>\n",
       "      <td>9.830</td>\n",
       "      <td>208.00</td>\n",
       "      <td>34998.30</td>\n",
       "      <td>542.39</td>\n",
       "      <td>production</td>\n",
       "      <td>OP</td>\n",
       "    </tr>\n",
       "  </tbody>\n",
       "</table>\n",
       "<p>438 rows × 16 columns</p>\n",
       "</div>"
      ]
     },
     "metadata": {},
     "execution_count": 17
    }
   ],
   "metadata": {
    "tags": []
   }
  },
  {
   "cell_type": "code",
   "execution_count": 18,
   "source": [
    "fechas=list(df_well_1.DATEPRD)"
   ],
   "outputs": [],
   "metadata": {}
  },
  {
   "cell_type": "code",
   "execution_count": 19,
   "source": [
    "df_new=df_well_1.set_index(\"DATEPRD\")"
   ],
   "outputs": [],
   "metadata": {}
  },
  {
   "cell_type": "code",
   "execution_count": 20,
   "source": [
    "df_new"
   ],
   "outputs": [
    {
     "output_type": "execute_result",
     "data": {
      "text/plain": [
       "           NPD_WELL_BORE_NAME  ON_STREAM_HRS  AVG_DOWNHOLE_PRESSURE  \\\n",
       "DATEPRD                                                               \n",
       "2014-04-21         15/9-F-1 C          11.50                301.376   \n",
       "2014-04-22         15/9-F-1 C          24.00                289.421   \n",
       "2014-04-23         15/9-F-1 C          24.00                270.240   \n",
       "2014-04-24         15/9-F-1 C          24.00                262.843   \n",
       "2014-04-25         15/9-F-1 C          24.00                255.527   \n",
       "...                       ...            ...                    ...   \n",
       "2016-04-02         15/9-F-1 C          24.00                223.012   \n",
       "2016-04-03         15/9-F-1 C          24.00                221.813   \n",
       "2016-04-04         15/9-F-1 C          24.00                220.780   \n",
       "2016-04-05         15/9-F-1 C          24.00                218.752   \n",
       "2016-04-06         15/9-F-1 C          20.82                218.438   \n",
       "\n",
       "            AVG_DOWNHOLE_TEMPERATURE  AVG_DP_TUBING  AVG_ANNULUS_PRESS  \\\n",
       "DATEPRD                                                                  \n",
       "2014-04-21                   102.676        204.795                0.0   \n",
       "2014-04-22                   106.353        182.059                0.0   \n",
       "2014-04-23                   107.644        171.053                NaN   \n",
       "2014-04-24                   107.869        168.242                NaN   \n",
       "2014-04-25                   107.971        165.539                NaN   \n",
       "...                              ...            ...                ...   \n",
       "2016-04-02                   108.058        196.629                NaN   \n",
       "2016-04-03                   108.044        196.133                NaN   \n",
       "2016-04-04                   108.042        195.665                NaN   \n",
       "2016-04-05                   108.078        193.411                NaN   \n",
       "2016-04-06                   107.857        192.830                NaN   \n",
       "\n",
       "            AVG_CHOKE_SIZE_P  AVG_WHP_P  AVG_WHT_P  DP_CHOKE_SIZE  \\\n",
       "DATEPRD                                                             \n",
       "2014-04-21          20.98975     96.580     19.197         69.776   \n",
       "2014-04-22          43.34345    107.362     37.939         78.935   \n",
       "2014-04-23          47.16752     99.187     60.757         70.627   \n",
       "2014-04-24          47.73231     94.601     63.047         66.049   \n",
       "2014-04-25          48.53377     89.988     64.547         61.405   \n",
       "...                      ...        ...        ...            ...   \n",
       "2016-04-02          54.68774     26.383     69.559         10.681   \n",
       "2016-04-03          54.72411     25.681     72.502          9.910   \n",
       "2016-04-04          55.06795     25.115     71.750          9.197   \n",
       "2016-04-05          55.99813     25.341     72.218          9.101   \n",
       "2016-04-06          45.14344     25.608     66.568          9.830   \n",
       "\n",
       "            BORE_OIL_VOL  BORE_GAS_VOL  BORE_WAT_VOL   FLOW_KIND WELL_TYPE  \n",
       "DATEPRD                                                                     \n",
       "2014-04-21          0.00          0.00          0.00  production        OP  \n",
       "2014-04-22        631.47      90439.09          0.00  production        OP  \n",
       "2014-04-23       1166.46     165720.39          0.00  production        OP  \n",
       "2014-04-24       1549.81     221707.31          0.00  production        OP  \n",
       "2014-04-25       1248.70     178063.52          0.00  production        OP  \n",
       "...                  ...           ...           ...         ...       ...  \n",
       "2016-04-02        284.72      46880.14        766.23  production        OP  \n",
       "2016-04-03        280.17      45842.82        748.25  production        OP  \n",
       "2016-04-04        281.93      45800.83        797.30  production        OP  \n",
       "2016-04-05        317.38      51990.65        792.76  production        OP  \n",
       "2016-04-06        208.00      34998.30        542.39  production        OP  \n",
       "\n",
       "[438 rows x 15 columns]"
      ],
      "text/html": [
       "<div>\n",
       "<style scoped>\n",
       "    .dataframe tbody tr th:only-of-type {\n",
       "        vertical-align: middle;\n",
       "    }\n",
       "\n",
       "    .dataframe tbody tr th {\n",
       "        vertical-align: top;\n",
       "    }\n",
       "\n",
       "    .dataframe thead th {\n",
       "        text-align: right;\n",
       "    }\n",
       "</style>\n",
       "<table border=\"1\" class=\"dataframe\">\n",
       "  <thead>\n",
       "    <tr style=\"text-align: right;\">\n",
       "      <th></th>\n",
       "      <th>NPD_WELL_BORE_NAME</th>\n",
       "      <th>ON_STREAM_HRS</th>\n",
       "      <th>AVG_DOWNHOLE_PRESSURE</th>\n",
       "      <th>AVG_DOWNHOLE_TEMPERATURE</th>\n",
       "      <th>AVG_DP_TUBING</th>\n",
       "      <th>AVG_ANNULUS_PRESS</th>\n",
       "      <th>AVG_CHOKE_SIZE_P</th>\n",
       "      <th>AVG_WHP_P</th>\n",
       "      <th>AVG_WHT_P</th>\n",
       "      <th>DP_CHOKE_SIZE</th>\n",
       "      <th>BORE_OIL_VOL</th>\n",
       "      <th>BORE_GAS_VOL</th>\n",
       "      <th>BORE_WAT_VOL</th>\n",
       "      <th>FLOW_KIND</th>\n",
       "      <th>WELL_TYPE</th>\n",
       "    </tr>\n",
       "    <tr>\n",
       "      <th>DATEPRD</th>\n",
       "      <th></th>\n",
       "      <th></th>\n",
       "      <th></th>\n",
       "      <th></th>\n",
       "      <th></th>\n",
       "      <th></th>\n",
       "      <th></th>\n",
       "      <th></th>\n",
       "      <th></th>\n",
       "      <th></th>\n",
       "      <th></th>\n",
       "      <th></th>\n",
       "      <th></th>\n",
       "      <th></th>\n",
       "      <th></th>\n",
       "    </tr>\n",
       "  </thead>\n",
       "  <tbody>\n",
       "    <tr>\n",
       "      <th>2014-04-21</th>\n",
       "      <td>15/9-F-1 C</td>\n",
       "      <td>11.50</td>\n",
       "      <td>301.376</td>\n",
       "      <td>102.676</td>\n",
       "      <td>204.795</td>\n",
       "      <td>0.0</td>\n",
       "      <td>20.98975</td>\n",
       "      <td>96.580</td>\n",
       "      <td>19.197</td>\n",
       "      <td>69.776</td>\n",
       "      <td>0.00</td>\n",
       "      <td>0.00</td>\n",
       "      <td>0.00</td>\n",
       "      <td>production</td>\n",
       "      <td>OP</td>\n",
       "    </tr>\n",
       "    <tr>\n",
       "      <th>2014-04-22</th>\n",
       "      <td>15/9-F-1 C</td>\n",
       "      <td>24.00</td>\n",
       "      <td>289.421</td>\n",
       "      <td>106.353</td>\n",
       "      <td>182.059</td>\n",
       "      <td>0.0</td>\n",
       "      <td>43.34345</td>\n",
       "      <td>107.362</td>\n",
       "      <td>37.939</td>\n",
       "      <td>78.935</td>\n",
       "      <td>631.47</td>\n",
       "      <td>90439.09</td>\n",
       "      <td>0.00</td>\n",
       "      <td>production</td>\n",
       "      <td>OP</td>\n",
       "    </tr>\n",
       "    <tr>\n",
       "      <th>2014-04-23</th>\n",
       "      <td>15/9-F-1 C</td>\n",
       "      <td>24.00</td>\n",
       "      <td>270.240</td>\n",
       "      <td>107.644</td>\n",
       "      <td>171.053</td>\n",
       "      <td>NaN</td>\n",
       "      <td>47.16752</td>\n",
       "      <td>99.187</td>\n",
       "      <td>60.757</td>\n",
       "      <td>70.627</td>\n",
       "      <td>1166.46</td>\n",
       "      <td>165720.39</td>\n",
       "      <td>0.00</td>\n",
       "      <td>production</td>\n",
       "      <td>OP</td>\n",
       "    </tr>\n",
       "    <tr>\n",
       "      <th>2014-04-24</th>\n",
       "      <td>15/9-F-1 C</td>\n",
       "      <td>24.00</td>\n",
       "      <td>262.843</td>\n",
       "      <td>107.869</td>\n",
       "      <td>168.242</td>\n",
       "      <td>NaN</td>\n",
       "      <td>47.73231</td>\n",
       "      <td>94.601</td>\n",
       "      <td>63.047</td>\n",
       "      <td>66.049</td>\n",
       "      <td>1549.81</td>\n",
       "      <td>221707.31</td>\n",
       "      <td>0.00</td>\n",
       "      <td>production</td>\n",
       "      <td>OP</td>\n",
       "    </tr>\n",
       "    <tr>\n",
       "      <th>2014-04-25</th>\n",
       "      <td>15/9-F-1 C</td>\n",
       "      <td>24.00</td>\n",
       "      <td>255.527</td>\n",
       "      <td>107.971</td>\n",
       "      <td>165.539</td>\n",
       "      <td>NaN</td>\n",
       "      <td>48.53377</td>\n",
       "      <td>89.988</td>\n",
       "      <td>64.547</td>\n",
       "      <td>61.405</td>\n",
       "      <td>1248.70</td>\n",
       "      <td>178063.52</td>\n",
       "      <td>0.00</td>\n",
       "      <td>production</td>\n",
       "      <td>OP</td>\n",
       "    </tr>\n",
       "    <tr>\n",
       "      <th>...</th>\n",
       "      <td>...</td>\n",
       "      <td>...</td>\n",
       "      <td>...</td>\n",
       "      <td>...</td>\n",
       "      <td>...</td>\n",
       "      <td>...</td>\n",
       "      <td>...</td>\n",
       "      <td>...</td>\n",
       "      <td>...</td>\n",
       "      <td>...</td>\n",
       "      <td>...</td>\n",
       "      <td>...</td>\n",
       "      <td>...</td>\n",
       "      <td>...</td>\n",
       "      <td>...</td>\n",
       "    </tr>\n",
       "    <tr>\n",
       "      <th>2016-04-02</th>\n",
       "      <td>15/9-F-1 C</td>\n",
       "      <td>24.00</td>\n",
       "      <td>223.012</td>\n",
       "      <td>108.058</td>\n",
       "      <td>196.629</td>\n",
       "      <td>NaN</td>\n",
       "      <td>54.68774</td>\n",
       "      <td>26.383</td>\n",
       "      <td>69.559</td>\n",
       "      <td>10.681</td>\n",
       "      <td>284.72</td>\n",
       "      <td>46880.14</td>\n",
       "      <td>766.23</td>\n",
       "      <td>production</td>\n",
       "      <td>OP</td>\n",
       "    </tr>\n",
       "    <tr>\n",
       "      <th>2016-04-03</th>\n",
       "      <td>15/9-F-1 C</td>\n",
       "      <td>24.00</td>\n",
       "      <td>221.813</td>\n",
       "      <td>108.044</td>\n",
       "      <td>196.133</td>\n",
       "      <td>NaN</td>\n",
       "      <td>54.72411</td>\n",
       "      <td>25.681</td>\n",
       "      <td>72.502</td>\n",
       "      <td>9.910</td>\n",
       "      <td>280.17</td>\n",
       "      <td>45842.82</td>\n",
       "      <td>748.25</td>\n",
       "      <td>production</td>\n",
       "      <td>OP</td>\n",
       "    </tr>\n",
       "    <tr>\n",
       "      <th>2016-04-04</th>\n",
       "      <td>15/9-F-1 C</td>\n",
       "      <td>24.00</td>\n",
       "      <td>220.780</td>\n",
       "      <td>108.042</td>\n",
       "      <td>195.665</td>\n",
       "      <td>NaN</td>\n",
       "      <td>55.06795</td>\n",
       "      <td>25.115</td>\n",
       "      <td>71.750</td>\n",
       "      <td>9.197</td>\n",
       "      <td>281.93</td>\n",
       "      <td>45800.83</td>\n",
       "      <td>797.30</td>\n",
       "      <td>production</td>\n",
       "      <td>OP</td>\n",
       "    </tr>\n",
       "    <tr>\n",
       "      <th>2016-04-05</th>\n",
       "      <td>15/9-F-1 C</td>\n",
       "      <td>24.00</td>\n",
       "      <td>218.752</td>\n",
       "      <td>108.078</td>\n",
       "      <td>193.411</td>\n",
       "      <td>NaN</td>\n",
       "      <td>55.99813</td>\n",
       "      <td>25.341</td>\n",
       "      <td>72.218</td>\n",
       "      <td>9.101</td>\n",
       "      <td>317.38</td>\n",
       "      <td>51990.65</td>\n",
       "      <td>792.76</td>\n",
       "      <td>production</td>\n",
       "      <td>OP</td>\n",
       "    </tr>\n",
       "    <tr>\n",
       "      <th>2016-04-06</th>\n",
       "      <td>15/9-F-1 C</td>\n",
       "      <td>20.82</td>\n",
       "      <td>218.438</td>\n",
       "      <td>107.857</td>\n",
       "      <td>192.830</td>\n",
       "      <td>NaN</td>\n",
       "      <td>45.14344</td>\n",
       "      <td>25.608</td>\n",
       "      <td>66.568</td>\n",
       "      <td>9.830</td>\n",
       "      <td>208.00</td>\n",
       "      <td>34998.30</td>\n",
       "      <td>542.39</td>\n",
       "      <td>production</td>\n",
       "      <td>OP</td>\n",
       "    </tr>\n",
       "  </tbody>\n",
       "</table>\n",
       "<p>438 rows × 15 columns</p>\n",
       "</div>"
      ]
     },
     "metadata": {},
     "execution_count": 20
    }
   ],
   "metadata": {}
  },
  {
   "cell_type": "code",
   "execution_count": 21,
   "source": [
    "parametros=df_well_1.iloc[:,2:14]"
   ],
   "outputs": [],
   "metadata": {}
  },
  {
   "cell_type": "code",
   "execution_count": 22,
   "source": [
    "from sklearn.impute import SimpleImputer"
   ],
   "outputs": [],
   "metadata": {}
  },
  {
   "cell_type": "code",
   "execution_count": 23,
   "source": [
    "# AAA\n",
    "imp=SimpleImputer(strategy=\"mean\")"
   ],
   "outputs": [],
   "metadata": {}
  },
  {
   "cell_type": "code",
   "execution_count": 24,
   "source": [
    "datos=imp.fit_transform(parametros)"
   ],
   "outputs": [],
   "metadata": {}
  },
  {
   "cell_type": "code",
   "execution_count": 25,
   "source": [
    "datos"
   ],
   "outputs": [
    {
     "output_type": "execute_result",
     "data": {
      "text/plain": [
       "array([[1.1500000e+01, 3.0137600e+02, 1.0267600e+02, ..., 0.0000000e+00,\n",
       "        0.0000000e+00, 0.0000000e+00],\n",
       "       [2.4000000e+01, 2.8942100e+02, 1.0635300e+02, ..., 6.3147000e+02,\n",
       "        9.0439090e+04, 0.0000000e+00],\n",
       "       [2.4000000e+01, 2.7024000e+02, 1.0764400e+02, ..., 1.1664600e+03,\n",
       "        1.6572039e+05, 0.0000000e+00],\n",
       "       ...,\n",
       "       [2.4000000e+01, 2.2078000e+02, 1.0804200e+02, ..., 2.8193000e+02,\n",
       "        4.5800830e+04, 7.9730000e+02],\n",
       "       [2.4000000e+01, 2.1875200e+02, 1.0807800e+02, ..., 3.1738000e+02,\n",
       "        5.1990650e+04, 7.9276000e+02],\n",
       "       [2.0820000e+01, 2.1843800e+02, 1.0785700e+02, ..., 2.0800000e+02,\n",
       "        3.4998300e+04, 5.4239000e+02]])"
      ]
     },
     "metadata": {},
     "execution_count": 25
    }
   ],
   "metadata": {
    "tags": []
   }
  },
  {
   "cell_type": "code",
   "execution_count": 26,
   "source": [
    "df_sin_nan=pd.DataFrame(datos, columns=encabezados)\n",
    "df_sin_nan.isnull().values.sum()\n",
    "df_sin_nan"
   ],
   "outputs": [
    {
     "output_type": "execute_result",
     "data": {
      "text/plain": [
       "0"
      ]
     },
     "metadata": {},
     "execution_count": 26
    }
   ],
   "metadata": {}
  },
  {
   "cell_type": "code",
   "execution_count": 27,
   "source": [
    "df_sin_nan"
   ],
   "outputs": [
    {
     "output_type": "execute_result",
     "data": {
      "text/plain": [
       "     ON_STREAM_HRS  AVG_DOWNHOLE_PRESSURE  AVG_DOWNHOLE_TEMPERATURE  \\\n",
       "0            11.50                301.376                   102.676   \n",
       "1            24.00                289.421                   106.353   \n",
       "2            24.00                270.240                   107.644   \n",
       "3            24.00                262.843                   107.869   \n",
       "4            24.00                255.527                   107.971   \n",
       "..             ...                    ...                       ...   \n",
       "433          24.00                223.012                   108.058   \n",
       "434          24.00                221.813                   108.044   \n",
       "435          24.00                220.780                   108.042   \n",
       "436          24.00                218.752                   108.078   \n",
       "437          20.82                218.438                   107.857   \n",
       "\n",
       "     AVG_DP_TUBING  AVG_ANNULUS_PRESS  AVG_CHOKE_SIZE_P  AVG_WHP_P  AVG_WHT_P  \\\n",
       "0          204.795                0.0          20.98975     96.580     19.197   \n",
       "1          182.059                0.0          43.34345    107.362     37.939   \n",
       "2          171.053                0.0          47.16752     99.187     60.757   \n",
       "3          168.242                0.0          47.73231     94.601     63.047   \n",
       "4          165.539                0.0          48.53377     89.988     64.547   \n",
       "..             ...                ...               ...        ...        ...   \n",
       "433        196.629                0.0          54.68774     26.383     69.559   \n",
       "434        196.133                0.0          54.72411     25.681     72.502   \n",
       "435        195.665                0.0          55.06795     25.115     71.750   \n",
       "436        193.411                0.0          55.99813     25.341     72.218   \n",
       "437        192.830                0.0          45.14344     25.608     66.568   \n",
       "\n",
       "     DP_CHOKE_SIZE  BORE_OIL_VOL  BORE_GAS_VOL  BORE_WAT_VOL  \n",
       "0           69.776          0.00          0.00          0.00  \n",
       "1           78.935        631.47      90439.09          0.00  \n",
       "2           70.627       1166.46     165720.39          0.00  \n",
       "3           66.049       1549.81     221707.31          0.00  \n",
       "4           61.405       1248.70     178063.52          0.00  \n",
       "..             ...           ...           ...           ...  \n",
       "433         10.681        284.72      46880.14        766.23  \n",
       "434          9.910        280.17      45842.82        748.25  \n",
       "435          9.197        281.93      45800.83        797.30  \n",
       "436          9.101        317.38      51990.65        792.76  \n",
       "437          9.830        208.00      34998.30        542.39  \n",
       "\n",
       "[438 rows x 12 columns]"
      ],
      "text/html": [
       "<div>\n",
       "<style scoped>\n",
       "    .dataframe tbody tr th:only-of-type {\n",
       "        vertical-align: middle;\n",
       "    }\n",
       "\n",
       "    .dataframe tbody tr th {\n",
       "        vertical-align: top;\n",
       "    }\n",
       "\n",
       "    .dataframe thead th {\n",
       "        text-align: right;\n",
       "    }\n",
       "</style>\n",
       "<table border=\"1\" class=\"dataframe\">\n",
       "  <thead>\n",
       "    <tr style=\"text-align: right;\">\n",
       "      <th></th>\n",
       "      <th>ON_STREAM_HRS</th>\n",
       "      <th>AVG_DOWNHOLE_PRESSURE</th>\n",
       "      <th>AVG_DOWNHOLE_TEMPERATURE</th>\n",
       "      <th>AVG_DP_TUBING</th>\n",
       "      <th>AVG_ANNULUS_PRESS</th>\n",
       "      <th>AVG_CHOKE_SIZE_P</th>\n",
       "      <th>AVG_WHP_P</th>\n",
       "      <th>AVG_WHT_P</th>\n",
       "      <th>DP_CHOKE_SIZE</th>\n",
       "      <th>BORE_OIL_VOL</th>\n",
       "      <th>BORE_GAS_VOL</th>\n",
       "      <th>BORE_WAT_VOL</th>\n",
       "    </tr>\n",
       "  </thead>\n",
       "  <tbody>\n",
       "    <tr>\n",
       "      <th>0</th>\n",
       "      <td>11.50</td>\n",
       "      <td>301.376</td>\n",
       "      <td>102.676</td>\n",
       "      <td>204.795</td>\n",
       "      <td>0.0</td>\n",
       "      <td>20.98975</td>\n",
       "      <td>96.580</td>\n",
       "      <td>19.197</td>\n",
       "      <td>69.776</td>\n",
       "      <td>0.00</td>\n",
       "      <td>0.00</td>\n",
       "      <td>0.00</td>\n",
       "    </tr>\n",
       "    <tr>\n",
       "      <th>1</th>\n",
       "      <td>24.00</td>\n",
       "      <td>289.421</td>\n",
       "      <td>106.353</td>\n",
       "      <td>182.059</td>\n",
       "      <td>0.0</td>\n",
       "      <td>43.34345</td>\n",
       "      <td>107.362</td>\n",
       "      <td>37.939</td>\n",
       "      <td>78.935</td>\n",
       "      <td>631.47</td>\n",
       "      <td>90439.09</td>\n",
       "      <td>0.00</td>\n",
       "    </tr>\n",
       "    <tr>\n",
       "      <th>2</th>\n",
       "      <td>24.00</td>\n",
       "      <td>270.240</td>\n",
       "      <td>107.644</td>\n",
       "      <td>171.053</td>\n",
       "      <td>0.0</td>\n",
       "      <td>47.16752</td>\n",
       "      <td>99.187</td>\n",
       "      <td>60.757</td>\n",
       "      <td>70.627</td>\n",
       "      <td>1166.46</td>\n",
       "      <td>165720.39</td>\n",
       "      <td>0.00</td>\n",
       "    </tr>\n",
       "    <tr>\n",
       "      <th>3</th>\n",
       "      <td>24.00</td>\n",
       "      <td>262.843</td>\n",
       "      <td>107.869</td>\n",
       "      <td>168.242</td>\n",
       "      <td>0.0</td>\n",
       "      <td>47.73231</td>\n",
       "      <td>94.601</td>\n",
       "      <td>63.047</td>\n",
       "      <td>66.049</td>\n",
       "      <td>1549.81</td>\n",
       "      <td>221707.31</td>\n",
       "      <td>0.00</td>\n",
       "    </tr>\n",
       "    <tr>\n",
       "      <th>4</th>\n",
       "      <td>24.00</td>\n",
       "      <td>255.527</td>\n",
       "      <td>107.971</td>\n",
       "      <td>165.539</td>\n",
       "      <td>0.0</td>\n",
       "      <td>48.53377</td>\n",
       "      <td>89.988</td>\n",
       "      <td>64.547</td>\n",
       "      <td>61.405</td>\n",
       "      <td>1248.70</td>\n",
       "      <td>178063.52</td>\n",
       "      <td>0.00</td>\n",
       "    </tr>\n",
       "    <tr>\n",
       "      <th>...</th>\n",
       "      <td>...</td>\n",
       "      <td>...</td>\n",
       "      <td>...</td>\n",
       "      <td>...</td>\n",
       "      <td>...</td>\n",
       "      <td>...</td>\n",
       "      <td>...</td>\n",
       "      <td>...</td>\n",
       "      <td>...</td>\n",
       "      <td>...</td>\n",
       "      <td>...</td>\n",
       "      <td>...</td>\n",
       "    </tr>\n",
       "    <tr>\n",
       "      <th>433</th>\n",
       "      <td>24.00</td>\n",
       "      <td>223.012</td>\n",
       "      <td>108.058</td>\n",
       "      <td>196.629</td>\n",
       "      <td>0.0</td>\n",
       "      <td>54.68774</td>\n",
       "      <td>26.383</td>\n",
       "      <td>69.559</td>\n",
       "      <td>10.681</td>\n",
       "      <td>284.72</td>\n",
       "      <td>46880.14</td>\n",
       "      <td>766.23</td>\n",
       "    </tr>\n",
       "    <tr>\n",
       "      <th>434</th>\n",
       "      <td>24.00</td>\n",
       "      <td>221.813</td>\n",
       "      <td>108.044</td>\n",
       "      <td>196.133</td>\n",
       "      <td>0.0</td>\n",
       "      <td>54.72411</td>\n",
       "      <td>25.681</td>\n",
       "      <td>72.502</td>\n",
       "      <td>9.910</td>\n",
       "      <td>280.17</td>\n",
       "      <td>45842.82</td>\n",
       "      <td>748.25</td>\n",
       "    </tr>\n",
       "    <tr>\n",
       "      <th>435</th>\n",
       "      <td>24.00</td>\n",
       "      <td>220.780</td>\n",
       "      <td>108.042</td>\n",
       "      <td>195.665</td>\n",
       "      <td>0.0</td>\n",
       "      <td>55.06795</td>\n",
       "      <td>25.115</td>\n",
       "      <td>71.750</td>\n",
       "      <td>9.197</td>\n",
       "      <td>281.93</td>\n",
       "      <td>45800.83</td>\n",
       "      <td>797.30</td>\n",
       "    </tr>\n",
       "    <tr>\n",
       "      <th>436</th>\n",
       "      <td>24.00</td>\n",
       "      <td>218.752</td>\n",
       "      <td>108.078</td>\n",
       "      <td>193.411</td>\n",
       "      <td>0.0</td>\n",
       "      <td>55.99813</td>\n",
       "      <td>25.341</td>\n",
       "      <td>72.218</td>\n",
       "      <td>9.101</td>\n",
       "      <td>317.38</td>\n",
       "      <td>51990.65</td>\n",
       "      <td>792.76</td>\n",
       "    </tr>\n",
       "    <tr>\n",
       "      <th>437</th>\n",
       "      <td>20.82</td>\n",
       "      <td>218.438</td>\n",
       "      <td>107.857</td>\n",
       "      <td>192.830</td>\n",
       "      <td>0.0</td>\n",
       "      <td>45.14344</td>\n",
       "      <td>25.608</td>\n",
       "      <td>66.568</td>\n",
       "      <td>9.830</td>\n",
       "      <td>208.00</td>\n",
       "      <td>34998.30</td>\n",
       "      <td>542.39</td>\n",
       "    </tr>\n",
       "  </tbody>\n",
       "</table>\n",
       "<p>438 rows × 12 columns</p>\n",
       "</div>"
      ]
     },
     "metadata": {},
     "execution_count": 27
    }
   ],
   "metadata": {}
  },
  {
   "cell_type": "markdown",
   "source": [
    "### limpieza de outliers de la columna AVG_DOWNHOLE_PRESSURE"
   ],
   "metadata": {}
  },
  {
   "cell_type": "code",
   "execution_count": 28,
   "source": [
    "figuresizes = (5,5)\n",
    "plt.figure(figsize=figuresizes)\n",
    "sns.boxplot(y = 'AVG_DOWNHOLE_PRESSURE', data=df_sin_nan)"
   ],
   "outputs": [
    {
     "output_type": "execute_result",
     "data": {
      "text/plain": [
       "<AxesSubplot:ylabel='AVG_DOWNHOLE_PRESSURE'>"
      ]
     },
     "metadata": {},
     "execution_count": 28
    },
    {
     "output_type": "display_data",
     "data": {
      "text/plain": [
       "<Figure size 360x360 with 1 Axes>"
      ],
      "image/png": "[encoded data removed]"
     },
     "metadata": {
      "needs_background": "light"
     }
    }
   ],
   "metadata": {}
  },
  {
   "cell_type": "code",
   "execution_count": 29,
   "source": [
    "min_value=df_sin_nan.AVG_DOWNHOLE_PRESSURE.min()\n",
    "print(\"min: \",min_value)\n",
    "\n",
    "max_value=df_sin_nan.AVG_DOWNHOLE_PRESSURE.max()\n",
    "print(\"max: \",max_value)\n",
    "\n",
    "median_value=df_sin_nan.AVG_DOWNHOLE_PRESSURE.median()\n",
    "print(\"median: \",median_value)\n",
    "\n",
    "Q1=df_sin_nan[\"AVG_DOWNHOLE_PRESSURE\"].quantile(0.25)\n",
    "print(\"Q1: \",Q1)\n",
    "\n",
    "Q3=df_sin_nan[\"AVG_DOWNHOLE_PRESSURE\"].quantile(0.75)\n",
    "print(\"Q3: \",Q3)\n",
    "\n",
    "IQR=Q3-Q1\n",
    "print(\"IQR: \",IQR)\n",
    "\n",
    "lower_whisker_p1c1=Q1-0.8*IQR\n",
    "print(\"lower whisker: \",lower_whisker_p1c1)\n",
    "\n",
    "upper_whisker_p1c1=Q3+1.5*IQR\n",
    "print(\"upper wiscker: \",upper_whisker_p1c1)\n",
    "\n",
    "\n"
   ],
   "outputs": [
    {
     "output_type": "stream",
     "name": "stdout",
     "text": [
      "min:  207.219\n",
      "max:  301.376\n",
      "median:  224.6395\n",
      "Q1:  219.51\n",
      "Q3:  241.23975000000002\n",
      "IQR:  21.729750000000024\n",
      "lower whisker:  202.12619999999998\n",
      "upper wiscker:  273.834375\n"
     ]
    }
   ],
   "metadata": {}
  },
  {
   "cell_type": "code",
   "execution_count": 30,
   "source": [
    "df_final_downpres=df_sin_nan[df_sin_nan[\"AVG_DOWNHOLE_PRESSURE\"]<upper_whisker_p1c1]\n",
    "df_final_downpres.shape"
   ],
   "outputs": [
    {
     "output_type": "execute_result",
     "data": {
      "text/plain": [
       "(421, 12)"
      ]
     },
     "metadata": {},
     "execution_count": 30
    }
   ],
   "metadata": {}
  },
  {
   "cell_type": "code",
   "execution_count": 31,
   "source": [
    "df_final_downpres.AVG_DOWNHOLE_PRESSURE.mean()"
   ],
   "outputs": [
    {
     "output_type": "execute_result",
     "data": {
      "text/plain": [
       "229.08447743467934"
      ]
     },
     "metadata": {},
     "execution_count": 31
    }
   ],
   "metadata": {}
  },
  {
   "cell_type": "code",
   "execution_count": 32,
   "source": [
    "figuresizes = (5,5)\n",
    "plt.figure(figsize=figuresizes)\n",
    "sns.boxplot(y = 'AVG_DOWNHOLE_PRESSURE', data=df_final_downpres)"
   ],
   "outputs": [
    {
     "output_type": "execute_result",
     "data": {
      "text/plain": [
       "<AxesSubplot:ylabel='AVG_DOWNHOLE_PRESSURE'>"
      ]
     },
     "metadata": {},
     "execution_count": 32
    },
    {
     "output_type": "display_data",
     "data": {
      "text/plain": [
       "<Figure size 360x360 with 1 Axes>"
      ],
      "image/png": "[encoded data removed]"
     },
     "metadata": {
      "needs_background": "light"
     }
    }
   ],
   "metadata": {}
  },
  {
   "cell_type": "code",
   "execution_count": 33,
   "source": [
    "df_modif_col1=df_sin_nan.AVG_DOWNHOLE_PRESSURE.where(df_sin_nan.AVG_DOWNHOLE_PRESSURE<upper_whisker_p1c1,df_final_downpres.AVG_DOWNHOLE_PRESSURE.median())\n",
    "df_modif_col1"
   ],
   "outputs": [
    {
     "output_type": "execute_result",
     "data": {
      "text/plain": [
       "0      223.935\n",
       "1      223.935\n",
       "2      270.240\n",
       "3      262.843\n",
       "4      255.527\n",
       "        ...   \n",
       "433    223.012\n",
       "434    221.813\n",
       "435    220.780\n",
       "436    218.752\n",
       "437    218.438\n",
       "Name: AVG_DOWNHOLE_PRESSURE, Length: 438, dtype: float64"
      ]
     },
     "metadata": {},
     "execution_count": 33
    }
   ],
   "metadata": {}
  },
  {
   "cell_type": "code",
   "execution_count": 34,
   "source": [
    "figuresizes = (5,5)\n",
    "plt.figure(figsize=figuresizes)\n",
    "sns.boxplot(data=df_modif_col1)"
   ],
   "outputs": [
    {
     "output_type": "execute_result",
     "data": {
      "text/plain": [
       "<AxesSubplot:>"
      ]
     },
     "metadata": {},
     "execution_count": 34
    },
    {
     "output_type": "display_data",
     "data": {
      "text/plain": [
       "<Figure size 360x360 with 1 Axes>"
      ],
      "image/png": "[encoded data removed]"
     },
     "metadata": {
      "needs_background": "light"
     }
    }
   ],
   "metadata": {}
  },
  {
   "cell_type": "markdown",
   "source": [
    "### limpieza de outliers de la columna AVG_DOWNHOLE_TEMPERATURE"
   ],
   "metadata": {}
  },
  {
   "cell_type": "code",
   "execution_count": 35,
   "source": [
    "figuresizes = (5,5)\n",
    "plt.figure(figsize=figuresizes)\n",
    "sns.boxplot(y = 'AVG_DOWNHOLE_TEMPERATURE', data=df_sin_nan)"
   ],
   "outputs": [
    {
     "output_type": "execute_result",
     "data": {
      "text/plain": [
       "<AxesSubplot:ylabel='AVG_DOWNHOLE_TEMPERATURE'>"
      ]
     },
     "metadata": {},
     "execution_count": 35
    },
    {
     "output_type": "display_data",
     "data": {
      "text/plain": [
       "<Figure size 360x360 with 1 Axes>"
      ],
      "image/png": "[encoded data removed]"
     },
     "metadata": {
      "needs_background": "light"
     }
    }
   ],
   "metadata": {}
  },
  {
   "cell_type": "code",
   "execution_count": 36,
   "source": [
    "Q1=df_sin_nan[\"AVG_DOWNHOLE_TEMPERATURE\"].quantile(0.25)\n",
    "Q3=df_sin_nan[\"AVG_DOWNHOLE_TEMPERATURE\"].quantile(0.75)\n",
    "IQR=Q3-Q1\n",
    "lower_whisker_p1c2=Q1-1*IQR\n",
    "upper_whisker_p1c2=Q3+1*IQR\n",
    "print(lower_whisker_p1c2)\n",
    "print(upper_whisker_p1c2)"
   ],
   "outputs": [
    {
     "output_type": "stream",
     "name": "stdout",
     "text": [
      "107.70750000000001\n",
      "108.46875\n"
     ]
    }
   ],
   "metadata": {}
  },
  {
   "cell_type": "code",
   "execution_count": 37,
   "source": [
    "df_final_downtemp=df_sin_nan[df_sin_nan[\"AVG_DOWNHOLE_TEMPERATURE\"]>lower_whisker_p1c2]\n",
    "df_final_downtemp.shape"
   ],
   "outputs": [
    {
     "output_type": "execute_result",
     "data": {
      "text/plain": [
       "(391, 12)"
      ]
     },
     "metadata": {},
     "execution_count": 37
    }
   ],
   "metadata": {}
  },
  {
   "cell_type": "code",
   "execution_count": 38,
   "source": [
    "figuresizes = (5,5)\n",
    "plt.figure(figsize=figuresizes)\n",
    "sns.boxplot(y = 'AVG_DOWNHOLE_TEMPERATURE', data=df_final_downtemp)"
   ],
   "outputs": [
    {
     "output_type": "execute_result",
     "data": {
      "text/plain": [
       "<AxesSubplot:ylabel='AVG_DOWNHOLE_TEMPERATURE'>"
      ]
     },
     "metadata": {},
     "execution_count": 38
    },
    {
     "output_type": "display_data",
     "data": {
      "text/plain": [
       "<Figure size 360x360 with 1 Axes>"
      ],
      "image/png": "[encoded data removed]"
     },
     "metadata": {
      "needs_background": "light"
     }
    }
   ],
   "metadata": {}
  },
  {
   "cell_type": "code",
   "execution_count": 39,
   "source": [
    "df_modif_col2=df_sin_nan.AVG_DOWNHOLE_TEMPERATURE.where(df_sin_nan.AVG_DOWNHOLE_TEMPERATURE>lower_whisker_p1c2,df_final_downtemp.AVG_DOWNHOLE_TEMPERATURE.mean())\n",
    "df_modif_col2"
   ],
   "outputs": [
    {
     "output_type": "execute_result",
     "data": {
      "text/plain": [
       "0      108.124327\n",
       "1      108.124327\n",
       "2      108.124327\n",
       "3      107.869000\n",
       "4      107.971000\n",
       "          ...    \n",
       "433    108.058000\n",
       "434    108.044000\n",
       "435    108.042000\n",
       "436    108.078000\n",
       "437    107.857000\n",
       "Name: AVG_DOWNHOLE_TEMPERATURE, Length: 438, dtype: float64"
      ]
     },
     "metadata": {},
     "execution_count": 39
    }
   ],
   "metadata": {}
  },
  {
   "cell_type": "code",
   "execution_count": 40,
   "source": [
    "figuresizes = (5,5)\n",
    "plt.figure(figsize=figuresizes)\n",
    "sns.boxplot(data=df_modif_col2)"
   ],
   "outputs": [
    {
     "output_type": "execute_result",
     "data": {
      "text/plain": [
       "<AxesSubplot:>"
      ]
     },
     "metadata": {},
     "execution_count": 40
    },
    {
     "output_type": "display_data",
     "data": {
      "text/plain": [
       "<Figure size 360x360 with 1 Axes>"
      ],
      "image/png": "[encoded data removed]"
     },
     "metadata": {
      "needs_background": "light"
     }
    }
   ],
   "metadata": {}
  },
  {
   "cell_type": "markdown",
   "source": [
    "### limpieza de outliers de la columna AVG_DP_TUBING"
   ],
   "metadata": {}
  },
  {
   "cell_type": "code",
   "execution_count": 41,
   "source": [
    "figuresizes = (5,5)\n",
    "plt.figure(figsize=figuresizes)\n",
    "sns.boxplot(y = 'AVG_DP_TUBING', data=df_sin_nan)"
   ],
   "outputs": [
    {
     "output_type": "execute_result",
     "data": {
      "text/plain": [
       "<AxesSubplot:ylabel='AVG_DP_TUBING'>"
      ]
     },
     "metadata": {},
     "execution_count": 41
    },
    {
     "output_type": "display_data",
     "data": {
      "text/plain": [
       "<Figure size 360x360 with 1 Axes>"
      ],
      "image/png": "[encoded data removed]"
     },
     "metadata": {
      "needs_background": "light"
     }
    }
   ],
   "metadata": {}
  },
  {
   "cell_type": "code",
   "execution_count": 42,
   "source": [
    "Q1=df_sin_nan[\"AVG_DP_TUBING\"].quantile(0.25)\n",
    "Q3=df_sin_nan[\"AVG_DP_TUBING\"].quantile(0.75)\n",
    "IQR=Q3-Q1\n",
    "lower_whisker_p1c3=Q1-1.5*IQR\n",
    "upper_whisker_p1c3=Q3+1.5*IQR\n",
    "print(lower_whisker_p1c3)\n",
    "print(upper_whisker_p1c3)"
   ],
   "outputs": [
    {
     "output_type": "stream",
     "name": "stdout",
     "text": [
      "123.73574999999997\n",
      "252.04975000000005\n"
     ]
    }
   ],
   "metadata": {}
  },
  {
   "cell_type": "code",
   "execution_count": 43,
   "source": [
    "df_final_dptubing=df_sin_nan[df_sin_nan[\"AVG_DP_TUBING\"]<upper_whisker_p1c3]\n",
    "df_final_dptubing.shape"
   ],
   "outputs": [
    {
     "output_type": "execute_result",
     "data": {
      "text/plain": [
       "(437, 12)"
      ]
     },
     "metadata": {},
     "execution_count": 43
    }
   ],
   "metadata": {}
  },
  {
   "cell_type": "code",
   "execution_count": 44,
   "source": [
    "figuresizes = (5,5)\n",
    "plt.figure(figsize=figuresizes)\n",
    "sns.boxplot(y = 'AVG_DP_TUBING', data=df_final_dptubing)"
   ],
   "outputs": [
    {
     "output_type": "execute_result",
     "data": {
      "text/plain": [
       "<AxesSubplot:ylabel='AVG_DP_TUBING'>"
      ]
     },
     "metadata": {},
     "execution_count": 44
    },
    {
     "output_type": "display_data",
     "data": {
      "text/plain": [
       "<Figure size 360x360 with 1 Axes>"
      ],
      "image/png": "[encoded data removed]"
     },
     "metadata": {
      "needs_background": "light"
     }
    }
   ],
   "metadata": {}
  },
  {
   "cell_type": "code",
   "execution_count": 45,
   "source": [
    "df_modif_col3=df_sin_nan.AVG_DP_TUBING.where(df_sin_nan.AVG_DP_TUBING<upper_whisker_p1c3,df_final_dptubing.AVG_DP_TUBING.mean())\n",
    "df_modif_col3"
   ],
   "outputs": [
    {
     "output_type": "execute_result",
     "data": {
      "text/plain": [
       "0      204.795\n",
       "1      182.059\n",
       "2      171.053\n",
       "3      168.242\n",
       "4      165.539\n",
       "        ...   \n",
       "433    196.629\n",
       "434    196.133\n",
       "435    195.665\n",
       "436    193.411\n",
       "437    192.830\n",
       "Name: AVG_DP_TUBING, Length: 438, dtype: float64"
      ]
     },
     "metadata": {},
     "execution_count": 45
    }
   ],
   "metadata": {}
  },
  {
   "cell_type": "markdown",
   "source": [
    "### limpieza de outliers de la columna AVG_CHOKE_SIZE_P"
   ],
   "metadata": {}
  },
  {
   "cell_type": "code",
   "execution_count": 46,
   "source": [
    "figuresizes = (5,5)\n",
    "plt.figure(figsize=figuresizes)\n",
    "sns.boxplot(y = 'AVG_CHOKE_SIZE_P', data=df_sin_nan)"
   ],
   "outputs": [
    {
     "output_type": "execute_result",
     "data": {
      "text/plain": [
       "<AxesSubplot:ylabel='AVG_CHOKE_SIZE_P'>"
      ]
     },
     "metadata": {},
     "execution_count": 46
    },
    {
     "output_type": "display_data",
     "data": {
      "text/plain": [
       "<Figure size 360x360 with 1 Axes>"
      ],
      "image/png": "[encoded data removed]"
     },
     "metadata": {
      "needs_background": "light"
     }
    }
   ],
   "metadata": {}
  },
  {
   "cell_type": "code",
   "execution_count": 47,
   "source": [
    "Q1=df_sin_nan[\"AVG_CHOKE_SIZE_P\"].quantile(0.25)\n",
    "Q3=df_sin_nan[\"AVG_CHOKE_SIZE_P\"].quantile(0.75)\n",
    "IQR=Q3-Q1\n",
    "lower_whisker_p1c5=Q1-1.1*IQR\n",
    "upper_whisker_p1c5=Q3+1.1*IQR\n",
    "print(lower_whisker_p1c5)\n",
    "print(upper_whisker_p1c5)"
   ],
   "outputs": [
    {
     "output_type": "stream",
     "name": "stdout",
     "text": [
      "40.97033025\n",
      "60.44968225\n"
     ]
    }
   ],
   "metadata": {}
  },
  {
   "cell_type": "code",
   "execution_count": 48,
   "source": [
    "df_chokesizep=df_sin_nan[df_sin_nan[\"AVG_CHOKE_SIZE_P\"]<upper_whisker_p1c5]\n",
    "df_chokesizep.shape"
   ],
   "outputs": [
    {
     "output_type": "execute_result",
     "data": {
      "text/plain": [
       "(407, 12)"
      ]
     },
     "metadata": {},
     "execution_count": 48
    }
   ],
   "metadata": {}
  },
  {
   "cell_type": "code",
   "execution_count": 49,
   "source": [
    "df_final_chokesizep=df_chokesizep[df_chokesizep[\"AVG_CHOKE_SIZE_P\"]>lower_whisker_p1c5]\n",
    "df_final_chokesizep.shape"
   ],
   "outputs": [
    {
     "output_type": "execute_result",
     "data": {
      "text/plain": [
       "(370, 12)"
      ]
     },
     "metadata": {},
     "execution_count": 49
    }
   ],
   "metadata": {}
  },
  {
   "cell_type": "code",
   "execution_count": 50,
   "source": [
    "figuresizes = (5,5)\n",
    "plt.figure(figsize=figuresizes)\n",
    "sns.boxplot(y = 'AVG_CHOKE_SIZE_P', data=df_final_chokesizep)"
   ],
   "outputs": [
    {
     "output_type": "execute_result",
     "data": {
      "text/plain": [
       "<AxesSubplot:ylabel='AVG_CHOKE_SIZE_P'>"
      ]
     },
     "metadata": {},
     "execution_count": 50
    },
    {
     "output_type": "display_data",
     "data": {
      "text/plain": [
       "<Figure size 360x360 with 1 Axes>"
      ],
      "image/png": "[encoded data removed]"
     },
     "metadata": {
      "needs_background": "light"
     }
    }
   ],
   "metadata": {}
  },
  {
   "cell_type": "code",
   "execution_count": 51,
   "source": [
    "df_modif_col51=df_sin_nan.AVG_CHOKE_SIZE_P.where(df_sin_nan.AVG_CHOKE_SIZE_P>lower_whisker_p1c5,df_final_chokesizep.AVG_CHOKE_SIZE_P.mean())\n",
    "df_modif_col5=df_modif_col51.where(df_modif_col51<upper_whisker_p1c5,df_final_chokesizep.AVG_CHOKE_SIZE_P.mean())\n",
    "df_modif_col5"
   ],
   "outputs": [
    {
     "output_type": "execute_result",
     "data": {
      "text/plain": [
       "0      50.987051\n",
       "1      43.343450\n",
       "2      47.167520\n",
       "3      47.732310\n",
       "4      48.533770\n",
       "         ...    \n",
       "433    54.687740\n",
       "434    54.724110\n",
       "435    55.067950\n",
       "436    55.998130\n",
       "437    45.143440\n",
       "Name: AVG_CHOKE_SIZE_P, Length: 438, dtype: float64"
      ]
     },
     "metadata": {},
     "execution_count": 51
    }
   ],
   "metadata": {}
  },
  {
   "cell_type": "markdown",
   "source": [
    "### limpieza de outliers de la columna AVG_WHP_P"
   ],
   "metadata": {}
  },
  {
   "cell_type": "code",
   "execution_count": 52,
   "source": [
    "figuresizes = (5,5)\n",
    "plt.figure(figsize=figuresizes)\n",
    "sns.boxplot(y = 'AVG_WHP_P', data=df_sin_nan)"
   ],
   "outputs": [
    {
     "output_type": "execute_result",
     "data": {
      "text/plain": [
       "<AxesSubplot:ylabel='AVG_WHP_P'>"
      ]
     },
     "metadata": {},
     "execution_count": 52
    },
    {
     "output_type": "display_data",
     "data": {
      "text/plain": [
       "<Figure size 360x360 with 1 Axes>"
      ],
      "image/png": "[encoded data removed]"
     },
     "metadata": {
      "needs_background": "light"
     }
    }
   ],
   "metadata": {}
  },
  {
   "cell_type": "code",
   "execution_count": 53,
   "source": [
    "Q1=df_sin_nan[\"AVG_WHP_P\"].quantile(0.25)\n",
    "Q3=df_sin_nan[\"AVG_WHP_P\"].quantile(0.75)\n",
    "IQR=Q3-Q1\n",
    "lower_whisker_p1c6=Q1-0.8*IQR\n",
    "upper_whisker_p1c6=Q3\n",
    "print(lower_whisker_p1c6)\n",
    "print(upper_whisker_p1c6)"
   ],
   "outputs": [
    {
     "output_type": "stream",
     "name": "stdout",
     "text": [
      "18.096650000000004\n",
      "49.93325\n"
     ]
    }
   ],
   "metadata": {}
  },
  {
   "cell_type": "code",
   "execution_count": 54,
   "source": [
    "df_whpP=df_sin_nan[df_sin_nan[\"AVG_WHP_P\"]<upper_whisker_p1c6]\n",
    "df_whpP.shape"
   ],
   "outputs": [
    {
     "output_type": "execute_result",
     "data": {
      "text/plain": [
       "(328, 12)"
      ]
     },
     "metadata": {},
     "execution_count": 54
    }
   ],
   "metadata": {}
  },
  {
   "cell_type": "code",
   "execution_count": 55,
   "source": [
    "df_final_whpP=df_whpP[df_whpP[\"AVG_WHP_P\"]>lower_whisker_p1c6]\n",
    "df_final_whpP.shape"
   ],
   "outputs": [
    {
     "output_type": "execute_result",
     "data": {
      "text/plain": [
       "(325, 12)"
      ]
     },
     "metadata": {},
     "execution_count": 55
    }
   ],
   "metadata": {}
  },
  {
   "cell_type": "code",
   "execution_count": 56,
   "source": [
    "figuresizes = (5,5)\n",
    "plt.figure(figsize=figuresizes)\n",
    "sns.boxplot(y = 'AVG_WHP_P', data=df_final_whpP)"
   ],
   "outputs": [
    {
     "output_type": "execute_result",
     "data": {
      "text/plain": [
       "<AxesSubplot:ylabel='AVG_WHP_P'>"
      ]
     },
     "metadata": {},
     "execution_count": 56
    },
    {
     "output_type": "display_data",
     "data": {
      "text/plain": [
       "<Figure size 360x360 with 1 Axes>"
      ],
      "image/png": "[encoded data removed]"
     },
     "metadata": {
      "needs_background": "light"
     }
    }
   ],
   "metadata": {}
  },
  {
   "cell_type": "code",
   "execution_count": 57,
   "source": [
    "df_modif_col61=df_sin_nan.AVG_WHP_P.where(df_sin_nan.AVG_WHP_P>lower_whisker_p1c6,df_final_whpP.AVG_WHP_P.mean())\n",
    "df_modif_col6=df_modif_col61.where(df_modif_col61<upper_whisker_p1c6,df_final_whpP.AVG_WHP_P.mean())\n",
    "df_modif_col61"
   ],
   "outputs": [
    {
     "output_type": "execute_result",
     "data": {
      "text/plain": [
       "0       96.580\n",
       "1      107.362\n",
       "2       99.187\n",
       "3       94.601\n",
       "4       89.988\n",
       "        ...   \n",
       "433     26.383\n",
       "434     25.681\n",
       "435     25.115\n",
       "436     25.341\n",
       "437     25.608\n",
       "Name: AVG_WHP_P, Length: 438, dtype: float64"
      ]
     },
     "metadata": {},
     "execution_count": 57
    }
   ],
   "metadata": {}
  },
  {
   "cell_type": "markdown",
   "source": [
    "### limpieza de outliers de la columna AVG_WHT_P"
   ],
   "metadata": {}
  },
  {
   "cell_type": "code",
   "execution_count": 58,
   "source": [
    "figuresizes = (5,5)\n",
    "plt.figure(figsize=figuresizes)\n",
    "sns.boxplot(y = 'AVG_WHT_P', data=df_sin_nan)"
   ],
   "outputs": [
    {
     "output_type": "execute_result",
     "data": {
      "text/plain": [
       "<AxesSubplot:ylabel='AVG_WHT_P'>"
      ]
     },
     "metadata": {},
     "execution_count": 58
    },
    {
     "output_type": "display_data",
     "data": {
      "text/plain": [
       "<Figure size 360x360 with 1 Axes>"
      ],
      "image/png": "[encoded data removed]"
     },
     "metadata": {
      "needs_background": "light"
     }
    }
   ],
   "metadata": {}
  },
  {
   "cell_type": "code",
   "execution_count": 59,
   "source": [
    "Q1=df_sin_nan[\"AVG_WHT_P\"].quantile(0.25)\n",
    "Q3=df_sin_nan[\"AVG_WHT_P\"].quantile(0.75)\n",
    "IQR=Q3-Q1\n",
    "lower_whisker_p1c7=Q1-1.4*IQR\n",
    "upper_whisker_p1c7=Q3+1.4*IQR\n",
    "print(lower_whisker_p1c7)\n",
    "print(upper_whisker_p1c7)"
   ],
   "outputs": [
    {
     "output_type": "stream",
     "name": "stdout",
     "text": [
      "35.831450000000004\n",
      "89.7278\n"
     ]
    }
   ],
   "metadata": {}
  },
  {
   "cell_type": "code",
   "execution_count": 60,
   "source": [
    "df_whtP=df_sin_nan[df_sin_nan[\"AVG_WHT_P\"]>lower_whisker_p1c7]\n",
    "df_whtP.shape"
   ],
   "outputs": [
    {
     "output_type": "execute_result",
     "data": {
      "text/plain": [
       "(421, 12)"
      ]
     },
     "metadata": {},
     "execution_count": 60
    }
   ],
   "metadata": {}
  },
  {
   "cell_type": "code",
   "execution_count": 61,
   "source": [
    "figuresizes = (5,5)\n",
    "plt.figure(figsize=figuresizes)\n",
    "sns.boxplot(y = 'AVG_WHT_P', data=df_whtP)"
   ],
   "outputs": [
    {
     "output_type": "execute_result",
     "data": {
      "text/plain": [
       "<AxesSubplot:ylabel='AVG_WHT_P'>"
      ]
     },
     "metadata": {},
     "execution_count": 61
    },
    {
     "output_type": "display_data",
     "data": {
      "text/plain": [
       "<Figure size 360x360 with 1 Axes>"
      ],
      "image/png": "[encoded data removed]"
     },
     "metadata": {
      "needs_background": "light"
     }
    }
   ],
   "metadata": {}
  },
  {
   "cell_type": "code",
   "execution_count": 62,
   "source": [
    "df_modif_col7=df_sin_nan.AVG_WHT_P.where(df_sin_nan.AVG_WHT_P>lower_whisker_p1c7,df_whtP.AVG_WHT_P.mean())\n",
    "df_modif_col7"
   ],
   "outputs": [
    {
     "output_type": "execute_result",
     "data": {
      "text/plain": [
       "0      62.420736\n",
       "1      37.939000\n",
       "2      60.757000\n",
       "3      63.047000\n",
       "4      64.547000\n",
       "         ...    \n",
       "433    69.559000\n",
       "434    72.502000\n",
       "435    71.750000\n",
       "436    72.218000\n",
       "437    66.568000\n",
       "Name: AVG_WHT_P, Length: 438, dtype: float64"
      ]
     },
     "metadata": {},
     "execution_count": 62
    }
   ],
   "metadata": {}
  },
  {
   "cell_type": "markdown",
   "source": [
    "### limpieza de outliers de la columna DP_CHOKE_SIZE"
   ],
   "metadata": {}
  },
  {
   "cell_type": "code",
   "execution_count": 63,
   "source": [
    "figuresizes = (5,5)\n",
    "plt.figure(figsize=figuresizes)\n",
    "sns.boxplot(y = 'DP_CHOKE_SIZE', data=df_sin_nan)"
   ],
   "outputs": [
    {
     "output_type": "execute_result",
     "data": {
      "text/plain": [
       "<AxesSubplot:ylabel='DP_CHOKE_SIZE'>"
      ]
     },
     "metadata": {},
     "execution_count": 63
    },
    {
     "output_type": "display_data",
     "data": {
      "text/plain": [
       "<Figure size 360x360 with 1 Axes>"
      ],
      "image/png": "[encoded data removed]"
     },
     "metadata": {
      "needs_background": "light"
     }
    }
   ],
   "metadata": {}
  },
  {
   "cell_type": "code",
   "execution_count": 64,
   "source": [
    "Q1=df_sin_nan[\"DP_CHOKE_SIZE\"].quantile(0.25)\n",
    "Q3=df_sin_nan[\"DP_CHOKE_SIZE\"].quantile(0.75)\n",
    "IQR=Q3-Q1\n",
    "lower_whisker_p1c8=Q1-0.19*IQR\n",
    "upper_whisker_p1c8=Q3+0.19*IQR\n",
    "print(lower_whisker_p1c8)\n",
    "print(upper_whisker_p1c8)"
   ],
   "outputs": [
    {
     "output_type": "stream",
     "name": "stdout",
     "text": [
      "5.233945\n",
      "25.671055\n"
     ]
    }
   ],
   "metadata": {}
  },
  {
   "cell_type": "code",
   "execution_count": 65,
   "source": [
    "df_choke_size=df_sin_nan[df_sin_nan[\"DP_CHOKE_SIZE\"]<upper_whisker_p1c8]\n",
    "df_choke_size.shape"
   ],
   "outputs": [
    {
     "output_type": "execute_result",
     "data": {
      "text/plain": [
       "(340, 12)"
      ]
     },
     "metadata": {},
     "execution_count": 65
    }
   ],
   "metadata": {}
  },
  {
   "cell_type": "code",
   "execution_count": 66,
   "source": [
    "figuresizes = (5,5)\n",
    "plt.figure(figsize=figuresizes)\n",
    "sns.boxplot(y = 'DP_CHOKE_SIZE', data=df_choke_size)"
   ],
   "outputs": [
    {
     "output_type": "execute_result",
     "data": {
      "text/plain": [
       "<AxesSubplot:ylabel='DP_CHOKE_SIZE'>"
      ]
     },
     "metadata": {},
     "execution_count": 66
    },
    {
     "output_type": "display_data",
     "data": {
      "text/plain": [
       "<Figure size 360x360 with 1 Axes>"
      ],
      "image/png": "[encoded data removed]"
     },
     "metadata": {
      "needs_background": "light"
     }
    }
   ],
   "metadata": {}
  },
  {
   "cell_type": "code",
   "execution_count": 67,
   "source": [
    "df_modif_col8=df_sin_nan.DP_CHOKE_SIZE.where(df_sin_nan.DP_CHOKE_SIZE<upper_whisker_p1c8,df_choke_size.DP_CHOKE_SIZE.mean())\n",
    "df_modif_col8"
   ],
   "outputs": [
    {
     "output_type": "execute_result",
     "data": {
      "text/plain": [
       "0      11.025647\n",
       "1      11.025647\n",
       "2      11.025647\n",
       "3      11.025647\n",
       "4      11.025647\n",
       "         ...    \n",
       "433    10.681000\n",
       "434     9.910000\n",
       "435     9.197000\n",
       "436     9.101000\n",
       "437     9.830000\n",
       "Name: DP_CHOKE_SIZE, Length: 438, dtype: float64"
      ]
     },
     "metadata": {},
     "execution_count": 67
    }
   ],
   "metadata": {}
  },
  {
   "cell_type": "markdown",
   "source": [
    "### limpieza de outliers de la columna BORE_OIL_VOL"
   ],
   "metadata": {}
  },
  {
   "cell_type": "code",
   "execution_count": 68,
   "source": [
    "figuresizes = (5,5)\n",
    "plt.figure(figsize=figuresizes)\n",
    "sns.boxplot(y = 'BORE_OIL_VOL', data=df_sin_nan)"
   ],
   "outputs": [
    {
     "output_type": "execute_result",
     "data": {
      "text/plain": [
       "<AxesSubplot:ylabel='BORE_OIL_VOL'>"
      ]
     },
     "metadata": {},
     "execution_count": 68
    },
    {
     "output_type": "display_data",
     "data": {
      "text/plain": [
       "<Figure size 360x360 with 1 Axes>"
      ],
      "image/png": "[encoded data removed]"
     },
     "metadata": {
      "needs_background": "light"
     }
    }
   ],
   "metadata": {}
  },
  {
   "cell_type": "code",
   "execution_count": 69,
   "source": [
    "Q1=df_sin_nan[\"BORE_OIL_VOL\"].quantile(0.25)\n",
    "Q3=df_sin_nan[\"BORE_OIL_VOL\"].quantile(0.75)\n",
    "IQR=Q3-Q1\n",
    "lower_whisker_p1c9=Q1-1*IQR\n",
    "upper_whisker_p1c9=Q3+1*IQR\n",
    "print(lower_whisker_p1c9)\n",
    "print(upper_whisker_p1c9)"
   ],
   "outputs": [
    {
     "output_type": "stream",
     "name": "stdout",
     "text": [
      "5.409999999999968\n",
      "769.1125000000002\n"
     ]
    }
   ],
   "metadata": {}
  },
  {
   "cell_type": "code",
   "execution_count": 70,
   "source": [
    "df_oil_vol=df_sin_nan[df_sin_nan[\"BORE_OIL_VOL\"]<upper_whisker_p1c9]\n",
    "df_oil_vol.shape"
   ],
   "outputs": [
    {
     "output_type": "execute_result",
     "data": {
      "text/plain": [
       "(406, 12)"
      ]
     },
     "metadata": {},
     "execution_count": 70
    }
   ],
   "metadata": {}
  },
  {
   "cell_type": "code",
   "execution_count": 71,
   "source": [
    "figuresizes = (5,5)\n",
    "plt.figure(figsize=figuresizes)\n",
    "sns.boxplot(y = 'BORE_OIL_VOL', data=df_oil_vol)"
   ],
   "outputs": [
    {
     "output_type": "execute_result",
     "data": {
      "text/plain": [
       "<AxesSubplot:ylabel='BORE_OIL_VOL'>"
      ]
     },
     "metadata": {},
     "execution_count": 71
    },
    {
     "output_type": "display_data",
     "data": {
      "text/plain": [
       "<Figure size 360x360 with 1 Axes>"
      ],
      "image/png": "[encoded data removed]"
     },
     "metadata": {
      "needs_background": "light"
     }
    }
   ],
   "metadata": {}
  },
  {
   "cell_type": "code",
   "execution_count": 72,
   "source": [
    "df_modif_col9=df_sin_nan.BORE_OIL_VOL.where(df_sin_nan.BORE_OIL_VOL<upper_whisker_p1c9,df_oil_vol.BORE_OIL_VOL.mean())\n",
    "df_modif_col9"
   ],
   "outputs": [
    {
     "output_type": "execute_result",
     "data": {
      "text/plain": [
       "0        0.000000\n",
       "1      631.470000\n",
       "2      359.481355\n",
       "3      359.481355\n",
       "4      359.481355\n",
       "          ...    \n",
       "433    284.720000\n",
       "434    280.170000\n",
       "435    281.930000\n",
       "436    317.380000\n",
       "437    208.000000\n",
       "Name: BORE_OIL_VOL, Length: 438, dtype: float64"
      ]
     },
     "metadata": {},
     "execution_count": 72
    }
   ],
   "metadata": {}
  },
  {
   "cell_type": "markdown",
   "source": [
    "### limpieza de outliers de la columna BORE_GAS_VOL"
   ],
   "metadata": {}
  },
  {
   "cell_type": "code",
   "execution_count": 73,
   "source": [
    "figuresizes = (5,5)\n",
    "plt.figure(figsize=figuresizes)\n",
    "sns.boxplot(y = 'BORE_GAS_VOL', data=df_sin_nan)"
   ],
   "outputs": [
    {
     "output_type": "execute_result",
     "data": {
      "text/plain": [
       "<AxesSubplot:ylabel='BORE_GAS_VOL'>"
      ]
     },
     "metadata": {},
     "execution_count": 73
    },
    {
     "output_type": "display_data",
     "data": {
      "text/plain": [
       "<Figure size 360x360 with 1 Axes>"
      ],
      "image/png": "[encoded data removed]"
     },
     "metadata": {
      "needs_background": "light"
     }
    }
   ],
   "metadata": {}
  },
  {
   "cell_type": "code",
   "execution_count": 74,
   "source": [
    "Q1=df_sin_nan[\"BORE_GAS_VOL\"].quantile(0.25)\n",
    "Q3=df_sin_nan[\"BORE_GAS_VOL\"].quantile(0.75)\n",
    "IQR=Q3-Q1\n",
    "lower_whisker_p1c10=Q1-1.1*IQR\n",
    "upper_whisker_p1c10=Q3+1.4*IQR\n",
    "print(lower_whisker_p1c10)\n",
    "print(upper_whisker_p1c10)"
   ],
   "outputs": [
    {
     "output_type": "stream",
     "name": "stdout",
     "text": [
      "324.46524999999383\n",
      "126669.5565\n"
     ]
    }
   ],
   "metadata": {}
  },
  {
   "cell_type": "code",
   "execution_count": 75,
   "source": [
    "df_gas_vol=df_sin_nan[df_sin_nan[\"BORE_GAS_VOL\"]<upper_whisker_p1c10]\n",
    "df_gas_vol.shape"
   ],
   "outputs": [
    {
     "output_type": "execute_result",
     "data": {
      "text/plain": [
       "(420, 12)"
      ]
     },
     "metadata": {},
     "execution_count": 75
    }
   ],
   "metadata": {}
  },
  {
   "cell_type": "code",
   "execution_count": 76,
   "source": [
    "figuresizes = (5,5)\n",
    "plt.figure(figsize=figuresizes)\n",
    "sns.boxplot(y = 'BORE_GAS_VOL', data=df_gas_vol)"
   ],
   "outputs": [
    {
     "output_type": "execute_result",
     "data": {
      "text/plain": [
       "<AxesSubplot:ylabel='BORE_GAS_VOL'>"
      ]
     },
     "metadata": {},
     "execution_count": 76
    },
    {
     "output_type": "display_data",
     "data": {
      "text/plain": [
       "<Figure size 360x360 with 1 Axes>"
      ],
      "image/png": "[encoded data removed]"
     },
     "metadata": {
      "needs_background": "light"
     }
    }
   ],
   "metadata": {}
  },
  {
   "cell_type": "code",
   "execution_count": 77,
   "source": [
    "df_modif_col10=df_sin_nan.BORE_GAS_VOL.where(df_sin_nan.BORE_GAS_VOL<upper_whisker_p1c10,df_gas_vol.BORE_GAS_VOL.mean())\n",
    "df_modif_col10"
   ],
   "outputs": [
    {
     "output_type": "execute_result",
     "data": {
      "text/plain": [
       "0          0.000000\n",
       "1      90439.090000\n",
       "2      55918.232095\n",
       "3      55918.232095\n",
       "4      55918.232095\n",
       "           ...     \n",
       "433    46880.140000\n",
       "434    45842.820000\n",
       "435    45800.830000\n",
       "436    51990.650000\n",
       "437    34998.300000\n",
       "Name: BORE_GAS_VOL, Length: 438, dtype: float64"
      ]
     },
     "metadata": {},
     "execution_count": 77
    }
   ],
   "metadata": {}
  },
  {
   "cell_type": "markdown",
   "source": [
    "### limpieza de outliers de la columna BORE_WAT_VOL"
   ],
   "metadata": {}
  },
  {
   "cell_type": "code",
   "execution_count": 78,
   "source": [
    "figuresizes = (5,5)\n",
    "plt.figure(figsize=figuresizes)\n",
    "sns.boxplot(y = 'BORE_WAT_VOL', data=df_sin_nan)"
   ],
   "outputs": [
    {
     "output_type": "execute_result",
     "data": {
      "text/plain": [
       "<AxesSubplot:ylabel='BORE_WAT_VOL'>"
      ]
     },
     "metadata": {},
     "execution_count": 78
    },
    {
     "output_type": "display_data",
     "data": {
      "text/plain": [
       "<Figure size 360x360 with 1 Axes>"
      ],
      "image/png": "[encoded data removed]"
     },
     "metadata": {
      "needs_background": "light"
     }
    }
   ],
   "metadata": {}
  },
  {
   "cell_type": "code",
   "execution_count": 79,
   "source": [
    "Q1=df_sin_nan[\"BORE_WAT_VOL\"].quantile(0.25)\n",
    "Q3=df_sin_nan[\"BORE_WAT_VOL\"].quantile(0.75)\n",
    "IQR=Q3-Q1\n",
    "lower_whisker_p1c11=Q1-1.1*IQR\n",
    "upper_whisker_p1c11=Q3+1.4*IQR\n",
    "print(lower_whisker_p1c11)\n",
    "print(upper_whisker_p1c11)"
   ],
   "outputs": [
    {
     "output_type": "stream",
     "name": "stdout",
     "text": [
      "-382.3537500000001\n",
      "1528.7775000000001\n"
     ]
    }
   ],
   "metadata": {}
  },
  {
   "cell_type": "code",
   "execution_count": 80,
   "source": [
    "df_wat_vol=df_sin_nan[df_sin_nan[\"BORE_WAT_VOL\"]<upper_whisker_p1c11]\n",
    "df_wat_vol.shape"
   ],
   "outputs": [
    {
     "output_type": "execute_result",
     "data": {
      "text/plain": [
       "(437, 12)"
      ]
     },
     "metadata": {},
     "execution_count": 80
    }
   ],
   "metadata": {}
  },
  {
   "cell_type": "code",
   "execution_count": 81,
   "source": [
    "figuresizes = (5,5)\n",
    "plt.figure(figsize=figuresizes)\n",
    "sns.boxplot(y = 'BORE_WAT_VOL', data=df_wat_vol)"
   ],
   "outputs": [
    {
     "output_type": "execute_result",
     "data": {
      "text/plain": [
       "<AxesSubplot:ylabel='BORE_WAT_VOL'>"
      ]
     },
     "metadata": {},
     "execution_count": 81
    },
    {
     "output_type": "display_data",
     "data": {
      "text/plain": [
       "<Figure size 360x360 with 1 Axes>"
      ],
      "image/png": "[encoded data removed]"
     },
     "metadata": {
      "needs_background": "light"
     }
    }
   ],
   "metadata": {}
  },
  {
   "cell_type": "code",
   "execution_count": 82,
   "source": [
    "df_modif_col11=df_sin_nan.BORE_WAT_VOL.where(df_sin_nan.BORE_WAT_VOL<upper_whisker_p1c11,df_wat_vol.BORE_WAT_VOL.mean())\n",
    "df_modif_col11"
   ],
   "outputs": [
    {
     "output_type": "execute_result",
     "data": {
      "text/plain": [
       "0        0.00\n",
       "1        0.00\n",
       "2        0.00\n",
       "3        0.00\n",
       "4        0.00\n",
       "        ...  \n",
       "433    766.23\n",
       "434    748.25\n",
       "435    797.30\n",
       "436    792.76\n",
       "437    542.39\n",
       "Name: BORE_WAT_VOL, Length: 438, dtype: float64"
      ]
     },
     "metadata": {},
     "execution_count": 82
    }
   ],
   "metadata": {}
  },
  {
   "cell_type": "markdown",
   "source": [
    "#### CONSTRUCCIÓN DEL DF FINAL DEL POZO 1 CON LA DATA TRATADA"
   ],
   "metadata": {}
  },
  {
   "cell_type": "code",
   "execution_count": 83,
   "source": [
    "df_sin_nan"
   ],
   "outputs": [
    {
     "output_type": "execute_result",
     "data": {
      "text/plain": [
       "     ON_STREAM_HRS  AVG_DOWNHOLE_PRESSURE  AVG_DOWNHOLE_TEMPERATURE  \\\n",
       "0            11.50                301.376                   102.676   \n",
       "1            24.00                289.421                   106.353   \n",
       "2            24.00                270.240                   107.644   \n",
       "3            24.00                262.843                   107.869   \n",
       "4            24.00                255.527                   107.971   \n",
       "..             ...                    ...                       ...   \n",
       "433          24.00                223.012                   108.058   \n",
       "434          24.00                221.813                   108.044   \n",
       "435          24.00                220.780                   108.042   \n",
       "436          24.00                218.752                   108.078   \n",
       "437          20.82                218.438                   107.857   \n",
       "\n",
       "     AVG_DP_TUBING  AVG_ANNULUS_PRESS  AVG_CHOKE_SIZE_P  AVG_WHP_P  AVG_WHT_P  \\\n",
       "0          204.795                0.0          20.98975     96.580     19.197   \n",
       "1          182.059                0.0          43.34345    107.362     37.939   \n",
       "2          171.053                0.0          47.16752     99.187     60.757   \n",
       "3          168.242                0.0          47.73231     94.601     63.047   \n",
       "4          165.539                0.0          48.53377     89.988     64.547   \n",
       "..             ...                ...               ...        ...        ...   \n",
       "433        196.629                0.0          54.68774     26.383     69.559   \n",
       "434        196.133                0.0          54.72411     25.681     72.502   \n",
       "435        195.665                0.0          55.06795     25.115     71.750   \n",
       "436        193.411                0.0          55.99813     25.341     72.218   \n",
       "437        192.830                0.0          45.14344     25.608     66.568   \n",
       "\n",
       "     DP_CHOKE_SIZE  BORE_OIL_VOL  BORE_GAS_VOL  BORE_WAT_VOL  \n",
       "0           69.776          0.00          0.00          0.00  \n",
       "1           78.935        631.47      90439.09          0.00  \n",
       "2           70.627       1166.46     165720.39          0.00  \n",
       "3           66.049       1549.81     221707.31          0.00  \n",
       "4           61.405       1248.70     178063.52          0.00  \n",
       "..             ...           ...           ...           ...  \n",
       "433         10.681        284.72      46880.14        766.23  \n",
       "434          9.910        280.17      45842.82        748.25  \n",
       "435          9.197        281.93      45800.83        797.30  \n",
       "436          9.101        317.38      51990.65        792.76  \n",
       "437          9.830        208.00      34998.30        542.39  \n",
       "\n",
       "[438 rows x 12 columns]"
      ],
      "text/html": [
       "<div>\n",
       "<style scoped>\n",
       "    .dataframe tbody tr th:only-of-type {\n",
       "        vertical-align: middle;\n",
       "    }\n",
       "\n",
       "    .dataframe tbody tr th {\n",
       "        vertical-align: top;\n",
       "    }\n",
       "\n",
       "    .dataframe thead th {\n",
       "        text-align: right;\n",
       "    }\n",
       "</style>\n",
       "<table border=\"1\" class=\"dataframe\">\n",
       "  <thead>\n",
       "    <tr style=\"text-align: right;\">\n",
       "      <th></th>\n",
       "      <th>ON_STREAM_HRS</th>\n",
       "      <th>AVG_DOWNHOLE_PRESSURE</th>\n",
       "      <th>AVG_DOWNHOLE_TEMPERATURE</th>\n",
       "      <th>AVG_DP_TUBING</th>\n",
       "      <th>AVG_ANNULUS_PRESS</th>\n",
       "      <th>AVG_CHOKE_SIZE_P</th>\n",
       "      <th>AVG_WHP_P</th>\n",
       "      <th>AVG_WHT_P</th>\n",
       "      <th>DP_CHOKE_SIZE</th>\n",
       "      <th>BORE_OIL_VOL</th>\n",
       "      <th>BORE_GAS_VOL</th>\n",
       "      <th>BORE_WAT_VOL</th>\n",
       "    </tr>\n",
       "  </thead>\n",
       "  <tbody>\n",
       "    <tr>\n",
       "      <th>0</th>\n",
       "      <td>11.50</td>\n",
       "      <td>301.376</td>\n",
       "      <td>102.676</td>\n",
       "      <td>204.795</td>\n",
       "      <td>0.0</td>\n",
       "      <td>20.98975</td>\n",
       "      <td>96.580</td>\n",
       "      <td>19.197</td>\n",
       "      <td>69.776</td>\n",
       "      <td>0.00</td>\n",
       "      <td>0.00</td>\n",
       "      <td>0.00</td>\n",
       "    </tr>\n",
       "    <tr>\n",
       "      <th>1</th>\n",
       "      <td>24.00</td>\n",
       "      <td>289.421</td>\n",
       "      <td>106.353</td>\n",
       "      <td>182.059</td>\n",
       "      <td>0.0</td>\n",
       "      <td>43.34345</td>\n",
       "      <td>107.362</td>\n",
       "      <td>37.939</td>\n",
       "      <td>78.935</td>\n",
       "      <td>631.47</td>\n",
       "      <td>90439.09</td>\n",
       "      <td>0.00</td>\n",
       "    </tr>\n",
       "    <tr>\n",
       "      <th>2</th>\n",
       "      <td>24.00</td>\n",
       "      <td>270.240</td>\n",
       "      <td>107.644</td>\n",
       "      <td>171.053</td>\n",
       "      <td>0.0</td>\n",
       "      <td>47.16752</td>\n",
       "      <td>99.187</td>\n",
       "      <td>60.757</td>\n",
       "      <td>70.627</td>\n",
       "      <td>1166.46</td>\n",
       "      <td>165720.39</td>\n",
       "      <td>0.00</td>\n",
       "    </tr>\n",
       "    <tr>\n",
       "      <th>3</th>\n",
       "      <td>24.00</td>\n",
       "      <td>262.843</td>\n",
       "      <td>107.869</td>\n",
       "      <td>168.242</td>\n",
       "      <td>0.0</td>\n",
       "      <td>47.73231</td>\n",
       "      <td>94.601</td>\n",
       "      <td>63.047</td>\n",
       "      <td>66.049</td>\n",
       "      <td>1549.81</td>\n",
       "      <td>221707.31</td>\n",
       "      <td>0.00</td>\n",
       "    </tr>\n",
       "    <tr>\n",
       "      <th>4</th>\n",
       "      <td>24.00</td>\n",
       "      <td>255.527</td>\n",
       "      <td>107.971</td>\n",
       "      <td>165.539</td>\n",
       "      <td>0.0</td>\n",
       "      <td>48.53377</td>\n",
       "      <td>89.988</td>\n",
       "      <td>64.547</td>\n",
       "      <td>61.405</td>\n",
       "      <td>1248.70</td>\n",
       "      <td>178063.52</td>\n",
       "      <td>0.00</td>\n",
       "    </tr>\n",
       "    <tr>\n",
       "      <th>...</th>\n",
       "      <td>...</td>\n",
       "      <td>...</td>\n",
       "      <td>...</td>\n",
       "      <td>...</td>\n",
       "      <td>...</td>\n",
       "      <td>...</td>\n",
       "      <td>...</td>\n",
       "      <td>...</td>\n",
       "      <td>...</td>\n",
       "      <td>...</td>\n",
       "      <td>...</td>\n",
       "      <td>...</td>\n",
       "    </tr>\n",
       "    <tr>\n",
       "      <th>433</th>\n",
       "      <td>24.00</td>\n",
       "      <td>223.012</td>\n",
       "      <td>108.058</td>\n",
       "      <td>196.629</td>\n",
       "      <td>0.0</td>\n",
       "      <td>54.68774</td>\n",
       "      <td>26.383</td>\n",
       "      <td>69.559</td>\n",
       "      <td>10.681</td>\n",
       "      <td>284.72</td>\n",
       "      <td>46880.14</td>\n",
       "      <td>766.23</td>\n",
       "    </tr>\n",
       "    <tr>\n",
       "      <th>434</th>\n",
       "      <td>24.00</td>\n",
       "      <td>221.813</td>\n",
       "      <td>108.044</td>\n",
       "      <td>196.133</td>\n",
       "      <td>0.0</td>\n",
       "      <td>54.72411</td>\n",
       "      <td>25.681</td>\n",
       "      <td>72.502</td>\n",
       "      <td>9.910</td>\n",
       "      <td>280.17</td>\n",
       "      <td>45842.82</td>\n",
       "      <td>748.25</td>\n",
       "    </tr>\n",
       "    <tr>\n",
       "      <th>435</th>\n",
       "      <td>24.00</td>\n",
       "      <td>220.780</td>\n",
       "      <td>108.042</td>\n",
       "      <td>195.665</td>\n",
       "      <td>0.0</td>\n",
       "      <td>55.06795</td>\n",
       "      <td>25.115</td>\n",
       "      <td>71.750</td>\n",
       "      <td>9.197</td>\n",
       "      <td>281.93</td>\n",
       "      <td>45800.83</td>\n",
       "      <td>797.30</td>\n",
       "    </tr>\n",
       "    <tr>\n",
       "      <th>436</th>\n",
       "      <td>24.00</td>\n",
       "      <td>218.752</td>\n",
       "      <td>108.078</td>\n",
       "      <td>193.411</td>\n",
       "      <td>0.0</td>\n",
       "      <td>55.99813</td>\n",
       "      <td>25.341</td>\n",
       "      <td>72.218</td>\n",
       "      <td>9.101</td>\n",
       "      <td>317.38</td>\n",
       "      <td>51990.65</td>\n",
       "      <td>792.76</td>\n",
       "    </tr>\n",
       "    <tr>\n",
       "      <th>437</th>\n",
       "      <td>20.82</td>\n",
       "      <td>218.438</td>\n",
       "      <td>107.857</td>\n",
       "      <td>192.830</td>\n",
       "      <td>0.0</td>\n",
       "      <td>45.14344</td>\n",
       "      <td>25.608</td>\n",
       "      <td>66.568</td>\n",
       "      <td>9.830</td>\n",
       "      <td>208.00</td>\n",
       "      <td>34998.30</td>\n",
       "      <td>542.39</td>\n",
       "    </tr>\n",
       "  </tbody>\n",
       "</table>\n",
       "<p>438 rows × 12 columns</p>\n",
       "</div>"
      ]
     },
     "metadata": {},
     "execution_count": 83
    }
   ],
   "metadata": {}
  },
  {
   "cell_type": "code",
   "execution_count": 84,
   "source": [
    "columna_p1c0=list(df_sin_nan.ON_STREAM_HRS)\n",
    "columna_p1c1=list(df_modif_col1)\n",
    "columna_p1c2=list(df_modif_col2)\n",
    "columna_p1c3=list(df_modif_col3)\n",
    "columna_p1c4=list(df_sin_nan.AVG_ANNULUS_PRESS)\n",
    "columna_p1c5=list(df_modif_col5)\n",
    "columna_p1c6=list(df_modif_col6)\n",
    "columna_p1c7=list(df_modif_col7)\n",
    "columna_p1c8=list(df_modif_col8)\n",
    "columna_p1c9=list(df_modif_col9)\n",
    "columna_p1c10=list(df_modif_col10)\n",
    "columna_p1c11=list(df_modif_col11)\n",
    "columna_dates=list(df_well_1.DATEPRD)"
   ],
   "outputs": [],
   "metadata": {}
  },
  {
   "cell_type": "code",
   "execution_count": 87,
   "source": [
    "dicc_well_1={\"DATEPRD\":columna_dates,\"ON_STREAM_HRS\":columna_p1c0,\"AVG_DOWNHOLE_PRESSURE\":columna_p1c1,\"AVG_DOWNHOLE_TEMPERATURE\":columna_p1c2,\"AVG_DP_TUBING\":columna_p1c3,\"AVG_ANNULUS_PRESS\":columna_p1c4,\"AVG_CHOKE_SIZE_P\":columna_p1c5,\"AVG_WHP_P\":columna_p1c6,\"AVG_WHT_P\":columna_p1c7,\"AVG_CHOKE_SIZE\":columna_p1c8,\"BORE_OIL_VOL\":columna_p1c9,\"BORE_GAS_VOL\":columna_p1c10,\"BORE_WAT_VOL\":columna_p1c11}"
   ],
   "outputs": [],
   "metadata": {}
  },
  {
   "cell_type": "code",
   "execution_count": 88,
   "source": [
    "df_new_well_1=pd.DataFrame(dicc_well_1)\n",
    "df_new_well_1"
   ],
   "outputs": [
    {
     "output_type": "execute_result",
     "data": {
      "text/plain": [
       "       DATEPRD  ON_STREAM_HRS  AVG_DOWNHOLE_PRESSURE  \\\n",
       "0   2014-04-21          11.50                223.935   \n",
       "1   2014-04-22          24.00                223.935   \n",
       "2   2014-04-23          24.00                270.240   \n",
       "3   2014-04-24          24.00                262.843   \n",
       "4   2014-04-25          24.00                255.527   \n",
       "..         ...            ...                    ...   \n",
       "433 2016-04-02          24.00                223.012   \n",
       "434 2016-04-03          24.00                221.813   \n",
       "435 2016-04-04          24.00                220.780   \n",
       "436 2016-04-05          24.00                218.752   \n",
       "437 2016-04-06          20.82                218.438   \n",
       "\n",
       "     AVG_DOWNHOLE_TEMPERATURE  AVG_DP_TUBING  AVG_ANNULUS_PRESS  \\\n",
       "0                  108.124327        204.795                0.0   \n",
       "1                  108.124327        182.059                0.0   \n",
       "2                  108.124327        171.053                0.0   \n",
       "3                  107.869000        168.242                0.0   \n",
       "4                  107.971000        165.539                0.0   \n",
       "..                        ...            ...                ...   \n",
       "433                108.058000        196.629                0.0   \n",
       "434                108.044000        196.133                0.0   \n",
       "435                108.042000        195.665                0.0   \n",
       "436                108.078000        193.411                0.0   \n",
       "437                107.857000        192.830                0.0   \n",
       "\n",
       "     AVG_CHOKE_SIZE_P  AVG_WHP_P  AVG_WHT_P  AVG_CHOKE_SIZE  BORE_OIL_VOL  \\\n",
       "0           50.987051   35.27676  62.420736       11.025647      0.000000   \n",
       "1           43.343450   35.27676  37.939000       11.025647    631.470000   \n",
       "2           47.167520   35.27676  60.757000       11.025647    359.481355   \n",
       "3           47.732310   35.27676  63.047000       11.025647    359.481355   \n",
       "4           48.533770   35.27676  64.547000       11.025647    359.481355   \n",
       "..                ...        ...        ...             ...           ...   \n",
       "433         54.687740   26.38300  69.559000       10.681000    284.720000   \n",
       "434         54.724110   25.68100  72.502000        9.910000    280.170000   \n",
       "435         55.067950   25.11500  71.750000        9.197000    281.930000   \n",
       "436         55.998130   25.34100  72.218000        9.101000    317.380000   \n",
       "437         45.143440   25.60800  66.568000        9.830000    208.000000   \n",
       "\n",
       "     BORE_GAS_VOL  BORE_WAT_VOL  \n",
       "0        0.000000          0.00  \n",
       "1    90439.090000          0.00  \n",
       "2    55918.232095          0.00  \n",
       "3    55918.232095          0.00  \n",
       "4    55918.232095          0.00  \n",
       "..            ...           ...  \n",
       "433  46880.140000        766.23  \n",
       "434  45842.820000        748.25  \n",
       "435  45800.830000        797.30  \n",
       "436  51990.650000        792.76  \n",
       "437  34998.300000        542.39  \n",
       "\n",
       "[438 rows x 13 columns]"
      ],
      "text/html": [
       "<div>\n",
       "<style scoped>\n",
       "    .dataframe tbody tr th:only-of-type {\n",
       "        vertical-align: middle;\n",
       "    }\n",
       "\n",
       "    .dataframe tbody tr th {\n",
       "        vertical-align: top;\n",
       "    }\n",
       "\n",
       "    .dataframe thead th {\n",
       "        text-align: right;\n",
       "    }\n",
       "</style>\n",
       "<table border=\"1\" class=\"dataframe\">\n",
       "  <thead>\n",
       "    <tr style=\"text-align: right;\">\n",
       "      <th></th>\n",
       "      <th>DATEPRD</th>\n",
       "      <th>ON_STREAM_HRS</th>\n",
       "      <th>AVG_DOWNHOLE_PRESSURE</th>\n",
       "      <th>AVG_DOWNHOLE_TEMPERATURE</th>\n",
       "      <th>AVG_DP_TUBING</th>\n",
       "      <th>AVG_ANNULUS_PRESS</th>\n",
       "      <th>AVG_CHOKE_SIZE_P</th>\n",
       "      <th>AVG_WHP_P</th>\n",
       "      <th>AVG_WHT_P</th>\n",
       "      <th>AVG_CHOKE_SIZE</th>\n",
       "      <th>BORE_OIL_VOL</th>\n",
       "      <th>BORE_GAS_VOL</th>\n",
       "      <th>BORE_WAT_VOL</th>\n",
       "    </tr>\n",
       "  </thead>\n",
       "  <tbody>\n",
       "    <tr>\n",
       "      <th>0</th>\n",
       "      <td>2014-04-21</td>\n",
       "      <td>11.50</td>\n",
       "      <td>223.935</td>\n",
       "      <td>108.124327</td>\n",
       "      <td>204.795</td>\n",
       "      <td>0.0</td>\n",
       "      <td>50.987051</td>\n",
       "      <td>35.27676</td>\n",
       "      <td>62.420736</td>\n",
       "      <td>11.025647</td>\n",
       "      <td>0.000000</td>\n",
       "      <td>0.000000</td>\n",
       "      <td>0.00</td>\n",
       "    </tr>\n",
       "    <tr>\n",
       "      <th>1</th>\n",
       "      <td>2014-04-22</td>\n",
       "      <td>24.00</td>\n",
       "      <td>223.935</td>\n",
       "      <td>108.124327</td>\n",
       "      <td>182.059</td>\n",
       "      <td>0.0</td>\n",
       "      <td>43.343450</td>\n",
       "      <td>35.27676</td>\n",
       "      <td>37.939000</td>\n",
       "      <td>11.025647</td>\n",
       "      <td>631.470000</td>\n",
       "      <td>90439.090000</td>\n",
       "      <td>0.00</td>\n",
       "    </tr>\n",
       "    <tr>\n",
       "      <th>2</th>\n",
       "      <td>2014-04-23</td>\n",
       "      <td>24.00</td>\n",
       "      <td>270.240</td>\n",
       "      <td>108.124327</td>\n",
       "      <td>171.053</td>\n",
       "      <td>0.0</td>\n",
       "      <td>47.167520</td>\n",
       "      <td>35.27676</td>\n",
       "      <td>60.757000</td>\n",
       "      <td>11.025647</td>\n",
       "      <td>359.481355</td>\n",
       "      <td>55918.232095</td>\n",
       "      <td>0.00</td>\n",
       "    </tr>\n",
       "    <tr>\n",
       "      <th>3</th>\n",
       "      <td>2014-04-24</td>\n",
       "      <td>24.00</td>\n",
       "      <td>262.843</td>\n",
       "      <td>107.869000</td>\n",
       "      <td>168.242</td>\n",
       "      <td>0.0</td>\n",
       "      <td>47.732310</td>\n",
       "      <td>35.27676</td>\n",
       "      <td>63.047000</td>\n",
       "      <td>11.025647</td>\n",
       "      <td>359.481355</td>\n",
       "      <td>55918.232095</td>\n",
       "      <td>0.00</td>\n",
       "    </tr>\n",
       "    <tr>\n",
       "      <th>4</th>\n",
       "      <td>2014-04-25</td>\n",
       "      <td>24.00</td>\n",
       "      <td>255.527</td>\n",
       "      <td>107.971000</td>\n",
       "      <td>165.539</td>\n",
       "      <td>0.0</td>\n",
       "      <td>48.533770</td>\n",
       "      <td>35.27676</td>\n",
       "      <td>64.547000</td>\n",
       "      <td>11.025647</td>\n",
       "      <td>359.481355</td>\n",
       "      <td>55918.232095</td>\n",
       "      <td>0.00</td>\n",
       "    </tr>\n",
       "    <tr>\n",
       "      <th>...</th>\n",
       "      <td>...</td>\n",
       "      <td>...</td>\n",
       "      <td>...</td>\n",
       "      <td>...</td>\n",
       "      <td>...</td>\n",
       "      <td>...</td>\n",
       "      <td>...</td>\n",
       "      <td>...</td>\n",
       "      <td>...</td>\n",
       "      <td>...</td>\n",
       "      <td>...</td>\n",
       "      <td>...</td>\n",
       "      <td>...</td>\n",
       "    </tr>\n",
       "    <tr>\n",
       "      <th>433</th>\n",
       "      <td>2016-04-02</td>\n",
       "      <td>24.00</td>\n",
       "      <td>223.012</td>\n",
       "      <td>108.058000</td>\n",
       "      <td>196.629</td>\n",
       "      <td>0.0</td>\n",
       "      <td>54.687740</td>\n",
       "      <td>26.38300</td>\n",
       "      <td>69.559000</td>\n",
       "      <td>10.681000</td>\n",
       "      <td>284.720000</td>\n",
       "      <td>46880.140000</td>\n",
       "      <td>766.23</td>\n",
       "    </tr>\n",
       "    <tr>\n",
       "      <th>434</th>\n",
       "      <td>2016-04-03</td>\n",
       "      <td>24.00</td>\n",
       "      <td>221.813</td>\n",
       "      <td>108.044000</td>\n",
       "      <td>196.133</td>\n",
       "      <td>0.0</td>\n",
       "      <td>54.724110</td>\n",
       "      <td>25.68100</td>\n",
       "      <td>72.502000</td>\n",
       "      <td>9.910000</td>\n",
       "      <td>280.170000</td>\n",
       "      <td>45842.820000</td>\n",
       "      <td>748.25</td>\n",
       "    </tr>\n",
       "    <tr>\n",
       "      <th>435</th>\n",
       "      <td>2016-04-04</td>\n",
       "      <td>24.00</td>\n",
       "      <td>220.780</td>\n",
       "      <td>108.042000</td>\n",
       "      <td>195.665</td>\n",
       "      <td>0.0</td>\n",
       "      <td>55.067950</td>\n",
       "      <td>25.11500</td>\n",
       "      <td>71.750000</td>\n",
       "      <td>9.197000</td>\n",
       "      <td>281.930000</td>\n",
       "      <td>45800.830000</td>\n",
       "      <td>797.30</td>\n",
       "    </tr>\n",
       "    <tr>\n",
       "      <th>436</th>\n",
       "      <td>2016-04-05</td>\n",
       "      <td>24.00</td>\n",
       "      <td>218.752</td>\n",
       "      <td>108.078000</td>\n",
       "      <td>193.411</td>\n",
       "      <td>0.0</td>\n",
       "      <td>55.998130</td>\n",
       "      <td>25.34100</td>\n",
       "      <td>72.218000</td>\n",
       "      <td>9.101000</td>\n",
       "      <td>317.380000</td>\n",
       "      <td>51990.650000</td>\n",
       "      <td>792.76</td>\n",
       "    </tr>\n",
       "    <tr>\n",
       "      <th>437</th>\n",
       "      <td>2016-04-06</td>\n",
       "      <td>20.82</td>\n",
       "      <td>218.438</td>\n",
       "      <td>107.857000</td>\n",
       "      <td>192.830</td>\n",
       "      <td>0.0</td>\n",
       "      <td>45.143440</td>\n",
       "      <td>25.60800</td>\n",
       "      <td>66.568000</td>\n",
       "      <td>9.830000</td>\n",
       "      <td>208.000000</td>\n",
       "      <td>34998.300000</td>\n",
       "      <td>542.39</td>\n",
       "    </tr>\n",
       "  </tbody>\n",
       "</table>\n",
       "<p>438 rows × 13 columns</p>\n",
       "</div>"
      ]
     },
     "metadata": {},
     "execution_count": 88
    }
   ],
   "metadata": {}
  },
  {
   "cell_type": "code",
   "execution_count": 89,
   "source": [
    "figuresizes = (5,5)\n",
    "plt.figure(figsize=figuresizes)\n",
    "sns.boxplot(y=\"AVG_DOWNHOLE_PRESSURE\",data=df_new_well_1)"
   ],
   "outputs": [
    {
     "output_type": "execute_result",
     "data": {
      "text/plain": [
       "<AxesSubplot:ylabel='AVG_DOWNHOLE_PRESSURE'>"
      ]
     },
     "metadata": {},
     "execution_count": 89
    },
    {
     "output_type": "display_data",
     "data": {
      "text/plain": [
       "<Figure size 360x360 with 1 Axes>"
      ],
      "image/png": "[encoded data removed]"
     },
     "metadata": {
      "needs_background": "light"
     }
    }
   ],
   "metadata": {}
  },
  {
   "cell_type": "markdown",
   "source": [
    "-----------------------------------------------------------------------------------------------------------------------------------------------------------------------------------------------------------------"
   ],
   "metadata": {}
  },
  {
   "cell_type": "markdown",
   "source": [
    "## POZO 2"
   ],
   "metadata": {}
  },
  {
   "cell_type": "code",
   "execution_count": 90,
   "source": [
    "df_well_2"
   ],
   "outputs": [
    {
     "output_type": "execute_result",
     "data": {
      "text/plain": [
       "        DATEPRD NPD_WELL_BORE_NAME  ON_STREAM_HRS  AVG_DOWNHOLE_PRESSURE  \\\n",
       "762  2013-07-24          15/9-F-11           7.00                  1.926   \n",
       "763  2013-07-25          15/9-F-11          24.00                163.594   \n",
       "764  2013-07-26          15/9-F-11          24.00                    NaN   \n",
       "765  2013-07-27          15/9-F-11          24.00                    NaN   \n",
       "766  2013-07-28          15/9-F-11           0.84                  0.000   \n",
       "...         ...                ...            ...                    ...   \n",
       "1906 2016-09-13          15/9-F-11          24.00                253.399   \n",
       "1907 2016-09-14          15/9-F-11          24.00                253.210   \n",
       "1908 2016-09-15          15/9-F-11          24.00                252.939   \n",
       "1909 2016-09-16          15/9-F-11          24.00                252.892   \n",
       "1910 2016-09-17          15/9-F-11           8.28                253.546   \n",
       "\n",
       "      AVG_DOWNHOLE_TEMPERATURE  AVG_DP_TUBING  AVG_ANNULUS_PRESS  \\\n",
       "762                      0.352         26.123              2.885   \n",
       "763                     60.316         61.473             19.465   \n",
       "764                        NaN            NaN                NaN   \n",
       "765                        NaN            NaN                NaN   \n",
       "766                      0.000          0.000              0.000   \n",
       "...                        ...            ...                ...   \n",
       "1906                   105.267        226.401             22.564   \n",
       "1907                   105.272        226.255             22.720   \n",
       "1908                   105.274        226.037             22.581   \n",
       "1909                   105.276        226.022             22.571   \n",
       "1910                   105.279        226.081             22.636   \n",
       "\n",
       "      AVG_CHOKE_SIZE_P  AVG_WHP_P  AVG_WHT_P  DP_CHOKE_SIZE  BORE_OIL_VOL  \\\n",
       "762            3.25655     28.049     18.195         18.851         17.85   \n",
       "763            8.54913    102.121     36.967         72.955        725.00   \n",
       "764            9.41919        NaN        NaN            NaN        891.48   \n",
       "765            9.32210        NaN        NaN            NaN        886.42   \n",
       "766            2.46422      0.000      0.000          0.000         56.01   \n",
       "...                ...        ...        ...            ...           ...   \n",
       "1906         100.00000     26.999     83.821          3.504        543.81   \n",
       "1907         100.00000     26.955     84.780          3.391        541.88   \n",
       "1908         100.00000     26.902     82.589          3.412        534.87   \n",
       "1909         100.00000     26.870     83.608          3.402        530.27   \n",
       "1910          73.76372     27.465     85.029          4.191        180.04   \n",
       "\n",
       "      BORE_GAS_VOL  BORE_WAT_VOL   FLOW_KIND WELL_TYPE  \n",
       "762        2772.47          0.00  production        OP  \n",
       "763      108940.11          0.00  production        OP  \n",
       "764      131386.55          0.00  production        OP  \n",
       "765      134616.72          0.00  production        OP  \n",
       "766        9011.77          0.00  production        OP  \n",
       "...            ...           ...         ...       ...  \n",
       "1906      88042.16       3036.83  production        OP  \n",
       "1907      90188.97       2963.49  production        OP  \n",
       "1908      91890.07       2838.87  production        OP  \n",
       "1909      91579.73       2802.75  production        OP  \n",
       "1910      32165.98        896.59  production        OP  \n",
       "\n",
       "[1122 rows x 16 columns]"
      ],
      "text/html": [
       "<div>\n",
       "<style scoped>\n",
       "    .dataframe tbody tr th:only-of-type {\n",
       "        vertical-align: middle;\n",
       "    }\n",
       "\n",
       "    .dataframe tbody tr th {\n",
       "        vertical-align: top;\n",
       "    }\n",
       "\n",
       "    .dataframe thead th {\n",
       "        text-align: right;\n",
       "    }\n",
       "</style>\n",
       "<table border=\"1\" class=\"dataframe\">\n",
       "  <thead>\n",
       "    <tr style=\"text-align: right;\">\n",
       "      <th></th>\n",
       "      <th>DATEPRD</th>\n",
       "      <th>NPD_WELL_BORE_NAME</th>\n",
       "      <th>ON_STREAM_HRS</th>\n",
       "      <th>AVG_DOWNHOLE_PRESSURE</th>\n",
       "      <th>AVG_DOWNHOLE_TEMPERATURE</th>\n",
       "      <th>AVG_DP_TUBING</th>\n",
       "      <th>AVG_ANNULUS_PRESS</th>\n",
       "      <th>AVG_CHOKE_SIZE_P</th>\n",
       "      <th>AVG_WHP_P</th>\n",
       "      <th>AVG_WHT_P</th>\n",
       "      <th>DP_CHOKE_SIZE</th>\n",
       "      <th>BORE_OIL_VOL</th>\n",
       "      <th>BORE_GAS_VOL</th>\n",
       "      <th>BORE_WAT_VOL</th>\n",
       "      <th>FLOW_KIND</th>\n",
       "      <th>WELL_TYPE</th>\n",
       "    </tr>\n",
       "  </thead>\n",
       "  <tbody>\n",
       "    <tr>\n",
       "      <th>762</th>\n",
       "      <td>2013-07-24</td>\n",
       "      <td>15/9-F-11</td>\n",
       "      <td>7.00</td>\n",
       "      <td>1.926</td>\n",
       "      <td>0.352</td>\n",
       "      <td>26.123</td>\n",
       "      <td>2.885</td>\n",
       "      <td>3.25655</td>\n",
       "      <td>28.049</td>\n",
       "      <td>18.195</td>\n",
       "      <td>18.851</td>\n",
       "      <td>17.85</td>\n",
       "      <td>2772.47</td>\n",
       "      <td>0.00</td>\n",
       "      <td>production</td>\n",
       "      <td>OP</td>\n",
       "    </tr>\n",
       "    <tr>\n",
       "      <th>763</th>\n",
       "      <td>2013-07-25</td>\n",
       "      <td>15/9-F-11</td>\n",
       "      <td>24.00</td>\n",
       "      <td>163.594</td>\n",
       "      <td>60.316</td>\n",
       "      <td>61.473</td>\n",
       "      <td>19.465</td>\n",
       "      <td>8.54913</td>\n",
       "      <td>102.121</td>\n",
       "      <td>36.967</td>\n",
       "      <td>72.955</td>\n",
       "      <td>725.00</td>\n",
       "      <td>108940.11</td>\n",
       "      <td>0.00</td>\n",
       "      <td>production</td>\n",
       "      <td>OP</td>\n",
       "    </tr>\n",
       "    <tr>\n",
       "      <th>764</th>\n",
       "      <td>2013-07-26</td>\n",
       "      <td>15/9-F-11</td>\n",
       "      <td>24.00</td>\n",
       "      <td>NaN</td>\n",
       "      <td>NaN</td>\n",
       "      <td>NaN</td>\n",
       "      <td>NaN</td>\n",
       "      <td>9.41919</td>\n",
       "      <td>NaN</td>\n",
       "      <td>NaN</td>\n",
       "      <td>NaN</td>\n",
       "      <td>891.48</td>\n",
       "      <td>131386.55</td>\n",
       "      <td>0.00</td>\n",
       "      <td>production</td>\n",
       "      <td>OP</td>\n",
       "    </tr>\n",
       "    <tr>\n",
       "      <th>765</th>\n",
       "      <td>2013-07-27</td>\n",
       "      <td>15/9-F-11</td>\n",
       "      <td>24.00</td>\n",
       "      <td>NaN</td>\n",
       "      <td>NaN</td>\n",
       "      <td>NaN</td>\n",
       "      <td>NaN</td>\n",
       "      <td>9.32210</td>\n",
       "      <td>NaN</td>\n",
       "      <td>NaN</td>\n",
       "      <td>NaN</td>\n",
       "      <td>886.42</td>\n",
       "      <td>134616.72</td>\n",
       "      <td>0.00</td>\n",
       "      <td>production</td>\n",
       "      <td>OP</td>\n",
       "    </tr>\n",
       "    <tr>\n",
       "      <th>766</th>\n",
       "      <td>2013-07-28</td>\n",
       "      <td>15/9-F-11</td>\n",
       "      <td>0.84</td>\n",
       "      <td>0.000</td>\n",
       "      <td>0.000</td>\n",
       "      <td>0.000</td>\n",
       "      <td>0.000</td>\n",
       "      <td>2.46422</td>\n",
       "      <td>0.000</td>\n",
       "      <td>0.000</td>\n",
       "      <td>0.000</td>\n",
       "      <td>56.01</td>\n",
       "      <td>9011.77</td>\n",
       "      <td>0.00</td>\n",
       "      <td>production</td>\n",
       "      <td>OP</td>\n",
       "    </tr>\n",
       "    <tr>\n",
       "      <th>...</th>\n",
       "      <td>...</td>\n",
       "      <td>...</td>\n",
       "      <td>...</td>\n",
       "      <td>...</td>\n",
       "      <td>...</td>\n",
       "      <td>...</td>\n",
       "      <td>...</td>\n",
       "      <td>...</td>\n",
       "      <td>...</td>\n",
       "      <td>...</td>\n",
       "      <td>...</td>\n",
       "      <td>...</td>\n",
       "      <td>...</td>\n",
       "      <td>...</td>\n",
       "      <td>...</td>\n",
       "      <td>...</td>\n",
       "    </tr>\n",
       "    <tr>\n",
       "      <th>1906</th>\n",
       "      <td>2016-09-13</td>\n",
       "      <td>15/9-F-11</td>\n",
       "      <td>24.00</td>\n",
       "      <td>253.399</td>\n",
       "      <td>105.267</td>\n",
       "      <td>226.401</td>\n",
       "      <td>22.564</td>\n",
       "      <td>100.00000</td>\n",
       "      <td>26.999</td>\n",
       "      <td>83.821</td>\n",
       "      <td>3.504</td>\n",
       "      <td>543.81</td>\n",
       "      <td>88042.16</td>\n",
       "      <td>3036.83</td>\n",
       "      <td>production</td>\n",
       "      <td>OP</td>\n",
       "    </tr>\n",
       "    <tr>\n",
       "      <th>1907</th>\n",
       "      <td>2016-09-14</td>\n",
       "      <td>15/9-F-11</td>\n",
       "      <td>24.00</td>\n",
       "      <td>253.210</td>\n",
       "      <td>105.272</td>\n",
       "      <td>226.255</td>\n",
       "      <td>22.720</td>\n",
       "      <td>100.00000</td>\n",
       "      <td>26.955</td>\n",
       "      <td>84.780</td>\n",
       "      <td>3.391</td>\n",
       "      <td>541.88</td>\n",
       "      <td>90188.97</td>\n",
       "      <td>2963.49</td>\n",
       "      <td>production</td>\n",
       "      <td>OP</td>\n",
       "    </tr>\n",
       "    <tr>\n",
       "      <th>1908</th>\n",
       "      <td>2016-09-15</td>\n",
       "      <td>15/9-F-11</td>\n",
       "      <td>24.00</td>\n",
       "      <td>252.939</td>\n",
       "      <td>105.274</td>\n",
       "      <td>226.037</td>\n",
       "      <td>22.581</td>\n",
       "      <td>100.00000</td>\n",
       "      <td>26.902</td>\n",
       "      <td>82.589</td>\n",
       "      <td>3.412</td>\n",
       "      <td>534.87</td>\n",
       "      <td>91890.07</td>\n",
       "      <td>2838.87</td>\n",
       "      <td>production</td>\n",
       "      <td>OP</td>\n",
       "    </tr>\n",
       "    <tr>\n",
       "      <th>1909</th>\n",
       "      <td>2016-09-16</td>\n",
       "      <td>15/9-F-11</td>\n",
       "      <td>24.00</td>\n",
       "      <td>252.892</td>\n",
       "      <td>105.276</td>\n",
       "      <td>226.022</td>\n",
       "      <td>22.571</td>\n",
       "      <td>100.00000</td>\n",
       "      <td>26.870</td>\n",
       "      <td>83.608</td>\n",
       "      <td>3.402</td>\n",
       "      <td>530.27</td>\n",
       "      <td>91579.73</td>\n",
       "      <td>2802.75</td>\n",
       "      <td>production</td>\n",
       "      <td>OP</td>\n",
       "    </tr>\n",
       "    <tr>\n",
       "      <th>1910</th>\n",
       "      <td>2016-09-17</td>\n",
       "      <td>15/9-F-11</td>\n",
       "      <td>8.28</td>\n",
       "      <td>253.546</td>\n",
       "      <td>105.279</td>\n",
       "      <td>226.081</td>\n",
       "      <td>22.636</td>\n",
       "      <td>73.76372</td>\n",
       "      <td>27.465</td>\n",
       "      <td>85.029</td>\n",
       "      <td>4.191</td>\n",
       "      <td>180.04</td>\n",
       "      <td>32165.98</td>\n",
       "      <td>896.59</td>\n",
       "      <td>production</td>\n",
       "      <td>OP</td>\n",
       "    </tr>\n",
       "  </tbody>\n",
       "</table>\n",
       "<p>1122 rows × 16 columns</p>\n",
       "</div>"
      ]
     },
     "metadata": {},
     "execution_count": 90
    }
   ],
   "metadata": {}
  },
  {
   "cell_type": "code",
   "execution_count": 91,
   "source": [
    "parametros2=df_well_2.iloc[:,2:14]"
   ],
   "outputs": [],
   "metadata": {}
  },
  {
   "cell_type": "code",
   "execution_count": 92,
   "source": [
    "datos2=imp.fit_transform(parametros2)\n",
    "df_sin_nan2=pd.DataFrame(datos2, columns=encabezados)\n",
    "df_sin_nan2.isnull().values.sum()"
   ],
   "outputs": [
    {
     "output_type": "execute_result",
     "data": {
      "text/plain": [
       "0"
      ]
     },
     "metadata": {},
     "execution_count": 92
    }
   ],
   "metadata": {}
  },
  {
   "cell_type": "code",
   "execution_count": 93,
   "source": [
    "df_sin_nan2"
   ],
   "outputs": [
    {
     "output_type": "execute_result",
     "data": {
      "text/plain": [
       "      ON_STREAM_HRS  AVG_DOWNHOLE_PRESSURE  AVG_DOWNHOLE_TEMPERATURE  \\\n",
       "0              7.00               1.926000                  0.352000   \n",
       "1             24.00             163.594000                 60.316000   \n",
       "2             24.00             235.070643                105.562517   \n",
       "3             24.00             235.070643                105.562517   \n",
       "4              0.84               0.000000                  0.000000   \n",
       "...             ...                    ...                       ...   \n",
       "1117          24.00             253.399000                105.267000   \n",
       "1118          24.00             253.210000                105.272000   \n",
       "1119          24.00             252.939000                105.274000   \n",
       "1120          24.00             252.892000                105.276000   \n",
       "1121           8.28             253.546000                105.279000   \n",
       "\n",
       "      AVG_DP_TUBING  AVG_ANNULUS_PRESS  AVG_CHOKE_SIZE_P   AVG_WHP_P  \\\n",
       "0         26.123000           2.885000           3.25655   28.049000   \n",
       "1         61.473000          19.465000           8.54913  102.121000   \n",
       "2        183.138009          19.097765           9.41919   51.979349   \n",
       "3        183.138009          19.097765           9.32210   51.979349   \n",
       "4          0.000000           0.000000           2.46422    0.000000   \n",
       "...             ...                ...               ...         ...   \n",
       "1117     226.401000          22.564000         100.00000   26.999000   \n",
       "1118     226.255000          22.720000         100.00000   26.955000   \n",
       "1119     226.037000          22.581000         100.00000   26.902000   \n",
       "1120     226.022000          22.571000         100.00000   26.870000   \n",
       "1121     226.081000          22.636000          73.76372   27.465000   \n",
       "\n",
       "      AVG_WHT_P  DP_CHOKE_SIZE  BORE_OIL_VOL  BORE_GAS_VOL  BORE_WAT_VOL  \n",
       "0       18.1950      18.851000         17.85       2772.47          0.00  \n",
       "1       36.9670      72.955000        725.00     108940.11          0.00  \n",
       "2       70.0738      24.355319        891.48     131386.55          0.00  \n",
       "3       70.0738      24.355319        886.42     134616.72          0.00  \n",
       "4        0.0000       0.000000         56.01       9011.77          0.00  \n",
       "...         ...            ...           ...           ...           ...  \n",
       "1117    83.8210       3.504000        543.81      88042.16       3036.83  \n",
       "1118    84.7800       3.391000        541.88      90188.97       2963.49  \n",
       "1119    82.5890       3.412000        534.87      91890.07       2838.87  \n",
       "1120    83.6080       3.402000        530.27      91579.73       2802.75  \n",
       "1121    85.0290       4.191000        180.04      32165.98        896.59  \n",
       "\n",
       "[1122 rows x 12 columns]"
      ],
      "text/html": [
       "<div>\n",
       "<style scoped>\n",
       "    .dataframe tbody tr th:only-of-type {\n",
       "        vertical-align: middle;\n",
       "    }\n",
       "\n",
       "    .dataframe tbody tr th {\n",
       "        vertical-align: top;\n",
       "    }\n",
       "\n",
       "    .dataframe thead th {\n",
       "        text-align: right;\n",
       "    }\n",
       "</style>\n",
       "<table border=\"1\" class=\"dataframe\">\n",
       "  <thead>\n",
       "    <tr style=\"text-align: right;\">\n",
       "      <th></th>\n",
       "      <th>ON_STREAM_HRS</th>\n",
       "      <th>AVG_DOWNHOLE_PRESSURE</th>\n",
       "      <th>AVG_DOWNHOLE_TEMPERATURE</th>\n",
       "      <th>AVG_DP_TUBING</th>\n",
       "      <th>AVG_ANNULUS_PRESS</th>\n",
       "      <th>AVG_CHOKE_SIZE_P</th>\n",
       "      <th>AVG_WHP_P</th>\n",
       "      <th>AVG_WHT_P</th>\n",
       "      <th>DP_CHOKE_SIZE</th>\n",
       "      <th>BORE_OIL_VOL</th>\n",
       "      <th>BORE_GAS_VOL</th>\n",
       "      <th>BORE_WAT_VOL</th>\n",
       "    </tr>\n",
       "  </thead>\n",
       "  <tbody>\n",
       "    <tr>\n",
       "      <th>0</th>\n",
       "      <td>7.00</td>\n",
       "      <td>1.926000</td>\n",
       "      <td>0.352000</td>\n",
       "      <td>26.123000</td>\n",
       "      <td>2.885000</td>\n",
       "      <td>3.25655</td>\n",
       "      <td>28.049000</td>\n",
       "      <td>18.1950</td>\n",
       "      <td>18.851000</td>\n",
       "      <td>17.85</td>\n",
       "      <td>2772.47</td>\n",
       "      <td>0.00</td>\n",
       "    </tr>\n",
       "    <tr>\n",
       "      <th>1</th>\n",
       "      <td>24.00</td>\n",
       "      <td>163.594000</td>\n",
       "      <td>60.316000</td>\n",
       "      <td>61.473000</td>\n",
       "      <td>19.465000</td>\n",
       "      <td>8.54913</td>\n",
       "      <td>102.121000</td>\n",
       "      <td>36.9670</td>\n",
       "      <td>72.955000</td>\n",
       "      <td>725.00</td>\n",
       "      <td>108940.11</td>\n",
       "      <td>0.00</td>\n",
       "    </tr>\n",
       "    <tr>\n",
       "      <th>2</th>\n",
       "      <td>24.00</td>\n",
       "      <td>235.070643</td>\n",
       "      <td>105.562517</td>\n",
       "      <td>183.138009</td>\n",
       "      <td>19.097765</td>\n",
       "      <td>9.41919</td>\n",
       "      <td>51.979349</td>\n",
       "      <td>70.0738</td>\n",
       "      <td>24.355319</td>\n",
       "      <td>891.48</td>\n",
       "      <td>131386.55</td>\n",
       "      <td>0.00</td>\n",
       "    </tr>\n",
       "    <tr>\n",
       "      <th>3</th>\n",
       "      <td>24.00</td>\n",
       "      <td>235.070643</td>\n",
       "      <td>105.562517</td>\n",
       "      <td>183.138009</td>\n",
       "      <td>19.097765</td>\n",
       "      <td>9.32210</td>\n",
       "      <td>51.979349</td>\n",
       "      <td>70.0738</td>\n",
       "      <td>24.355319</td>\n",
       "      <td>886.42</td>\n",
       "      <td>134616.72</td>\n",
       "      <td>0.00</td>\n",
       "    </tr>\n",
       "    <tr>\n",
       "      <th>4</th>\n",
       "      <td>0.84</td>\n",
       "      <td>0.000000</td>\n",
       "      <td>0.000000</td>\n",
       "      <td>0.000000</td>\n",
       "      <td>0.000000</td>\n",
       "      <td>2.46422</td>\n",
       "      <td>0.000000</td>\n",
       "      <td>0.0000</td>\n",
       "      <td>0.000000</td>\n",
       "      <td>56.01</td>\n",
       "      <td>9011.77</td>\n",
       "      <td>0.00</td>\n",
       "    </tr>\n",
       "    <tr>\n",
       "      <th>...</th>\n",
       "      <td>...</td>\n",
       "      <td>...</td>\n",
       "      <td>...</td>\n",
       "      <td>...</td>\n",
       "      <td>...</td>\n",
       "      <td>...</td>\n",
       "      <td>...</td>\n",
       "      <td>...</td>\n",
       "      <td>...</td>\n",
       "      <td>...</td>\n",
       "      <td>...</td>\n",
       "      <td>...</td>\n",
       "    </tr>\n",
       "    <tr>\n",
       "      <th>1117</th>\n",
       "      <td>24.00</td>\n",
       "      <td>253.399000</td>\n",
       "      <td>105.267000</td>\n",
       "      <td>226.401000</td>\n",
       "      <td>22.564000</td>\n",
       "      <td>100.00000</td>\n",
       "      <td>26.999000</td>\n",
       "      <td>83.8210</td>\n",
       "      <td>3.504000</td>\n",
       "      <td>543.81</td>\n",
       "      <td>88042.16</td>\n",
       "      <td>3036.83</td>\n",
       "    </tr>\n",
       "    <tr>\n",
       "      <th>1118</th>\n",
       "      <td>24.00</td>\n",
       "      <td>253.210000</td>\n",
       "      <td>105.272000</td>\n",
       "      <td>226.255000</td>\n",
       "      <td>22.720000</td>\n",
       "      <td>100.00000</td>\n",
       "      <td>26.955000</td>\n",
       "      <td>84.7800</td>\n",
       "      <td>3.391000</td>\n",
       "      <td>541.88</td>\n",
       "      <td>90188.97</td>\n",
       "      <td>2963.49</td>\n",
       "    </tr>\n",
       "    <tr>\n",
       "      <th>1119</th>\n",
       "      <td>24.00</td>\n",
       "      <td>252.939000</td>\n",
       "      <td>105.274000</td>\n",
       "      <td>226.037000</td>\n",
       "      <td>22.581000</td>\n",
       "      <td>100.00000</td>\n",
       "      <td>26.902000</td>\n",
       "      <td>82.5890</td>\n",
       "      <td>3.412000</td>\n",
       "      <td>534.87</td>\n",
       "      <td>91890.07</td>\n",
       "      <td>2838.87</td>\n",
       "    </tr>\n",
       "    <tr>\n",
       "      <th>1120</th>\n",
       "      <td>24.00</td>\n",
       "      <td>252.892000</td>\n",
       "      <td>105.276000</td>\n",
       "      <td>226.022000</td>\n",
       "      <td>22.571000</td>\n",
       "      <td>100.00000</td>\n",
       "      <td>26.870000</td>\n",
       "      <td>83.6080</td>\n",
       "      <td>3.402000</td>\n",
       "      <td>530.27</td>\n",
       "      <td>91579.73</td>\n",
       "      <td>2802.75</td>\n",
       "    </tr>\n",
       "    <tr>\n",
       "      <th>1121</th>\n",
       "      <td>8.28</td>\n",
       "      <td>253.546000</td>\n",
       "      <td>105.279000</td>\n",
       "      <td>226.081000</td>\n",
       "      <td>22.636000</td>\n",
       "      <td>73.76372</td>\n",
       "      <td>27.465000</td>\n",
       "      <td>85.0290</td>\n",
       "      <td>4.191000</td>\n",
       "      <td>180.04</td>\n",
       "      <td>32165.98</td>\n",
       "      <td>896.59</td>\n",
       "    </tr>\n",
       "  </tbody>\n",
       "</table>\n",
       "<p>1122 rows × 12 columns</p>\n",
       "</div>"
      ]
     },
     "metadata": {},
     "execution_count": 93
    }
   ],
   "metadata": {}
  },
  {
   "cell_type": "markdown",
   "source": [
    "-----------------------------------------------------------------------------------------------------------------------------------------------------------------------------------------------------------------"
   ],
   "metadata": {
    "tags": []
   }
  },
  {
   "cell_type": "markdown",
   "source": [
    "## POZO 3"
   ],
   "metadata": {}
  },
  {
   "cell_type": "code",
   "execution_count": 94,
   "source": [
    "df_well_3.isnull().values.sum()"
   ],
   "outputs": [
    {
     "output_type": "execute_result",
     "data": {
      "text/plain": [
       "31"
      ]
     },
     "metadata": {},
     "execution_count": 94
    }
   ],
   "metadata": {
    "tags": []
   }
  },
  {
   "cell_type": "code",
   "execution_count": 95,
   "source": [
    "parametros3=df_well_3.iloc[:,2:14]\n",
    "datos3=imp.fit_transform(parametros3)\n",
    "df_sin_nan3=pd.DataFrame(datos3,columns=encabezados)\n",
    "df_sin_nan3.isnull().values.sum()"
   ],
   "outputs": [
    {
     "output_type": "execute_result",
     "data": {
      "text/plain": [
       "0"
      ]
     },
     "metadata": {},
     "execution_count": 95
    }
   ],
   "metadata": {}
  },
  {
   "cell_type": "markdown",
   "source": [
    "## POZO 4"
   ],
   "metadata": {}
  },
  {
   "cell_type": "code",
   "execution_count": 96,
   "source": [
    "df_well_4.isnull().values.sum()"
   ],
   "outputs": [
    {
     "output_type": "execute_result",
     "data": {
      "text/plain": [
       "517"
      ]
     },
     "metadata": {},
     "execution_count": 96
    }
   ],
   "metadata": {}
  },
  {
   "cell_type": "code",
   "execution_count": 98,
   "source": [
    "parametros4=df_well_4.iloc[:,2:14]\n",
    "datos4=imp.fit_transform(parametros4)\n",
    "df_sin_nan4=pd.DataFrame(datos4,columns=encabezados)\n",
    "df_sin_nan4.isnull().values.sum()"
   ],
   "outputs": [
    {
     "output_type": "execute_result",
     "data": {
      "text/plain": [
       "0"
      ]
     },
     "metadata": {},
     "execution_count": 98
    }
   ],
   "metadata": {}
  },
  {
   "cell_type": "markdown",
   "source": [
    "## POZO 5"
   ],
   "metadata": {}
  },
  {
   "cell_type": "code",
   "execution_count": 99,
   "source": [
    "df_well_5.isnull().values.sum()"
   ],
   "outputs": [
    {
     "output_type": "execute_result",
     "data": {
      "text/plain": [
       "0"
      ]
     },
     "metadata": {},
     "execution_count": 99
    }
   ],
   "metadata": {}
  },
  {
   "cell_type": "markdown",
   "source": [
    "## POZO 6"
   ],
   "metadata": {}
  },
  {
   "cell_type": "code",
   "execution_count": 100,
   "source": [
    "df_well_6"
   ],
   "outputs": [
    {
     "output_type": "execute_result",
     "data": {
      "text/plain": [
       "         DATEPRD NPD_WELL_BORE_NAME  ON_STREAM_HRS  AVG_DOWNHOLE_PRESSURE  \\\n",
       "15482 2016-04-20           15/9-F-5           5.84                    NaN   \n",
       "15483 2016-04-21           15/9-F-5          24.00                    NaN   \n",
       "15484 2016-04-22           15/9-F-5          24.00                    NaN   \n",
       "15485 2016-04-23           15/9-F-5          24.00                    NaN   \n",
       "15486 2016-04-24           15/9-F-5          24.00                    NaN   \n",
       "...          ...                ...            ...                    ...   \n",
       "15606 2016-08-22           15/9-F-5          24.00                    NaN   \n",
       "15607 2016-08-23           15/9-F-5          24.00                    NaN   \n",
       "15608 2016-08-24           15/9-F-5          24.00                    NaN   \n",
       "15609 2016-08-25           15/9-F-5          24.00                    NaN   \n",
       "15610 2016-08-26           15/9-F-5          20.59                    NaN   \n",
       "\n",
       "       AVG_DOWNHOLE_TEMPERATURE  AVG_DP_TUBING  AVG_ANNULUS_PRESS  \\\n",
       "15482                       NaN            NaN             14.579   \n",
       "15483                       NaN            NaN             25.364   \n",
       "15484                       NaN            NaN             28.703   \n",
       "15485                       NaN            NaN             29.454   \n",
       "15486                       NaN            NaN             20.473   \n",
       "...                         ...            ...                ...   \n",
       "15606                       NaN            NaN             24.998   \n",
       "15607                       NaN            NaN             25.074   \n",
       "15608                       NaN            NaN             24.934   \n",
       "15609                       NaN            NaN             24.931   \n",
       "15610                       NaN            NaN             24.828   \n",
       "\n",
       "       AVG_CHOKE_SIZE_P  AVG_WHP_P  AVG_WHT_P  DP_CHOKE_SIZE  BORE_OIL_VOL  \\\n",
       "15482          16.66558     12.232     21.798          1.506         17.75   \n",
       "15483          80.41459     26.123     54.169          0.623        396.80   \n",
       "15484          79.40019     26.003     57.744          0.559        358.12   \n",
       "15485          79.45973     26.028     57.133          0.571        327.46   \n",
       "15486          79.45728     25.681     58.343          0.499        319.31   \n",
       "...                 ...        ...        ...            ...           ...   \n",
       "15606         100.00000     23.650     57.480          0.120        371.33   \n",
       "15607         100.00000     23.728     56.862          0.190        378.55   \n",
       "15608         100.00000     23.703     56.249          0.168        376.86   \n",
       "15609         100.00000     23.642     57.884          0.102        377.44   \n",
       "15610          83.87681     23.970     55.872          0.420        327.16   \n",
       "\n",
       "       BORE_GAS_VOL  BORE_WAT_VOL   FLOW_KIND WELL_TYPE  \n",
       "15482       3048.80         71.05  production        OP  \n",
       "15483      62250.56        334.07  production        OP  \n",
       "15484      53895.45        327.99  production        OP  \n",
       "15485      52669.63        288.67  production        OP  \n",
       "15486      51560.99        214.09  production        OP  \n",
       "...             ...           ...         ...       ...  \n",
       "15606      57934.84         90.61  production        OP  \n",
       "15607      59119.57         90.11  production        OP  \n",
       "15608      58632.31         91.32  production        OP  \n",
       "15609      59337.43         91.38  production        OP  \n",
       "15610      52209.60         77.52  production        OP  \n",
       "\n",
       "[129 rows x 16 columns]"
      ],
      "text/html": [
       "<div>\n",
       "<style scoped>\n",
       "    .dataframe tbody tr th:only-of-type {\n",
       "        vertical-align: middle;\n",
       "    }\n",
       "\n",
       "    .dataframe tbody tr th {\n",
       "        vertical-align: top;\n",
       "    }\n",
       "\n",
       "    .dataframe thead th {\n",
       "        text-align: right;\n",
       "    }\n",
       "</style>\n",
       "<table border=\"1\" class=\"dataframe\">\n",
       "  <thead>\n",
       "    <tr style=\"text-align: right;\">\n",
       "      <th></th>\n",
       "      <th>DATEPRD</th>\n",
       "      <th>NPD_WELL_BORE_NAME</th>\n",
       "      <th>ON_STREAM_HRS</th>\n",
       "      <th>AVG_DOWNHOLE_PRESSURE</th>\n",
       "      <th>AVG_DOWNHOLE_TEMPERATURE</th>\n",
       "      <th>AVG_DP_TUBING</th>\n",
       "      <th>AVG_ANNULUS_PRESS</th>\n",
       "      <th>AVG_CHOKE_SIZE_P</th>\n",
       "      <th>AVG_WHP_P</th>\n",
       "      <th>AVG_WHT_P</th>\n",
       "      <th>DP_CHOKE_SIZE</th>\n",
       "      <th>BORE_OIL_VOL</th>\n",
       "      <th>BORE_GAS_VOL</th>\n",
       "      <th>BORE_WAT_VOL</th>\n",
       "      <th>FLOW_KIND</th>\n",
       "      <th>WELL_TYPE</th>\n",
       "    </tr>\n",
       "  </thead>\n",
       "  <tbody>\n",
       "    <tr>\n",
       "      <th>15482</th>\n",
       "      <td>2016-04-20</td>\n",
       "      <td>15/9-F-5</td>\n",
       "      <td>5.84</td>\n",
       "      <td>NaN</td>\n",
       "      <td>NaN</td>\n",
       "      <td>NaN</td>\n",
       "      <td>14.579</td>\n",
       "      <td>16.66558</td>\n",
       "      <td>12.232</td>\n",
       "      <td>21.798</td>\n",
       "      <td>1.506</td>\n",
       "      <td>17.75</td>\n",
       "      <td>3048.80</td>\n",
       "      <td>71.05</td>\n",
       "      <td>production</td>\n",
       "      <td>OP</td>\n",
       "    </tr>\n",
       "    <tr>\n",
       "      <th>15483</th>\n",
       "      <td>2016-04-21</td>\n",
       "      <td>15/9-F-5</td>\n",
       "      <td>24.00</td>\n",
       "      <td>NaN</td>\n",
       "      <td>NaN</td>\n",
       "      <td>NaN</td>\n",
       "      <td>25.364</td>\n",
       "      <td>80.41459</td>\n",
       "      <td>26.123</td>\n",
       "      <td>54.169</td>\n",
       "      <td>0.623</td>\n",
       "      <td>396.80</td>\n",
       "      <td>62250.56</td>\n",
       "      <td>334.07</td>\n",
       "      <td>production</td>\n",
       "      <td>OP</td>\n",
       "    </tr>\n",
       "    <tr>\n",
       "      <th>15484</th>\n",
       "      <td>2016-04-22</td>\n",
       "      <td>15/9-F-5</td>\n",
       "      <td>24.00</td>\n",
       "      <td>NaN</td>\n",
       "      <td>NaN</td>\n",
       "      <td>NaN</td>\n",
       "      <td>28.703</td>\n",
       "      <td>79.40019</td>\n",
       "      <td>26.003</td>\n",
       "      <td>57.744</td>\n",
       "      <td>0.559</td>\n",
       "      <td>358.12</td>\n",
       "      <td>53895.45</td>\n",
       "      <td>327.99</td>\n",
       "      <td>production</td>\n",
       "      <td>OP</td>\n",
       "    </tr>\n",
       "    <tr>\n",
       "      <th>15485</th>\n",
       "      <td>2016-04-23</td>\n",
       "      <td>15/9-F-5</td>\n",
       "      <td>24.00</td>\n",
       "      <td>NaN</td>\n",
       "      <td>NaN</td>\n",
       "      <td>NaN</td>\n",
       "      <td>29.454</td>\n",
       "      <td>79.45973</td>\n",
       "      <td>26.028</td>\n",
       "      <td>57.133</td>\n",
       "      <td>0.571</td>\n",
       "      <td>327.46</td>\n",
       "      <td>52669.63</td>\n",
       "      <td>288.67</td>\n",
       "      <td>production</td>\n",
       "      <td>OP</td>\n",
       "    </tr>\n",
       "    <tr>\n",
       "      <th>15486</th>\n",
       "      <td>2016-04-24</td>\n",
       "      <td>15/9-F-5</td>\n",
       "      <td>24.00</td>\n",
       "      <td>NaN</td>\n",
       "      <td>NaN</td>\n",
       "      <td>NaN</td>\n",
       "      <td>20.473</td>\n",
       "      <td>79.45728</td>\n",
       "      <td>25.681</td>\n",
       "      <td>58.343</td>\n",
       "      <td>0.499</td>\n",
       "      <td>319.31</td>\n",
       "      <td>51560.99</td>\n",
       "      <td>214.09</td>\n",
       "      <td>production</td>\n",
       "      <td>OP</td>\n",
       "    </tr>\n",
       "    <tr>\n",
       "      <th>...</th>\n",
       "      <td>...</td>\n",
       "      <td>...</td>\n",
       "      <td>...</td>\n",
       "      <td>...</td>\n",
       "      <td>...</td>\n",
       "      <td>...</td>\n",
       "      <td>...</td>\n",
       "      <td>...</td>\n",
       "      <td>...</td>\n",
       "      <td>...</td>\n",
       "      <td>...</td>\n",
       "      <td>...</td>\n",
       "      <td>...</td>\n",
       "      <td>...</td>\n",
       "      <td>...</td>\n",
       "      <td>...</td>\n",
       "    </tr>\n",
       "    <tr>\n",
       "      <th>15606</th>\n",
       "      <td>2016-08-22</td>\n",
       "      <td>15/9-F-5</td>\n",
       "      <td>24.00</td>\n",
       "      <td>NaN</td>\n",
       "      <td>NaN</td>\n",
       "      <td>NaN</td>\n",
       "      <td>24.998</td>\n",
       "      <td>100.00000</td>\n",
       "      <td>23.650</td>\n",
       "      <td>57.480</td>\n",
       "      <td>0.120</td>\n",
       "      <td>371.33</td>\n",
       "      <td>57934.84</td>\n",
       "      <td>90.61</td>\n",
       "      <td>production</td>\n",
       "      <td>OP</td>\n",
       "    </tr>\n",
       "    <tr>\n",
       "      <th>15607</th>\n",
       "      <td>2016-08-23</td>\n",
       "      <td>15/9-F-5</td>\n",
       "      <td>24.00</td>\n",
       "      <td>NaN</td>\n",
       "      <td>NaN</td>\n",
       "      <td>NaN</td>\n",
       "      <td>25.074</td>\n",
       "      <td>100.00000</td>\n",
       "      <td>23.728</td>\n",
       "      <td>56.862</td>\n",
       "      <td>0.190</td>\n",
       "      <td>378.55</td>\n",
       "      <td>59119.57</td>\n",
       "      <td>90.11</td>\n",
       "      <td>production</td>\n",
       "      <td>OP</td>\n",
       "    </tr>\n",
       "    <tr>\n",
       "      <th>15608</th>\n",
       "      <td>2016-08-24</td>\n",
       "      <td>15/9-F-5</td>\n",
       "      <td>24.00</td>\n",
       "      <td>NaN</td>\n",
       "      <td>NaN</td>\n",
       "      <td>NaN</td>\n",
       "      <td>24.934</td>\n",
       "      <td>100.00000</td>\n",
       "      <td>23.703</td>\n",
       "      <td>56.249</td>\n",
       "      <td>0.168</td>\n",
       "      <td>376.86</td>\n",
       "      <td>58632.31</td>\n",
       "      <td>91.32</td>\n",
       "      <td>production</td>\n",
       "      <td>OP</td>\n",
       "    </tr>\n",
       "    <tr>\n",
       "      <th>15609</th>\n",
       "      <td>2016-08-25</td>\n",
       "      <td>15/9-F-5</td>\n",
       "      <td>24.00</td>\n",
       "      <td>NaN</td>\n",
       "      <td>NaN</td>\n",
       "      <td>NaN</td>\n",
       "      <td>24.931</td>\n",
       "      <td>100.00000</td>\n",
       "      <td>23.642</td>\n",
       "      <td>57.884</td>\n",
       "      <td>0.102</td>\n",
       "      <td>377.44</td>\n",
       "      <td>59337.43</td>\n",
       "      <td>91.38</td>\n",
       "      <td>production</td>\n",
       "      <td>OP</td>\n",
       "    </tr>\n",
       "    <tr>\n",
       "      <th>15610</th>\n",
       "      <td>2016-08-26</td>\n",
       "      <td>15/9-F-5</td>\n",
       "      <td>20.59</td>\n",
       "      <td>NaN</td>\n",
       "      <td>NaN</td>\n",
       "      <td>NaN</td>\n",
       "      <td>24.828</td>\n",
       "      <td>83.87681</td>\n",
       "      <td>23.970</td>\n",
       "      <td>55.872</td>\n",
       "      <td>0.420</td>\n",
       "      <td>327.16</td>\n",
       "      <td>52209.60</td>\n",
       "      <td>77.52</td>\n",
       "      <td>production</td>\n",
       "      <td>OP</td>\n",
       "    </tr>\n",
       "  </tbody>\n",
       "</table>\n",
       "<p>129 rows × 16 columns</p>\n",
       "</div>"
      ]
     },
     "metadata": {},
     "execution_count": 100
    }
   ],
   "metadata": {}
  },
  {
   "cell_type": "code",
   "execution_count": 101,
   "source": [
    "df_well_6.isnull().values.sum()"
   ],
   "outputs": [
    {
     "output_type": "execute_result",
     "data": {
      "text/plain": [
       "387"
      ]
     },
     "metadata": {},
     "execution_count": 101
    }
   ],
   "metadata": {}
  },
  {
   "cell_type": "code",
   "execution_count": 102,
   "source": [
    "encabezados_new=[\"ON_STREAM_HRS\",\"AVG_ANNULUS_PRESS\",\"AVG_CHOKE_SIZE_P\",\"AVG_WHP_P\",\"AVG_WHT_P\",\"DP_CHOKE_SIZE\",\"BORE_OIL_VOL\",\"BORE_GAS_VOL\",\"BORE_WAT_VOL\"]"
   ],
   "outputs": [],
   "metadata": {}
  },
  {
   "cell_type": "code",
   "execution_count": 103,
   "source": [
    "parametros6=df_well_6.iloc[:,2:14]\n",
    "datos6=imp.fit_transform(parametros6)\n",
    "df_sin_nan6=pd.DataFrame(datos6,columns=encabezados_new)\n",
    "df_sin_nan6.isnull().values.sum()"
   ],
   "outputs": [
    {
     "output_type": "execute_result",
     "data": {
      "text/plain": [
       "0"
      ]
     },
     "metadata": {},
     "execution_count": 103
    }
   ],
   "metadata": {}
  },
  {
   "cell_type": "code",
   "execution_count": 104,
   "source": [
    "df_sin_nan6"
   ],
   "outputs": [
    {
     "output_type": "execute_result",
     "data": {
      "text/plain": [
       "     ON_STREAM_HRS  AVG_ANNULUS_PRESS  AVG_CHOKE_SIZE_P  AVG_WHP_P  AVG_WHT_P  \\\n",
       "0             5.84             14.579          16.66558     12.232     21.798   \n",
       "1            24.00             25.364          80.41459     26.123     54.169   \n",
       "2            24.00             28.703          79.40019     26.003     57.744   \n",
       "3            24.00             29.454          79.45973     26.028     57.133   \n",
       "4            24.00             20.473          79.45728     25.681     58.343   \n",
       "..             ...                ...               ...        ...        ...   \n",
       "124          24.00             24.998         100.00000     23.650     57.480   \n",
       "125          24.00             25.074         100.00000     23.728     56.862   \n",
       "126          24.00             24.934         100.00000     23.703     56.249   \n",
       "127          24.00             24.931         100.00000     23.642     57.884   \n",
       "128          20.59             24.828          83.87681     23.970     55.872   \n",
       "\n",
       "     DP_CHOKE_SIZE  BORE_OIL_VOL  BORE_GAS_VOL  BORE_WAT_VOL  \n",
       "0            1.506         17.75       3048.80         71.05  \n",
       "1            0.623        396.80      62250.56        334.07  \n",
       "2            0.559        358.12      53895.45        327.99  \n",
       "3            0.571        327.46      52669.63        288.67  \n",
       "4            0.499        319.31      51560.99        214.09  \n",
       "..             ...           ...           ...           ...  \n",
       "124          0.120        371.33      57934.84         90.61  \n",
       "125          0.190        378.55      59119.57         90.11  \n",
       "126          0.168        376.86      58632.31         91.32  \n",
       "127          0.102        377.44      59337.43         91.38  \n",
       "128          0.420        327.16      52209.60         77.52  \n",
       "\n",
       "[129 rows x 9 columns]"
      ],
      "text/html": [
       "<div>\n",
       "<style scoped>\n",
       "    .dataframe tbody tr th:only-of-type {\n",
       "        vertical-align: middle;\n",
       "    }\n",
       "\n",
       "    .dataframe tbody tr th {\n",
       "        vertical-align: top;\n",
       "    }\n",
       "\n",
       "    .dataframe thead th {\n",
       "        text-align: right;\n",
       "    }\n",
       "</style>\n",
       "<table border=\"1\" class=\"dataframe\">\n",
       "  <thead>\n",
       "    <tr style=\"text-align: right;\">\n",
       "      <th></th>\n",
       "      <th>ON_STREAM_HRS</th>\n",
       "      <th>AVG_ANNULUS_PRESS</th>\n",
       "      <th>AVG_CHOKE_SIZE_P</th>\n",
       "      <th>AVG_WHP_P</th>\n",
       "      <th>AVG_WHT_P</th>\n",
       "      <th>DP_CHOKE_SIZE</th>\n",
       "      <th>BORE_OIL_VOL</th>\n",
       "      <th>BORE_GAS_VOL</th>\n",
       "      <th>BORE_WAT_VOL</th>\n",
       "    </tr>\n",
       "  </thead>\n",
       "  <tbody>\n",
       "    <tr>\n",
       "      <th>0</th>\n",
       "      <td>5.84</td>\n",
       "      <td>14.579</td>\n",
       "      <td>16.66558</td>\n",
       "      <td>12.232</td>\n",
       "      <td>21.798</td>\n",
       "      <td>1.506</td>\n",
       "      <td>17.75</td>\n",
       "      <td>3048.80</td>\n",
       "      <td>71.05</td>\n",
       "    </tr>\n",
       "    <tr>\n",
       "      <th>1</th>\n",
       "      <td>24.00</td>\n",
       "      <td>25.364</td>\n",
       "      <td>80.41459</td>\n",
       "      <td>26.123</td>\n",
       "      <td>54.169</td>\n",
       "      <td>0.623</td>\n",
       "      <td>396.80</td>\n",
       "      <td>62250.56</td>\n",
       "      <td>334.07</td>\n",
       "    </tr>\n",
       "    <tr>\n",
       "      <th>2</th>\n",
       "      <td>24.00</td>\n",
       "      <td>28.703</td>\n",
       "      <td>79.40019</td>\n",
       "      <td>26.003</td>\n",
       "      <td>57.744</td>\n",
       "      <td>0.559</td>\n",
       "      <td>358.12</td>\n",
       "      <td>53895.45</td>\n",
       "      <td>327.99</td>\n",
       "    </tr>\n",
       "    <tr>\n",
       "      <th>3</th>\n",
       "      <td>24.00</td>\n",
       "      <td>29.454</td>\n",
       "      <td>79.45973</td>\n",
       "      <td>26.028</td>\n",
       "      <td>57.133</td>\n",
       "      <td>0.571</td>\n",
       "      <td>327.46</td>\n",
       "      <td>52669.63</td>\n",
       "      <td>288.67</td>\n",
       "    </tr>\n",
       "    <tr>\n",
       "      <th>4</th>\n",
       "      <td>24.00</td>\n",
       "      <td>20.473</td>\n",
       "      <td>79.45728</td>\n",
       "      <td>25.681</td>\n",
       "      <td>58.343</td>\n",
       "      <td>0.499</td>\n",
       "      <td>319.31</td>\n",
       "      <td>51560.99</td>\n",
       "      <td>214.09</td>\n",
       "    </tr>\n",
       "    <tr>\n",
       "      <th>...</th>\n",
       "      <td>...</td>\n",
       "      <td>...</td>\n",
       "      <td>...</td>\n",
       "      <td>...</td>\n",
       "      <td>...</td>\n",
       "      <td>...</td>\n",
       "      <td>...</td>\n",
       "      <td>...</td>\n",
       "      <td>...</td>\n",
       "    </tr>\n",
       "    <tr>\n",
       "      <th>124</th>\n",
       "      <td>24.00</td>\n",
       "      <td>24.998</td>\n",
       "      <td>100.00000</td>\n",
       "      <td>23.650</td>\n",
       "      <td>57.480</td>\n",
       "      <td>0.120</td>\n",
       "      <td>371.33</td>\n",
       "      <td>57934.84</td>\n",
       "      <td>90.61</td>\n",
       "    </tr>\n",
       "    <tr>\n",
       "      <th>125</th>\n",
       "      <td>24.00</td>\n",
       "      <td>25.074</td>\n",
       "      <td>100.00000</td>\n",
       "      <td>23.728</td>\n",
       "      <td>56.862</td>\n",
       "      <td>0.190</td>\n",
       "      <td>378.55</td>\n",
       "      <td>59119.57</td>\n",
       "      <td>90.11</td>\n",
       "    </tr>\n",
       "    <tr>\n",
       "      <th>126</th>\n",
       "      <td>24.00</td>\n",
       "      <td>24.934</td>\n",
       "      <td>100.00000</td>\n",
       "      <td>23.703</td>\n",
       "      <td>56.249</td>\n",
       "      <td>0.168</td>\n",
       "      <td>376.86</td>\n",
       "      <td>58632.31</td>\n",
       "      <td>91.32</td>\n",
       "    </tr>\n",
       "    <tr>\n",
       "      <th>127</th>\n",
       "      <td>24.00</td>\n",
       "      <td>24.931</td>\n",
       "      <td>100.00000</td>\n",
       "      <td>23.642</td>\n",
       "      <td>57.884</td>\n",
       "      <td>0.102</td>\n",
       "      <td>377.44</td>\n",
       "      <td>59337.43</td>\n",
       "      <td>91.38</td>\n",
       "    </tr>\n",
       "    <tr>\n",
       "      <th>128</th>\n",
       "      <td>20.59</td>\n",
       "      <td>24.828</td>\n",
       "      <td>83.87681</td>\n",
       "      <td>23.970</td>\n",
       "      <td>55.872</td>\n",
       "      <td>0.420</td>\n",
       "      <td>327.16</td>\n",
       "      <td>52209.60</td>\n",
       "      <td>77.52</td>\n",
       "    </tr>\n",
       "  </tbody>\n",
       "</table>\n",
       "<p>129 rows × 9 columns</p>\n",
       "</div>"
      ]
     },
     "metadata": {},
     "execution_count": 104
    }
   ],
   "metadata": {}
  },
  {
   "cell_type": "markdown",
   "source": [
    "----------------------------------------------------------------------------------------------------------------------------------------------------------------------------------------------------------------"
   ],
   "metadata": {}
  },
  {
   "cell_type": "markdown",
   "source": [
    "# POZOS INJECTORES"
   ],
   "metadata": {}
  },
  {
   "cell_type": "code",
   "execution_count": 105,
   "source": [
    "df_injectores=data_tratada[data_tratada.FLOW_KIND==\"injection\"]"
   ],
   "outputs": [],
   "metadata": {}
  },
  {
   "cell_type": "code",
   "execution_count": 106,
   "source": [
    "names_inj = pd.unique(df_injectores[\"NPD_WELL_BORE_NAME\"])\n",
    "list(names_inj)"
   ],
   "outputs": [
    {
     "output_type": "execute_result",
     "data": {
      "text/plain": [
       "['15/9-F-4', '15/9-F-5']"
      ]
     },
     "metadata": {},
     "execution_count": 106
    }
   ],
   "metadata": {}
  },
  {
   "cell_type": "code",
   "execution_count": 107,
   "source": [
    "del df_injectores[\"AVG_DOWNHOLE_PRESSURE\"]\n",
    "del df_injectores[\"AVG_DOWNHOLE_TEMPERATURE\"]\n",
    "del df_injectores[\"AVG_DP_TUBING\"]\n",
    "del df_injectores[\"AVG_ANNULUS_PRESS\"]\n",
    "del df_injectores[\"AVG_CHOKE_SIZE_P\"]\n",
    "del df_injectores[\"AVG_WHP_P\"]\n",
    "del df_injectores[\"DP_CHOKE_SIZE\"]\n",
    "del df_injectores[\"BORE_OIL_VOL\"]\n",
    "del df_injectores[\"BORE_GAS_VOL\"]\n",
    "del df_injectores[\"BORE_WAT_VOL\"]"
   ],
   "outputs": [],
   "metadata": {}
  },
  {
   "cell_type": "code",
   "execution_count": 108,
   "source": [
    "del df_injectores[\"AVG_WHT_P\"]"
   ],
   "outputs": [],
   "metadata": {}
  },
  {
   "cell_type": "code",
   "execution_count": 109,
   "source": [
    "df_well_7=df_injectores[df_injectores.NPD_WELL_BORE_NAME==\"15/9-F-4\"]\n",
    "df_well_8=df_injectores[df_injectores.NPD_WELL_BORE_NAME==\"15/9-F-5\"]"
   ],
   "outputs": [],
   "metadata": {}
  },
  {
   "cell_type": "code",
   "execution_count": 110,
   "source": [
    "lista_df_well_inj=[df_well_7,df_well_8]\n",
    "for name in lista_df_well_inj:\n",
    "    nulos=name.isnull().values.sum()\n",
    "    print(nulos)"
   ],
   "outputs": [
    {
     "output_type": "stream",
     "name": "stdout",
     "text": [
      "0\n",
      "0\n"
     ]
    }
   ],
   "metadata": {}
  },
  {
   "cell_type": "markdown",
   "source": [
    "## POZO 7"
   ],
   "metadata": {}
  },
  {
   "cell_type": "code",
   "execution_count": 111,
   "source": [
    "df_well_7"
   ],
   "outputs": [
    {
     "output_type": "execute_result",
     "data": {
      "text/plain": [
       "         DATEPRD NPD_WELL_BORE_NAME  ON_STREAM_HRS  BORE_WI_VOL  FLOW_KIND  \\\n",
       "9236  2008-04-23           15/9-F-4          10.00       166.08  injection   \n",
       "9237  2008-04-24           15/9-F-4          24.00      3565.07  injection   \n",
       "9238  2008-04-25           15/9-F-4          24.00      6916.92  injection   \n",
       "9239  2008-04-26           15/9-F-4          18.65      6617.82  injection   \n",
       "9240  2008-04-27           15/9-F-4          15.96      4507.00  injection   \n",
       "...          ...                ...            ...          ...        ...   \n",
       "12300 2016-09-12           15/9-F-4          10.94      1971.78  injection   \n",
       "12302 2016-09-14           15/9-F-4           9.56      1810.68  injection   \n",
       "12303 2016-09-15           15/9-F-4          24.00      4469.38  injection   \n",
       "12304 2016-09-16           15/9-F-4          24.00      4474.81  injection   \n",
       "12305 2016-09-17           15/9-F-4           7.61      1419.01  injection   \n",
       "\n",
       "      WELL_TYPE  \n",
       "9236         WI  \n",
       "9237         WI  \n",
       "9238         WI  \n",
       "9239         WI  \n",
       "9240         WI  \n",
       "...         ...  \n",
       "12300        WI  \n",
       "12302        WI  \n",
       "12303        WI  \n",
       "12304        WI  \n",
       "12305        WI  \n",
       "\n",
       "[2830 rows x 6 columns]"
      ],
      "text/html": [
       "<div>\n",
       "<style scoped>\n",
       "    .dataframe tbody tr th:only-of-type {\n",
       "        vertical-align: middle;\n",
       "    }\n",
       "\n",
       "    .dataframe tbody tr th {\n",
       "        vertical-align: top;\n",
       "    }\n",
       "\n",
       "    .dataframe thead th {\n",
       "        text-align: right;\n",
       "    }\n",
       "</style>\n",
       "<table border=\"1\" class=\"dataframe\">\n",
       "  <thead>\n",
       "    <tr style=\"text-align: right;\">\n",
       "      <th></th>\n",
       "      <th>DATEPRD</th>\n",
       "      <th>NPD_WELL_BORE_NAME</th>\n",
       "      <th>ON_STREAM_HRS</th>\n",
       "      <th>BORE_WI_VOL</th>\n",
       "      <th>FLOW_KIND</th>\n",
       "      <th>WELL_TYPE</th>\n",
       "    </tr>\n",
       "  </thead>\n",
       "  <tbody>\n",
       "    <tr>\n",
       "      <th>9236</th>\n",
       "      <td>2008-04-23</td>\n",
       "      <td>15/9-F-4</td>\n",
       "      <td>10.00</td>\n",
       "      <td>166.08</td>\n",
       "      <td>injection</td>\n",
       "      <td>WI</td>\n",
       "    </tr>\n",
       "    <tr>\n",
       "      <th>9237</th>\n",
       "      <td>2008-04-24</td>\n",
       "      <td>15/9-F-4</td>\n",
       "      <td>24.00</td>\n",
       "      <td>3565.07</td>\n",
       "      <td>injection</td>\n",
       "      <td>WI</td>\n",
       "    </tr>\n",
       "    <tr>\n",
       "      <th>9238</th>\n",
       "      <td>2008-04-25</td>\n",
       "      <td>15/9-F-4</td>\n",
       "      <td>24.00</td>\n",
       "      <td>6916.92</td>\n",
       "      <td>injection</td>\n",
       "      <td>WI</td>\n",
       "    </tr>\n",
       "    <tr>\n",
       "      <th>9239</th>\n",
       "      <td>2008-04-26</td>\n",
       "      <td>15/9-F-4</td>\n",
       "      <td>18.65</td>\n",
       "      <td>6617.82</td>\n",
       "      <td>injection</td>\n",
       "      <td>WI</td>\n",
       "    </tr>\n",
       "    <tr>\n",
       "      <th>9240</th>\n",
       "      <td>2008-04-27</td>\n",
       "      <td>15/9-F-4</td>\n",
       "      <td>15.96</td>\n",
       "      <td>4507.00</td>\n",
       "      <td>injection</td>\n",
       "      <td>WI</td>\n",
       "    </tr>\n",
       "    <tr>\n",
       "      <th>...</th>\n",
       "      <td>...</td>\n",
       "      <td>...</td>\n",
       "      <td>...</td>\n",
       "      <td>...</td>\n",
       "      <td>...</td>\n",
       "      <td>...</td>\n",
       "    </tr>\n",
       "    <tr>\n",
       "      <th>12300</th>\n",
       "      <td>2016-09-12</td>\n",
       "      <td>15/9-F-4</td>\n",
       "      <td>10.94</td>\n",
       "      <td>1971.78</td>\n",
       "      <td>injection</td>\n",
       "      <td>WI</td>\n",
       "    </tr>\n",
       "    <tr>\n",
       "      <th>12302</th>\n",
       "      <td>2016-09-14</td>\n",
       "      <td>15/9-F-4</td>\n",
       "      <td>9.56</td>\n",
       "      <td>1810.68</td>\n",
       "      <td>injection</td>\n",
       "      <td>WI</td>\n",
       "    </tr>\n",
       "    <tr>\n",
       "      <th>12303</th>\n",
       "      <td>2016-09-15</td>\n",
       "      <td>15/9-F-4</td>\n",
       "      <td>24.00</td>\n",
       "      <td>4469.38</td>\n",
       "      <td>injection</td>\n",
       "      <td>WI</td>\n",
       "    </tr>\n",
       "    <tr>\n",
       "      <th>12304</th>\n",
       "      <td>2016-09-16</td>\n",
       "      <td>15/9-F-4</td>\n",
       "      <td>24.00</td>\n",
       "      <td>4474.81</td>\n",
       "      <td>injection</td>\n",
       "      <td>WI</td>\n",
       "    </tr>\n",
       "    <tr>\n",
       "      <th>12305</th>\n",
       "      <td>2016-09-17</td>\n",
       "      <td>15/9-F-4</td>\n",
       "      <td>7.61</td>\n",
       "      <td>1419.01</td>\n",
       "      <td>injection</td>\n",
       "      <td>WI</td>\n",
       "    </tr>\n",
       "  </tbody>\n",
       "</table>\n",
       "<p>2830 rows × 6 columns</p>\n",
       "</div>"
      ]
     },
     "metadata": {},
     "execution_count": 111
    }
   ],
   "metadata": {}
  },
  {
   "cell_type": "code",
   "execution_count": 112,
   "source": [
    "df_well_7.isnull().values.sum()"
   ],
   "outputs": [
    {
     "output_type": "execute_result",
     "data": {
      "text/plain": [
       "0"
      ]
     },
     "metadata": {},
     "execution_count": 112
    }
   ],
   "metadata": {}
  },
  {
   "cell_type": "markdown",
   "source": [
    "### limpieza de outliers de la columna BORE_WI_VOL"
   ],
   "metadata": {}
  },
  {
   "cell_type": "code",
   "execution_count": 113,
   "source": [
    "figuresizes = (5,5)\n",
    "plt.figure(figsize=figuresizes)\n",
    "sns.boxplot(y=\"BORE_WI_VOL\",data=df_well_7)"
   ],
   "outputs": [
    {
     "output_type": "execute_result",
     "data": {
      "text/plain": [
       "<AxesSubplot:ylabel='BORE_WI_VOL'>"
      ]
     },
     "metadata": {},
     "execution_count": 113
    },
    {
     "output_type": "display_data",
     "data": {
      "text/plain": [
       "<Figure size 360x360 with 1 Axes>"
      ],
      "image/png": "[encoded data removed]"
     },
     "metadata": {
      "needs_background": "light"
     }
    }
   ],
   "metadata": {}
  },
  {
   "cell_type": "code",
   "execution_count": 114,
   "source": [
    "Q1=df_well_7[\"BORE_WI_VOL\"].quantile(0.25)\n",
    "Q3=df_well_7[\"BORE_WI_VOL\"].quantile(0.75)\n",
    "IQR=Q3-Q1\n",
    "lower_whisker_p7=Q1-1.5*IQR\n",
    "upper_whisker_p7=Q3+1.5*IQR\n",
    "print(lower_whisker_p7)\n",
    "print(upper_whisker_p7)"
   ],
   "outputs": [
    {
     "output_type": "stream",
     "name": "stdout",
     "text": [
      "621.1474999999996\n",
      "10922.6675\n"
     ]
    }
   ],
   "metadata": {}
  },
  {
   "cell_type": "code",
   "execution_count": 115,
   "source": [
    "df_wi_p7=df_well_7[df_well_7[\"BORE_WI_VOL\"]>lower_whisker_p7]\n",
    "df_wi_p7.shape"
   ],
   "outputs": [
    {
     "output_type": "execute_result",
     "data": {
      "text/plain": [
       "(2803, 6)"
      ]
     },
     "metadata": {},
     "execution_count": 115
    }
   ],
   "metadata": {}
  },
  {
   "cell_type": "code",
   "execution_count": 116,
   "source": [
    "figuresizes = (5,5)\n",
    "plt.figure(figsize=figuresizes)\n",
    "sns.boxplot(y=\"BORE_WI_VOL\",data=df_wi_p7)"
   ],
   "outputs": [
    {
     "output_type": "execute_result",
     "data": {
      "text/plain": [
       "<AxesSubplot:ylabel='BORE_WI_VOL'>"
      ]
     },
     "metadata": {},
     "execution_count": 116
    },
    {
     "output_type": "display_data",
     "data": {
      "text/plain": [
       "<Figure size 360x360 with 1 Axes>"
      ],
      "image/png": "[encoded data removed]"
     },
     "metadata": {
      "needs_background": "light"
     }
    }
   ],
   "metadata": {}
  },
  {
   "cell_type": "code",
   "execution_count": 117,
   "source": [
    "df_modif_pozo7=df_well_7.BORE_WI_VOL.where(df_well_7.BORE_WI_VOL>lower_whisker_p7,df_wi_p7.BORE_WI_VOL.mean())\n",
    "df_modif_pozo7"
   ],
   "outputs": [
    {
     "output_type": "execute_result",
     "data": {
      "text/plain": [
       "9236     5789.616882\n",
       "9237     3565.070000\n",
       "9238     6916.920000\n",
       "9239     6617.820000\n",
       "9240     4507.000000\n",
       "            ...     \n",
       "12300    1971.780000\n",
       "12302    1810.680000\n",
       "12303    4469.380000\n",
       "12304    4474.810000\n",
       "12305    1419.010000\n",
       "Name: BORE_WI_VOL, Length: 2830, dtype: float64"
      ]
     },
     "metadata": {},
     "execution_count": 117
    }
   ],
   "metadata": {}
  },
  {
   "cell_type": "markdown",
   "source": [
    "#### CONSTRUCCIÓN DEL DF FINAL DEL POZO 7 CON LA DATA TRATADA"
   ],
   "metadata": {}
  },
  {
   "cell_type": "code",
   "execution_count": 118,
   "source": [
    "columna_p7c0=list(df_well_7.DATEPRD)\n",
    "columna_p7c1=list(df_modif_pozo7)"
   ],
   "outputs": [],
   "metadata": {}
  },
  {
   "cell_type": "code",
   "execution_count": 119,
   "source": [
    "dicc_well_7={\"DATEPRD\":columna_p7c0,\"BORE_WI_VOL_F4\":columna_p7c1}"
   ],
   "outputs": [],
   "metadata": {}
  },
  {
   "cell_type": "code",
   "execution_count": 120,
   "source": [
    "df_new_well_7=pd.DataFrame(dicc_well_7)\n",
    "df_new_well_7"
   ],
   "outputs": [
    {
     "output_type": "execute_result",
     "data": {
      "text/plain": [
       "        DATEPRD  BORE_WI_VOL_F4\n",
       "0    2008-04-23     5789.616882\n",
       "1    2008-04-24     3565.070000\n",
       "2    2008-04-25     6916.920000\n",
       "3    2008-04-26     6617.820000\n",
       "4    2008-04-27     4507.000000\n",
       "...         ...             ...\n",
       "2825 2016-09-12     1971.780000\n",
       "2826 2016-09-14     1810.680000\n",
       "2827 2016-09-15     4469.380000\n",
       "2828 2016-09-16     4474.810000\n",
       "2829 2016-09-17     1419.010000\n",
       "\n",
       "[2830 rows x 2 columns]"
      ],
      "text/html": [
       "<div>\n",
       "<style scoped>\n",
       "    .dataframe tbody tr th:only-of-type {\n",
       "        vertical-align: middle;\n",
       "    }\n",
       "\n",
       "    .dataframe tbody tr th {\n",
       "        vertical-align: top;\n",
       "    }\n",
       "\n",
       "    .dataframe thead th {\n",
       "        text-align: right;\n",
       "    }\n",
       "</style>\n",
       "<table border=\"1\" class=\"dataframe\">\n",
       "  <thead>\n",
       "    <tr style=\"text-align: right;\">\n",
       "      <th></th>\n",
       "      <th>DATEPRD</th>\n",
       "      <th>BORE_WI_VOL_F4</th>\n",
       "    </tr>\n",
       "  </thead>\n",
       "  <tbody>\n",
       "    <tr>\n",
       "      <th>0</th>\n",
       "      <td>2008-04-23</td>\n",
       "      <td>5789.616882</td>\n",
       "    </tr>\n",
       "    <tr>\n",
       "      <th>1</th>\n",
       "      <td>2008-04-24</td>\n",
       "      <td>3565.070000</td>\n",
       "    </tr>\n",
       "    <tr>\n",
       "      <th>2</th>\n",
       "      <td>2008-04-25</td>\n",
       "      <td>6916.920000</td>\n",
       "    </tr>\n",
       "    <tr>\n",
       "      <th>3</th>\n",
       "      <td>2008-04-26</td>\n",
       "      <td>6617.820000</td>\n",
       "    </tr>\n",
       "    <tr>\n",
       "      <th>4</th>\n",
       "      <td>2008-04-27</td>\n",
       "      <td>4507.000000</td>\n",
       "    </tr>\n",
       "    <tr>\n",
       "      <th>...</th>\n",
       "      <td>...</td>\n",
       "      <td>...</td>\n",
       "    </tr>\n",
       "    <tr>\n",
       "      <th>2825</th>\n",
       "      <td>2016-09-12</td>\n",
       "      <td>1971.780000</td>\n",
       "    </tr>\n",
       "    <tr>\n",
       "      <th>2826</th>\n",
       "      <td>2016-09-14</td>\n",
       "      <td>1810.680000</td>\n",
       "    </tr>\n",
       "    <tr>\n",
       "      <th>2827</th>\n",
       "      <td>2016-09-15</td>\n",
       "      <td>4469.380000</td>\n",
       "    </tr>\n",
       "    <tr>\n",
       "      <th>2828</th>\n",
       "      <td>2016-09-16</td>\n",
       "      <td>4474.810000</td>\n",
       "    </tr>\n",
       "    <tr>\n",
       "      <th>2829</th>\n",
       "      <td>2016-09-17</td>\n",
       "      <td>1419.010000</td>\n",
       "    </tr>\n",
       "  </tbody>\n",
       "</table>\n",
       "<p>2830 rows × 2 columns</p>\n",
       "</div>"
      ]
     },
     "metadata": {},
     "execution_count": 120
    }
   ],
   "metadata": {}
  },
  {
   "cell_type": "code",
   "execution_count": 121,
   "source": [
    "list_w7=[]"
   ],
   "outputs": [],
   "metadata": {}
  },
  {
   "cell_type": "code",
   "execution_count": 122,
   "source": [
    "for i in range(len(columna_p7c0)):\n",
    "    clave=columna_p7c0[i]\n",
    "    valor=columna_p7c1[i]\n",
    "    list_w7.append({clave:valor})"
   ],
   "outputs": [],
   "metadata": {}
  },
  {
   "cell_type": "markdown",
   "source": [
    "## POZO 8"
   ],
   "metadata": {}
  },
  {
   "cell_type": "code",
   "execution_count": 123,
   "source": [
    "df_well_8"
   ],
   "outputs": [
    {
     "output_type": "execute_result",
     "data": {
      "text/plain": [
       "         DATEPRD NPD_WELL_BORE_NAME  ON_STREAM_HRS  BORE_WI_VOL  FLOW_KIND  \\\n",
       "12688 2008-08-26           15/9-F-5           6.50      1300.07  injection   \n",
       "12689 2008-08-27           15/9-F-5           9.00      1718.00  injection   \n",
       "12690 2008-08-28           15/9-F-5          18.21      3092.00  injection   \n",
       "12691 2008-08-29           15/9-F-5          16.54      2224.00  injection   \n",
       "12692 2008-08-30           15/9-F-5          24.00      3206.86  injection   \n",
       "...          ...                ...            ...          ...        ...   \n",
       "15464 2016-04-02           15/9-F-5           6.01      1182.63  injection   \n",
       "15465 2016-04-03           15/9-F-5          24.00      4395.17  injection   \n",
       "15466 2016-04-04           15/9-F-5          18.58      3437.60  injection   \n",
       "15467 2016-04-05           15/9-F-5          16.50      3972.17  injection   \n",
       "15468 2016-04-06           15/9-F-5          10.66      2825.43  injection   \n",
       "\n",
       "      WELL_TYPE  \n",
       "12688        WI  \n",
       "12689        WI  \n",
       "12690        WI  \n",
       "12691        WI  \n",
       "12692        WI  \n",
       "...         ...  \n",
       "15464        WI  \n",
       "15465        WI  \n",
       "15466        WI  \n",
       "15467        WI  \n",
       "15468        WI  \n",
       "\n",
       "[2547 rows x 6 columns]"
      ],
      "text/html": [
       "<div>\n",
       "<style scoped>\n",
       "    .dataframe tbody tr th:only-of-type {\n",
       "        vertical-align: middle;\n",
       "    }\n",
       "\n",
       "    .dataframe tbody tr th {\n",
       "        vertical-align: top;\n",
       "    }\n",
       "\n",
       "    .dataframe thead th {\n",
       "        text-align: right;\n",
       "    }\n",
       "</style>\n",
       "<table border=\"1\" class=\"dataframe\">\n",
       "  <thead>\n",
       "    <tr style=\"text-align: right;\">\n",
       "      <th></th>\n",
       "      <th>DATEPRD</th>\n",
       "      <th>NPD_WELL_BORE_NAME</th>\n",
       "      <th>ON_STREAM_HRS</th>\n",
       "      <th>BORE_WI_VOL</th>\n",
       "      <th>FLOW_KIND</th>\n",
       "      <th>WELL_TYPE</th>\n",
       "    </tr>\n",
       "  </thead>\n",
       "  <tbody>\n",
       "    <tr>\n",
       "      <th>12688</th>\n",
       "      <td>2008-08-26</td>\n",
       "      <td>15/9-F-5</td>\n",
       "      <td>6.50</td>\n",
       "      <td>1300.07</td>\n",
       "      <td>injection</td>\n",
       "      <td>WI</td>\n",
       "    </tr>\n",
       "    <tr>\n",
       "      <th>12689</th>\n",
       "      <td>2008-08-27</td>\n",
       "      <td>15/9-F-5</td>\n",
       "      <td>9.00</td>\n",
       "      <td>1718.00</td>\n",
       "      <td>injection</td>\n",
       "      <td>WI</td>\n",
       "    </tr>\n",
       "    <tr>\n",
       "      <th>12690</th>\n",
       "      <td>2008-08-28</td>\n",
       "      <td>15/9-F-5</td>\n",
       "      <td>18.21</td>\n",
       "      <td>3092.00</td>\n",
       "      <td>injection</td>\n",
       "      <td>WI</td>\n",
       "    </tr>\n",
       "    <tr>\n",
       "      <th>12691</th>\n",
       "      <td>2008-08-29</td>\n",
       "      <td>15/9-F-5</td>\n",
       "      <td>16.54</td>\n",
       "      <td>2224.00</td>\n",
       "      <td>injection</td>\n",
       "      <td>WI</td>\n",
       "    </tr>\n",
       "    <tr>\n",
       "      <th>12692</th>\n",
       "      <td>2008-08-30</td>\n",
       "      <td>15/9-F-5</td>\n",
       "      <td>24.00</td>\n",
       "      <td>3206.86</td>\n",
       "      <td>injection</td>\n",
       "      <td>WI</td>\n",
       "    </tr>\n",
       "    <tr>\n",
       "      <th>...</th>\n",
       "      <td>...</td>\n",
       "      <td>...</td>\n",
       "      <td>...</td>\n",
       "      <td>...</td>\n",
       "      <td>...</td>\n",
       "      <td>...</td>\n",
       "    </tr>\n",
       "    <tr>\n",
       "      <th>15464</th>\n",
       "      <td>2016-04-02</td>\n",
       "      <td>15/9-F-5</td>\n",
       "      <td>6.01</td>\n",
       "      <td>1182.63</td>\n",
       "      <td>injection</td>\n",
       "      <td>WI</td>\n",
       "    </tr>\n",
       "    <tr>\n",
       "      <th>15465</th>\n",
       "      <td>2016-04-03</td>\n",
       "      <td>15/9-F-5</td>\n",
       "      <td>24.00</td>\n",
       "      <td>4395.17</td>\n",
       "      <td>injection</td>\n",
       "      <td>WI</td>\n",
       "    </tr>\n",
       "    <tr>\n",
       "      <th>15466</th>\n",
       "      <td>2016-04-04</td>\n",
       "      <td>15/9-F-5</td>\n",
       "      <td>18.58</td>\n",
       "      <td>3437.60</td>\n",
       "      <td>injection</td>\n",
       "      <td>WI</td>\n",
       "    </tr>\n",
       "    <tr>\n",
       "      <th>15467</th>\n",
       "      <td>2016-04-05</td>\n",
       "      <td>15/9-F-5</td>\n",
       "      <td>16.50</td>\n",
       "      <td>3972.17</td>\n",
       "      <td>injection</td>\n",
       "      <td>WI</td>\n",
       "    </tr>\n",
       "    <tr>\n",
       "      <th>15468</th>\n",
       "      <td>2016-04-06</td>\n",
       "      <td>15/9-F-5</td>\n",
       "      <td>10.66</td>\n",
       "      <td>2825.43</td>\n",
       "      <td>injection</td>\n",
       "      <td>WI</td>\n",
       "    </tr>\n",
       "  </tbody>\n",
       "</table>\n",
       "<p>2547 rows × 6 columns</p>\n",
       "</div>"
      ]
     },
     "metadata": {},
     "execution_count": 123
    }
   ],
   "metadata": {}
  },
  {
   "cell_type": "code",
   "execution_count": 124,
   "source": [
    "df_well_8.isnull().values.sum()"
   ],
   "outputs": [
    {
     "output_type": "execute_result",
     "data": {
      "text/plain": [
       "0"
      ]
     },
     "metadata": {},
     "execution_count": 124
    }
   ],
   "metadata": {}
  },
  {
   "cell_type": "markdown",
   "source": [
    "### limpieza de outliers de la columna BORE_WI_VOL"
   ],
   "metadata": {}
  },
  {
   "cell_type": "code",
   "execution_count": 125,
   "source": [
    "figuresizes = (5,5)\n",
    "plt.figure(figsize=figuresizes)\n",
    "sns.boxplot(y=\"BORE_WI_VOL\",data=df_well_8)"
   ],
   "outputs": [
    {
     "output_type": "execute_result",
     "data": {
      "text/plain": [
       "<AxesSubplot:ylabel='BORE_WI_VOL'>"
      ]
     },
     "metadata": {},
     "execution_count": 125
    },
    {
     "output_type": "display_data",
     "data": {
      "text/plain": [
       "<Figure size 360x360 with 1 Axes>"
      ],
      "image/png": "[encoded data removed]"
     },
     "metadata": {
      "needs_background": "light"
     }
    }
   ],
   "metadata": {}
  },
  {
   "cell_type": "code",
   "execution_count": 126,
   "source": [
    "Q1=df_well_8[\"BORE_WI_VOL\"].quantile(0.25)\n",
    "Q3=df_well_8[\"BORE_WI_VOL\"].quantile(0.75)\n",
    "IQR=Q3-Q1\n",
    "lower_whisker_p8=Q1-1.4*IQR\n",
    "upper_whisker_p8=Q3+1.5*IQR\n",
    "print(lower_whisker_p8)\n",
    "print(upper_whisker_p8)"
   ],
   "outputs": [
    {
     "output_type": "stream",
     "name": "stdout",
     "text": [
      "1345.9780000000028\n",
      "9912.444999999998\n"
     ]
    }
   ],
   "metadata": {}
  },
  {
   "cell_type": "code",
   "execution_count": 127,
   "source": [
    "df_wi_p81=df_well_8[df_well_8[\"BORE_WI_VOL\"]>lower_whisker_p8]\n",
    "df_wi_p8=df_wi_p81[df_wi_p81[\"BORE_WI_VOL\"]<upper_whisker_p8]\n",
    "df_wi_p8.shape"
   ],
   "outputs": [
    {
     "output_type": "execute_result",
     "data": {
      "text/plain": [
       "(2494, 6)"
      ]
     },
     "metadata": {},
     "execution_count": 127
    }
   ],
   "metadata": {}
  },
  {
   "cell_type": "code",
   "execution_count": 128,
   "source": [
    "figuresizes = (5,5)\n",
    "plt.figure(figsize=figuresizes)\n",
    "sns.boxplot(y=\"BORE_WI_VOL\",data=df_wi_p8)"
   ],
   "outputs": [
    {
     "output_type": "execute_result",
     "data": {
      "text/plain": [
       "<AxesSubplot:ylabel='BORE_WI_VOL'>"
      ]
     },
     "metadata": {},
     "execution_count": 128
    },
    {
     "output_type": "display_data",
     "data": {
      "text/plain": [
       "<Figure size 360x360 with 1 Axes>"
      ],
      "image/png": "[encoded data removed]"
     },
     "metadata": {
      "needs_background": "light"
     }
    }
   ],
   "metadata": {}
  },
  {
   "cell_type": "code",
   "execution_count": 129,
   "source": [
    "df_modif_pozo81=df_well_8.BORE_WI_VOL.where(df_well_8.BORE_WI_VOL>lower_whisker_p8,df_wi_p8.BORE_WI_VOL.mean())\n",
    "df_modif_pozo8=df_modif_pozo81.where(df_modif_pozo81<upper_whisker_p8,df_wi_p8.BORE_WI_VOL.mean())\n",
    "df_modif_pozo8"
   ],
   "outputs": [
    {
     "output_type": "execute_result",
     "data": {
      "text/plain": [
       "12688    5629.787566\n",
       "12689    1718.000000\n",
       "12690    3092.000000\n",
       "12691    2224.000000\n",
       "12692    3206.860000\n",
       "            ...     \n",
       "15464    5629.787566\n",
       "15465    4395.170000\n",
       "15466    3437.600000\n",
       "15467    3972.170000\n",
       "15468    2825.430000\n",
       "Name: BORE_WI_VOL, Length: 2547, dtype: float64"
      ]
     },
     "metadata": {},
     "execution_count": 129
    }
   ],
   "metadata": {}
  },
  {
   "cell_type": "markdown",
   "source": [
    "#### CONSTRUCCIÓN DEL DF FINAL DEL POZO 8 CON LA DATA TRATADA"
   ],
   "metadata": {}
  },
  {
   "cell_type": "code",
   "execution_count": 130,
   "source": [
    "columna_p8c0=list(df_well_8.DATEPRD)\n",
    "columna_p8c1=list(df_modif_pozo8)"
   ],
   "outputs": [],
   "metadata": {}
  },
  {
   "cell_type": "code",
   "execution_count": 131,
   "source": [
    "dicc_well_8={\"DATEPRD\":columna_p8c0,\"BORE_WI_VOL_F5\":columna_p8c1}"
   ],
   "outputs": [],
   "metadata": {}
  },
  {
   "cell_type": "code",
   "execution_count": 132,
   "source": [
    "df_new_well_8=pd.DataFrame(dicc_well_8)\n",
    "df_new_well_8"
   ],
   "outputs": [
    {
     "output_type": "execute_result",
     "data": {
      "text/plain": [
       "        DATEPRD  BORE_WI_VOL_F5\n",
       "0    2008-08-26     5629.787566\n",
       "1    2008-08-27     1718.000000\n",
       "2    2008-08-28     3092.000000\n",
       "3    2008-08-29     2224.000000\n",
       "4    2008-08-30     3206.860000\n",
       "...         ...             ...\n",
       "2542 2016-04-02     5629.787566\n",
       "2543 2016-04-03     4395.170000\n",
       "2544 2016-04-04     3437.600000\n",
       "2545 2016-04-05     3972.170000\n",
       "2546 2016-04-06     2825.430000\n",
       "\n",
       "[2547 rows x 2 columns]"
      ],
      "text/html": [
       "<div>\n",
       "<style scoped>\n",
       "    .dataframe tbody tr th:only-of-type {\n",
       "        vertical-align: middle;\n",
       "    }\n",
       "\n",
       "    .dataframe tbody tr th {\n",
       "        vertical-align: top;\n",
       "    }\n",
       "\n",
       "    .dataframe thead th {\n",
       "        text-align: right;\n",
       "    }\n",
       "</style>\n",
       "<table border=\"1\" class=\"dataframe\">\n",
       "  <thead>\n",
       "    <tr style=\"text-align: right;\">\n",
       "      <th></th>\n",
       "      <th>DATEPRD</th>\n",
       "      <th>BORE_WI_VOL_F5</th>\n",
       "    </tr>\n",
       "  </thead>\n",
       "  <tbody>\n",
       "    <tr>\n",
       "      <th>0</th>\n",
       "      <td>2008-08-26</td>\n",
       "      <td>5629.787566</td>\n",
       "    </tr>\n",
       "    <tr>\n",
       "      <th>1</th>\n",
       "      <td>2008-08-27</td>\n",
       "      <td>1718.000000</td>\n",
       "    </tr>\n",
       "    <tr>\n",
       "      <th>2</th>\n",
       "      <td>2008-08-28</td>\n",
       "      <td>3092.000000</td>\n",
       "    </tr>\n",
       "    <tr>\n",
       "      <th>3</th>\n",
       "      <td>2008-08-29</td>\n",
       "      <td>2224.000000</td>\n",
       "    </tr>\n",
       "    <tr>\n",
       "      <th>4</th>\n",
       "      <td>2008-08-30</td>\n",
       "      <td>3206.860000</td>\n",
       "    </tr>\n",
       "    <tr>\n",
       "      <th>...</th>\n",
       "      <td>...</td>\n",
       "      <td>...</td>\n",
       "    </tr>\n",
       "    <tr>\n",
       "      <th>2542</th>\n",
       "      <td>2016-04-02</td>\n",
       "      <td>5629.787566</td>\n",
       "    </tr>\n",
       "    <tr>\n",
       "      <th>2543</th>\n",
       "      <td>2016-04-03</td>\n",
       "      <td>4395.170000</td>\n",
       "    </tr>\n",
       "    <tr>\n",
       "      <th>2544</th>\n",
       "      <td>2016-04-04</td>\n",
       "      <td>3437.600000</td>\n",
       "    </tr>\n",
       "    <tr>\n",
       "      <th>2545</th>\n",
       "      <td>2016-04-05</td>\n",
       "      <td>3972.170000</td>\n",
       "    </tr>\n",
       "    <tr>\n",
       "      <th>2546</th>\n",
       "      <td>2016-04-06</td>\n",
       "      <td>2825.430000</td>\n",
       "    </tr>\n",
       "  </tbody>\n",
       "</table>\n",
       "<p>2547 rows × 2 columns</p>\n",
       "</div>"
      ]
     },
     "metadata": {},
     "execution_count": 132
    }
   ],
   "metadata": {}
  },
  {
   "cell_type": "code",
   "execution_count": 133,
   "source": [
    "list_w8=[]"
   ],
   "outputs": [],
   "metadata": {}
  },
  {
   "cell_type": "code",
   "execution_count": 134,
   "source": [
    "for i in range(len(columna_p8c0)):\n",
    "    clave=columna_p8c0[i]\n",
    "    valor=columna_p8c1[i]\n",
    "    list_w8.append({clave:valor})"
   ],
   "outputs": [],
   "metadata": {}
  },
  {
   "cell_type": "markdown",
   "source": [
    "## POZO 1 df completo"
   ],
   "metadata": {}
  },
  {
   "cell_type": "code",
   "execution_count": 135,
   "source": [
    "columna_wi_F4=[]\n",
    "columna_wi_F5=[]"
   ],
   "outputs": [],
   "metadata": {}
  },
  {
   "cell_type": "code",
   "execution_count": 136,
   "source": [
    "for x in range(len(list(df_new_well_1.DATEPRD))):\n",
    "    fechas=list(df_new_well_1.DATEPRD)\n",
    "    fecha_interes=fechas[x]\n",
    "    vol1=0\n",
    "    vol2=0\n",
    "    for j in range(len(list_w7)):\n",
    "        diccj=list_w7[j]\n",
    "        clavej=list(diccj.keys())[0]\n",
    "        valorj=list(diccj.values())[0]\n",
    "        if fecha_interes==clavej:\n",
    "            vol1=valorj\n",
    "    for k in range(len(list_w8)):\n",
    "        dicck=list_w8[k]\n",
    "        clavek=list(dicck.keys())[0]\n",
    "        valork=list(dicck.values())[0]\n",
    "        if fecha_interes==clavek:\n",
    "            vol2=valork    \n",
    "    columna_wi_F4.append(vol1)\n",
    "    columna_wi_F5.append(vol2)\n",
    "        "
   ],
   "outputs": [],
   "metadata": {}
  },
  {
   "cell_type": "code",
   "execution_count": 137,
   "source": [
    "df_final_w1=df_new_well_1.assign(WI_F4=columna_wi_F4, WI_F5=columna_wi_F5)"
   ],
   "outputs": [],
   "metadata": {}
  },
  {
   "cell_type": "code",
   "execution_count": 138,
   "source": [
    "df_final_w1"
   ],
   "outputs": [
    {
     "output_type": "execute_result",
     "data": {
      "text/plain": [
       "       DATEPRD  ON_STREAM_HRS  AVG_DOWNHOLE_PRESSURE  \\\n",
       "0   2014-04-21          11.50                223.935   \n",
       "1   2014-04-22          24.00                223.935   \n",
       "2   2014-04-23          24.00                270.240   \n",
       "3   2014-04-24          24.00                262.843   \n",
       "4   2014-04-25          24.00                255.527   \n",
       "..         ...            ...                    ...   \n",
       "433 2016-04-02          24.00                223.012   \n",
       "434 2016-04-03          24.00                221.813   \n",
       "435 2016-04-04          24.00                220.780   \n",
       "436 2016-04-05          24.00                218.752   \n",
       "437 2016-04-06          20.82                218.438   \n",
       "\n",
       "     AVG_DOWNHOLE_TEMPERATURE  AVG_DP_TUBING  AVG_ANNULUS_PRESS  \\\n",
       "0                  108.124327        204.795                0.0   \n",
       "1                  108.124327        182.059                0.0   \n",
       "2                  108.124327        171.053                0.0   \n",
       "3                  107.869000        168.242                0.0   \n",
       "4                  107.971000        165.539                0.0   \n",
       "..                        ...            ...                ...   \n",
       "433                108.058000        196.629                0.0   \n",
       "434                108.044000        196.133                0.0   \n",
       "435                108.042000        195.665                0.0   \n",
       "436                108.078000        193.411                0.0   \n",
       "437                107.857000        192.830                0.0   \n",
       "\n",
       "     AVG_CHOKE_SIZE_P  AVG_WHP_P  AVG_WHT_P  AVG_CHOKE_SIZE  BORE_OIL_VOL  \\\n",
       "0           50.987051   35.27676  62.420736       11.025647      0.000000   \n",
       "1           43.343450   35.27676  37.939000       11.025647    631.470000   \n",
       "2           47.167520   35.27676  60.757000       11.025647    359.481355   \n",
       "3           47.732310   35.27676  63.047000       11.025647    359.481355   \n",
       "4           48.533770   35.27676  64.547000       11.025647    359.481355   \n",
       "..                ...        ...        ...             ...           ...   \n",
       "433         54.687740   26.38300  69.559000       10.681000    284.720000   \n",
       "434         54.724110   25.68100  72.502000        9.910000    280.170000   \n",
       "435         55.067950   25.11500  71.750000        9.197000    281.930000   \n",
       "436         55.998130   25.34100  72.218000        9.101000    317.380000   \n",
       "437         45.143440   25.60800  66.568000        9.830000    208.000000   \n",
       "\n",
       "     BORE_GAS_VOL  BORE_WAT_VOL    WI_F4        WI_F5  \n",
       "0        0.000000          0.00  5662.27  4768.820000  \n",
       "1    90439.090000          0.00  5789.49  4247.450000  \n",
       "2    55918.232095          0.00  6465.92  5060.800000  \n",
       "3    55918.232095          0.00  6158.80  5236.800000  \n",
       "4    55918.232095          0.00  6412.50  5423.600000  \n",
       "..            ...           ...      ...          ...  \n",
       "433  46880.140000        766.23  6429.66  5629.787566  \n",
       "434  45842.820000        748.25  4598.72  4395.170000  \n",
       "435  45800.830000        797.30  5137.82  3437.600000  \n",
       "436  51990.650000        792.76  6521.45  3972.170000  \n",
       "437  34998.300000        542.39  4443.90  2825.430000  \n",
       "\n",
       "[438 rows x 15 columns]"
      ],
      "text/html": [
       "<div>\n",
       "<style scoped>\n",
       "    .dataframe tbody tr th:only-of-type {\n",
       "        vertical-align: middle;\n",
       "    }\n",
       "\n",
       "    .dataframe tbody tr th {\n",
       "        vertical-align: top;\n",
       "    }\n",
       "\n",
       "    .dataframe thead th {\n",
       "        text-align: right;\n",
       "    }\n",
       "</style>\n",
       "<table border=\"1\" class=\"dataframe\">\n",
       "  <thead>\n",
       "    <tr style=\"text-align: right;\">\n",
       "      <th></th>\n",
       "      <th>DATEPRD</th>\n",
       "      <th>ON_STREAM_HRS</th>\n",
       "      <th>AVG_DOWNHOLE_PRESSURE</th>\n",
       "      <th>AVG_DOWNHOLE_TEMPERATURE</th>\n",
       "      <th>AVG_DP_TUBING</th>\n",
       "      <th>AVG_ANNULUS_PRESS</th>\n",
       "      <th>AVG_CHOKE_SIZE_P</th>\n",
       "      <th>AVG_WHP_P</th>\n",
       "      <th>AVG_WHT_P</th>\n",
       "      <th>AVG_CHOKE_SIZE</th>\n",
       "      <th>BORE_OIL_VOL</th>\n",
       "      <th>BORE_GAS_VOL</th>\n",
       "      <th>BORE_WAT_VOL</th>\n",
       "      <th>WI_F4</th>\n",
       "      <th>WI_F5</th>\n",
       "    </tr>\n",
       "  </thead>\n",
       "  <tbody>\n",
       "    <tr>\n",
       "      <th>0</th>\n",
       "      <td>2014-04-21</td>\n",
       "      <td>11.50</td>\n",
       "      <td>223.935</td>\n",
       "      <td>108.124327</td>\n",
       "      <td>204.795</td>\n",
       "      <td>0.0</td>\n",
       "      <td>50.987051</td>\n",
       "      <td>35.27676</td>\n",
       "      <td>62.420736</td>\n",
       "      <td>11.025647</td>\n",
       "      <td>0.000000</td>\n",
       "      <td>0.000000</td>\n",
       "      <td>0.00</td>\n",
       "      <td>5662.27</td>\n",
       "      <td>4768.820000</td>\n",
       "    </tr>\n",
       "    <tr>\n",
       "      <th>1</th>\n",
       "      <td>2014-04-22</td>\n",
       "      <td>24.00</td>\n",
       "      <td>223.935</td>\n",
       "      <td>108.124327</td>\n",
       "      <td>182.059</td>\n",
       "      <td>0.0</td>\n",
       "      <td>43.343450</td>\n",
       "      <td>35.27676</td>\n",
       "      <td>37.939000</td>\n",
       "      <td>11.025647</td>\n",
       "      <td>631.470000</td>\n",
       "      <td>90439.090000</td>\n",
       "      <td>0.00</td>\n",
       "      <td>5789.49</td>\n",
       "      <td>4247.450000</td>\n",
       "    </tr>\n",
       "    <tr>\n",
       "      <th>2</th>\n",
       "      <td>2014-04-23</td>\n",
       "      <td>24.00</td>\n",
       "      <td>270.240</td>\n",
       "      <td>108.124327</td>\n",
       "      <td>171.053</td>\n",
       "      <td>0.0</td>\n",
       "      <td>47.167520</td>\n",
       "      <td>35.27676</td>\n",
       "      <td>60.757000</td>\n",
       "      <td>11.025647</td>\n",
       "      <td>359.481355</td>\n",
       "      <td>55918.232095</td>\n",
       "      <td>0.00</td>\n",
       "      <td>6465.92</td>\n",
       "      <td>5060.800000</td>\n",
       "    </tr>\n",
       "    <tr>\n",
       "      <th>3</th>\n",
       "      <td>2014-04-24</td>\n",
       "      <td>24.00</td>\n",
       "      <td>262.843</td>\n",
       "      <td>107.869000</td>\n",
       "      <td>168.242</td>\n",
       "      <td>0.0</td>\n",
       "      <td>47.732310</td>\n",
       "      <td>35.27676</td>\n",
       "      <td>63.047000</td>\n",
       "      <td>11.025647</td>\n",
       "      <td>359.481355</td>\n",
       "      <td>55918.232095</td>\n",
       "      <td>0.00</td>\n",
       "      <td>6158.80</td>\n",
       "      <td>5236.800000</td>\n",
       "    </tr>\n",
       "    <tr>\n",
       "      <th>4</th>\n",
       "      <td>2014-04-25</td>\n",
       "      <td>24.00</td>\n",
       "      <td>255.527</td>\n",
       "      <td>107.971000</td>\n",
       "      <td>165.539</td>\n",
       "      <td>0.0</td>\n",
       "      <td>48.533770</td>\n",
       "      <td>35.27676</td>\n",
       "      <td>64.547000</td>\n",
       "      <td>11.025647</td>\n",
       "      <td>359.481355</td>\n",
       "      <td>55918.232095</td>\n",
       "      <td>0.00</td>\n",
       "      <td>6412.50</td>\n",
       "      <td>5423.600000</td>\n",
       "    </tr>\n",
       "    <tr>\n",
       "      <th>...</th>\n",
       "      <td>...</td>\n",
       "      <td>...</td>\n",
       "      <td>...</td>\n",
       "      <td>...</td>\n",
       "      <td>...</td>\n",
       "      <td>...</td>\n",
       "      <td>...</td>\n",
       "      <td>...</td>\n",
       "      <td>...</td>\n",
       "      <td>...</td>\n",
       "      <td>...</td>\n",
       "      <td>...</td>\n",
       "      <td>...</td>\n",
       "      <td>...</td>\n",
       "      <td>...</td>\n",
       "    </tr>\n",
       "    <tr>\n",
       "      <th>433</th>\n",
       "      <td>2016-04-02</td>\n",
       "      <td>24.00</td>\n",
       "      <td>223.012</td>\n",
       "      <td>108.058000</td>\n",
       "      <td>196.629</td>\n",
       "      <td>0.0</td>\n",
       "      <td>54.687740</td>\n",
       "      <td>26.38300</td>\n",
       "      <td>69.559000</td>\n",
       "      <td>10.681000</td>\n",
       "      <td>284.720000</td>\n",
       "      <td>46880.140000</td>\n",
       "      <td>766.23</td>\n",
       "      <td>6429.66</td>\n",
       "      <td>5629.787566</td>\n",
       "    </tr>\n",
       "    <tr>\n",
       "      <th>434</th>\n",
       "      <td>2016-04-03</td>\n",
       "      <td>24.00</td>\n",
       "      <td>221.813</td>\n",
       "      <td>108.044000</td>\n",
       "      <td>196.133</td>\n",
       "      <td>0.0</td>\n",
       "      <td>54.724110</td>\n",
       "      <td>25.68100</td>\n",
       "      <td>72.502000</td>\n",
       "      <td>9.910000</td>\n",
       "      <td>280.170000</td>\n",
       "      <td>45842.820000</td>\n",
       "      <td>748.25</td>\n",
       "      <td>4598.72</td>\n",
       "      <td>4395.170000</td>\n",
       "    </tr>\n",
       "    <tr>\n",
       "      <th>435</th>\n",
       "      <td>2016-04-04</td>\n",
       "      <td>24.00</td>\n",
       "      <td>220.780</td>\n",
       "      <td>108.042000</td>\n",
       "      <td>195.665</td>\n",
       "      <td>0.0</td>\n",
       "      <td>55.067950</td>\n",
       "      <td>25.11500</td>\n",
       "      <td>71.750000</td>\n",
       "      <td>9.197000</td>\n",
       "      <td>281.930000</td>\n",
       "      <td>45800.830000</td>\n",
       "      <td>797.30</td>\n",
       "      <td>5137.82</td>\n",
       "      <td>3437.600000</td>\n",
       "    </tr>\n",
       "    <tr>\n",
       "      <th>436</th>\n",
       "      <td>2016-04-05</td>\n",
       "      <td>24.00</td>\n",
       "      <td>218.752</td>\n",
       "      <td>108.078000</td>\n",
       "      <td>193.411</td>\n",
       "      <td>0.0</td>\n",
       "      <td>55.998130</td>\n",
       "      <td>25.34100</td>\n",
       "      <td>72.218000</td>\n",
       "      <td>9.101000</td>\n",
       "      <td>317.380000</td>\n",
       "      <td>51990.650000</td>\n",
       "      <td>792.76</td>\n",
       "      <td>6521.45</td>\n",
       "      <td>3972.170000</td>\n",
       "    </tr>\n",
       "    <tr>\n",
       "      <th>437</th>\n",
       "      <td>2016-04-06</td>\n",
       "      <td>20.82</td>\n",
       "      <td>218.438</td>\n",
       "      <td>107.857000</td>\n",
       "      <td>192.830</td>\n",
       "      <td>0.0</td>\n",
       "      <td>45.143440</td>\n",
       "      <td>25.60800</td>\n",
       "      <td>66.568000</td>\n",
       "      <td>9.830000</td>\n",
       "      <td>208.000000</td>\n",
       "      <td>34998.300000</td>\n",
       "      <td>542.39</td>\n",
       "      <td>4443.90</td>\n",
       "      <td>2825.430000</td>\n",
       "    </tr>\n",
       "  </tbody>\n",
       "</table>\n",
       "<p>438 rows × 15 columns</p>\n",
       "</div>"
      ]
     },
     "metadata": {},
     "execution_count": 138
    }
   ],
   "metadata": {}
  },
  {
   "cell_type": "markdown",
   "source": [
    "Escalammiento de los datos"
   ],
   "metadata": {}
  },
  {
   "cell_type": "code",
   "execution_count": 139,
   "source": [
    "from sklearn.preprocessing import StandardScaler, MinMaxScaler\n",
    "df_prescaled=df_final_w1.drop(\"DATEPRD\",axis=1)\n",
    "scaler_all_data=MinMaxScaler()\n",
    "data_scaled = scaler_all_data.fit_transform(df_prescaled)\n",
    "df_data_scaled=pd.DataFrame(data_scaled)\n",
    "df_data_scaled.head(5)"
   ],
   "outputs": [
    {
     "output_type": "execute_result",
     "data": {
      "text/plain": [
       "         0         1         2         3    4         5        6         7   \\\n",
       "0  0.443299  0.255315  0.523742  0.523227  0.0  0.497125  0.54229  0.558217   \n",
       "1  0.958763  0.255315  0.523742  0.285828  0.0  0.087381  0.54229  0.043170   \n",
       "2  0.958763  0.962564  0.523742  0.170908  0.0  0.292374  0.54229  0.523215   \n",
       "3  0.958763  0.849585  0.201765  0.141556  0.0  0.322651  0.54229  0.571393   \n",
       "4  0.958763  0.737842  0.330391  0.113333  0.0  0.365614  0.54229  0.602950   \n",
       "\n",
       "         8         9         10   11        12        13  \n",
       "0  0.433145  0.000000  0.000000  0.0  0.652247  0.592683  \n",
       "1  0.433145  0.821147  0.751729  0.0  0.666902  0.527886  \n",
       "2  0.433145  0.467460  0.464792  0.0  0.744821  0.628972  \n",
       "3  0.433145  0.467460  0.464792  0.0  0.709444  0.650845  \n",
       "4  0.433145  0.467460  0.464792  0.0  0.738668  0.674062  "
      ],
      "text/html": [
       "<div>\n",
       "<style scoped>\n",
       "    .dataframe tbody tr th:only-of-type {\n",
       "        vertical-align: middle;\n",
       "    }\n",
       "\n",
       "    .dataframe tbody tr th {\n",
       "        vertical-align: top;\n",
       "    }\n",
       "\n",
       "    .dataframe thead th {\n",
       "        text-align: right;\n",
       "    }\n",
       "</style>\n",
       "<table border=\"1\" class=\"dataframe\">\n",
       "  <thead>\n",
       "    <tr style=\"text-align: right;\">\n",
       "      <th></th>\n",
       "      <th>0</th>\n",
       "      <th>1</th>\n",
       "      <th>2</th>\n",
       "      <th>3</th>\n",
       "      <th>4</th>\n",
       "      <th>5</th>\n",
       "      <th>6</th>\n",
       "      <th>7</th>\n",
       "      <th>8</th>\n",
       "      <th>9</th>\n",
       "      <th>10</th>\n",
       "      <th>11</th>\n",
       "      <th>12</th>\n",
       "      <th>13</th>\n",
       "    </tr>\n",
       "  </thead>\n",
       "  <tbody>\n",
       "    <tr>\n",
       "      <th>0</th>\n",
       "      <td>0.443299</td>\n",
       "      <td>0.255315</td>\n",
       "      <td>0.523742</td>\n",
       "      <td>0.523227</td>\n",
       "      <td>0.0</td>\n",
       "      <td>0.497125</td>\n",
       "      <td>0.54229</td>\n",
       "      <td>0.558217</td>\n",
       "      <td>0.433145</td>\n",
       "      <td>0.000000</td>\n",
       "      <td>0.000000</td>\n",
       "      <td>0.0</td>\n",
       "      <td>0.652247</td>\n",
       "      <td>0.592683</td>\n",
       "    </tr>\n",
       "    <tr>\n",
       "      <th>1</th>\n",
       "      <td>0.958763</td>\n",
       "      <td>0.255315</td>\n",
       "      <td>0.523742</td>\n",
       "      <td>0.285828</td>\n",
       "      <td>0.0</td>\n",
       "      <td>0.087381</td>\n",
       "      <td>0.54229</td>\n",
       "      <td>0.043170</td>\n",
       "      <td>0.433145</td>\n",
       "      <td>0.821147</td>\n",
       "      <td>0.751729</td>\n",
       "      <td>0.0</td>\n",
       "      <td>0.666902</td>\n",
       "      <td>0.527886</td>\n",
       "    </tr>\n",
       "    <tr>\n",
       "      <th>2</th>\n",
       "      <td>0.958763</td>\n",
       "      <td>0.962564</td>\n",
       "      <td>0.523742</td>\n",
       "      <td>0.170908</td>\n",
       "      <td>0.0</td>\n",
       "      <td>0.292374</td>\n",
       "      <td>0.54229</td>\n",
       "      <td>0.523215</td>\n",
       "      <td>0.433145</td>\n",
       "      <td>0.467460</td>\n",
       "      <td>0.464792</td>\n",
       "      <td>0.0</td>\n",
       "      <td>0.744821</td>\n",
       "      <td>0.628972</td>\n",
       "    </tr>\n",
       "    <tr>\n",
       "      <th>3</th>\n",
       "      <td>0.958763</td>\n",
       "      <td>0.849585</td>\n",
       "      <td>0.201765</td>\n",
       "      <td>0.141556</td>\n",
       "      <td>0.0</td>\n",
       "      <td>0.322651</td>\n",
       "      <td>0.54229</td>\n",
       "      <td>0.571393</td>\n",
       "      <td>0.433145</td>\n",
       "      <td>0.467460</td>\n",
       "      <td>0.464792</td>\n",
       "      <td>0.0</td>\n",
       "      <td>0.709444</td>\n",
       "      <td>0.650845</td>\n",
       "    </tr>\n",
       "    <tr>\n",
       "      <th>4</th>\n",
       "      <td>0.958763</td>\n",
       "      <td>0.737842</td>\n",
       "      <td>0.330391</td>\n",
       "      <td>0.113333</td>\n",
       "      <td>0.0</td>\n",
       "      <td>0.365614</td>\n",
       "      <td>0.54229</td>\n",
       "      <td>0.602950</td>\n",
       "      <td>0.433145</td>\n",
       "      <td>0.467460</td>\n",
       "      <td>0.464792</td>\n",
       "      <td>0.0</td>\n",
       "      <td>0.738668</td>\n",
       "      <td>0.674062</td>\n",
       "    </tr>\n",
       "  </tbody>\n",
       "</table>\n",
       "</div>"
      ]
     },
     "metadata": {},
     "execution_count": 139
    }
   ],
   "metadata": {}
  },
  {
   "cell_type": "code",
   "execution_count": 140,
   "source": [
    "df_final_w1.corr()"
   ],
   "outputs": [
    {
     "output_type": "execute_result",
     "data": {
      "text/plain": [
       "                          ON_STREAM_HRS  AVG_DOWNHOLE_PRESSURE  \\\n",
       "ON_STREAM_HRS                  1.000000              -0.018865   \n",
       "AVG_DOWNHOLE_PRESSURE         -0.018865               1.000000   \n",
       "AVG_DOWNHOLE_TEMPERATURE       0.029027              -0.344982   \n",
       "AVG_DP_TUBING                 -0.221267               0.658318   \n",
       "AVG_ANNULUS_PRESS                   NaN                    NaN   \n",
       "AVG_CHOKE_SIZE_P               0.021785               0.254818   \n",
       "AVG_WHP_P                      0.154002              -0.204288   \n",
       "AVG_WHT_P                      0.101817               0.286255   \n",
       "AVG_CHOKE_SIZE                 0.113634               0.061813   \n",
       "BORE_OIL_VOL                   0.468937              -0.418949   \n",
       "BORE_GAS_VOL                   0.469915              -0.389032   \n",
       "BORE_WAT_VOL                   0.264188               0.440489   \n",
       "WI_F4                          0.211874              -0.353744   \n",
       "WI_F5                          0.234530              -0.141182   \n",
       "\n",
       "                          AVG_DOWNHOLE_TEMPERATURE  AVG_DP_TUBING  \\\n",
       "ON_STREAM_HRS                             0.029027      -0.221267   \n",
       "AVG_DOWNHOLE_PRESSURE                    -0.344982       0.658318   \n",
       "AVG_DOWNHOLE_TEMPERATURE                  1.000000       0.018461   \n",
       "AVG_DP_TUBING                             0.018461       1.000000   \n",
       "AVG_ANNULUS_PRESS                              NaN            NaN   \n",
       "AVG_CHOKE_SIZE_P                          0.170654       0.559297   \n",
       "AVG_WHP_P                                 0.250661      -0.344301   \n",
       "AVG_WHT_P                                 0.035862       0.441127   \n",
       "AVG_CHOKE_SIZE                           -0.146118      -0.100080   \n",
       "BORE_OIL_VOL                             -0.101082      -0.701081   \n",
       "BORE_GAS_VOL                             -0.141860      -0.722931   \n",
       "BORE_WAT_VOL                              0.080000       0.679654   \n",
       "WI_F4                                     0.333041      -0.316462   \n",
       "WI_F5                                     0.057962      -0.131711   \n",
       "\n",
       "                          AVG_ANNULUS_PRESS  AVG_CHOKE_SIZE_P  AVG_WHP_P  \\\n",
       "ON_STREAM_HRS                           NaN          0.021785   0.154002   \n",
       "AVG_DOWNHOLE_PRESSURE                   NaN          0.254818  -0.204288   \n",
       "AVG_DOWNHOLE_TEMPERATURE                NaN          0.170654   0.250661   \n",
       "AVG_DP_TUBING                           NaN          0.559297  -0.344301   \n",
       "AVG_ANNULUS_PRESS                       NaN               NaN        NaN   \n",
       "AVG_CHOKE_SIZE_P                        NaN          1.000000  -0.368126   \n",
       "AVG_WHP_P                               NaN         -0.368126   1.000000   \n",
       "AVG_WHT_P                               NaN          0.606461  -0.388180   \n",
       "AVG_CHOKE_SIZE                          NaN         -0.310533   0.489251   \n",
       "BORE_OIL_VOL                            NaN         -0.339547   0.279301   \n",
       "BORE_GAS_VOL                            NaN         -0.378117   0.256354   \n",
       "BORE_WAT_VOL                            NaN          0.674464  -0.359314   \n",
       "WI_F4                                   NaN         -0.231805   0.254099   \n",
       "WI_F5                                   NaN         -0.081149  -0.063314   \n",
       "\n",
       "                          AVG_WHT_P  AVG_CHOKE_SIZE  BORE_OIL_VOL  \\\n",
       "ON_STREAM_HRS              0.101817        0.113634      0.468937   \n",
       "AVG_DOWNHOLE_PRESSURE      0.286255        0.061813     -0.418949   \n",
       "AVG_DOWNHOLE_TEMPERATURE   0.035862       -0.146118     -0.101082   \n",
       "AVG_DP_TUBING              0.441127       -0.100080     -0.701081   \n",
       "AVG_ANNULUS_PRESS               NaN             NaN           NaN   \n",
       "AVG_CHOKE_SIZE_P           0.606461       -0.310533     -0.339547   \n",
       "AVG_WHP_P                 -0.388180        0.489251      0.279301   \n",
       "AVG_WHT_P                  1.000000       -0.216706     -0.156963   \n",
       "AVG_CHOKE_SIZE            -0.216706        1.000000      0.107322   \n",
       "BORE_OIL_VOL              -0.156963        0.107322      1.000000   \n",
       "BORE_GAS_VOL              -0.184128        0.105227      0.923341   \n",
       "BORE_WAT_VOL               0.742655       -0.123510     -0.225518   \n",
       "WI_F4                     -0.246733        0.041621      0.153373   \n",
       "WI_F5                     -0.085020        0.035103      0.162524   \n",
       "\n",
       "                          BORE_GAS_VOL  BORE_WAT_VOL     WI_F4     WI_F5  \n",
       "ON_STREAM_HRS                 0.469915      0.264188  0.211874  0.234530  \n",
       "AVG_DOWNHOLE_PRESSURE        -0.389032      0.440489 -0.353744 -0.141182  \n",
       "AVG_DOWNHOLE_TEMPERATURE     -0.141860      0.080000  0.333041  0.057962  \n",
       "AVG_DP_TUBING                -0.722931      0.679654 -0.316462 -0.131711  \n",
       "AVG_ANNULUS_PRESS                  NaN           NaN       NaN       NaN  \n",
       "AVG_CHOKE_SIZE_P             -0.378117      0.674464 -0.231805 -0.081149  \n",
       "AVG_WHP_P                     0.256354     -0.359314  0.254099 -0.063314  \n",
       "AVG_WHT_P                    -0.184128      0.742655 -0.246733 -0.085020  \n",
       "AVG_CHOKE_SIZE                0.105227     -0.123510  0.041621  0.035103  \n",
       "BORE_OIL_VOL                  0.923341     -0.225518  0.153373  0.162524  \n",
       "BORE_GAS_VOL                  1.000000     -0.271023  0.102133  0.141567  \n",
       "BORE_WAT_VOL                 -0.271023      1.000000 -0.303373 -0.067786  \n",
       "WI_F4                         0.102133     -0.303373  1.000000  0.621478  \n",
       "WI_F5                         0.141567     -0.067786  0.621478  1.000000  "
      ],
      "text/html": [
       "<div>\n",
       "<style scoped>\n",
       "    .dataframe tbody tr th:only-of-type {\n",
       "        vertical-align: middle;\n",
       "    }\n",
       "\n",
       "    .dataframe tbody tr th {\n",
       "        vertical-align: top;\n",
       "    }\n",
       "\n",
       "    .dataframe thead th {\n",
       "        text-align: right;\n",
       "    }\n",
       "</style>\n",
       "<table border=\"1\" class=\"dataframe\">\n",
       "  <thead>\n",
       "    <tr style=\"text-align: right;\">\n",
       "      <th></th>\n",
       "      <th>ON_STREAM_HRS</th>\n",
       "      <th>AVG_DOWNHOLE_PRESSURE</th>\n",
       "      <th>AVG_DOWNHOLE_TEMPERATURE</th>\n",
       "      <th>AVG_DP_TUBING</th>\n",
       "      <th>AVG_ANNULUS_PRESS</th>\n",
       "      <th>AVG_CHOKE_SIZE_P</th>\n",
       "      <th>AVG_WHP_P</th>\n",
       "      <th>AVG_WHT_P</th>\n",
       "      <th>AVG_CHOKE_SIZE</th>\n",
       "      <th>BORE_OIL_VOL</th>\n",
       "      <th>BORE_GAS_VOL</th>\n",
       "      <th>BORE_WAT_VOL</th>\n",
       "      <th>WI_F4</th>\n",
       "      <th>WI_F5</th>\n",
       "    </tr>\n",
       "  </thead>\n",
       "  <tbody>\n",
       "    <tr>\n",
       "      <th>ON_STREAM_HRS</th>\n",
       "      <td>1.000000</td>\n",
       "      <td>-0.018865</td>\n",
       "      <td>0.029027</td>\n",
       "      <td>-0.221267</td>\n",
       "      <td>NaN</td>\n",
       "      <td>0.021785</td>\n",
       "      <td>0.154002</td>\n",
       "      <td>0.101817</td>\n",
       "      <td>0.113634</td>\n",
       "      <td>0.468937</td>\n",
       "      <td>0.469915</td>\n",
       "      <td>0.264188</td>\n",
       "      <td>0.211874</td>\n",
       "      <td>0.234530</td>\n",
       "    </tr>\n",
       "    <tr>\n",
       "      <th>AVG_DOWNHOLE_PRESSURE</th>\n",
       "      <td>-0.018865</td>\n",
       "      <td>1.000000</td>\n",
       "      <td>-0.344982</td>\n",
       "      <td>0.658318</td>\n",
       "      <td>NaN</td>\n",
       "      <td>0.254818</td>\n",
       "      <td>-0.204288</td>\n",
       "      <td>0.286255</td>\n",
       "      <td>0.061813</td>\n",
       "      <td>-0.418949</td>\n",
       "      <td>-0.389032</td>\n",
       "      <td>0.440489</td>\n",
       "      <td>-0.353744</td>\n",
       "      <td>-0.141182</td>\n",
       "    </tr>\n",
       "    <tr>\n",
       "      <th>AVG_DOWNHOLE_TEMPERATURE</th>\n",
       "      <td>0.029027</td>\n",
       "      <td>-0.344982</td>\n",
       "      <td>1.000000</td>\n",
       "      <td>0.018461</td>\n",
       "      <td>NaN</td>\n",
       "      <td>0.170654</td>\n",
       "      <td>0.250661</td>\n",
       "      <td>0.035862</td>\n",
       "      <td>-0.146118</td>\n",
       "      <td>-0.101082</td>\n",
       "      <td>-0.141860</td>\n",
       "      <td>0.080000</td>\n",
       "      <td>0.333041</td>\n",
       "      <td>0.057962</td>\n",
       "    </tr>\n",
       "    <tr>\n",
       "      <th>AVG_DP_TUBING</th>\n",
       "      <td>-0.221267</td>\n",
       "      <td>0.658318</td>\n",
       "      <td>0.018461</td>\n",
       "      <td>1.000000</td>\n",
       "      <td>NaN</td>\n",
       "      <td>0.559297</td>\n",
       "      <td>-0.344301</td>\n",
       "      <td>0.441127</td>\n",
       "      <td>-0.100080</td>\n",
       "      <td>-0.701081</td>\n",
       "      <td>-0.722931</td>\n",
       "      <td>0.679654</td>\n",
       "      <td>-0.316462</td>\n",
       "      <td>-0.131711</td>\n",
       "    </tr>\n",
       "    <tr>\n",
       "      <th>AVG_ANNULUS_PRESS</th>\n",
       "      <td>NaN</td>\n",
       "      <td>NaN</td>\n",
       "      <td>NaN</td>\n",
       "      <td>NaN</td>\n",
       "      <td>NaN</td>\n",
       "      <td>NaN</td>\n",
       "      <td>NaN</td>\n",
       "      <td>NaN</td>\n",
       "      <td>NaN</td>\n",
       "      <td>NaN</td>\n",
       "      <td>NaN</td>\n",
       "      <td>NaN</td>\n",
       "      <td>NaN</td>\n",
       "      <td>NaN</td>\n",
       "    </tr>\n",
       "    <tr>\n",
       "      <th>AVG_CHOKE_SIZE_P</th>\n",
       "      <td>0.021785</td>\n",
       "      <td>0.254818</td>\n",
       "      <td>0.170654</td>\n",
       "      <td>0.559297</td>\n",
       "      <td>NaN</td>\n",
       "      <td>1.000000</td>\n",
       "      <td>-0.368126</td>\n",
       "      <td>0.606461</td>\n",
       "      <td>-0.310533</td>\n",
       "      <td>-0.339547</td>\n",
       "      <td>-0.378117</td>\n",
       "      <td>0.674464</td>\n",
       "      <td>-0.231805</td>\n",
       "      <td>-0.081149</td>\n",
       "    </tr>\n",
       "    <tr>\n",
       "      <th>AVG_WHP_P</th>\n",
       "      <td>0.154002</td>\n",
       "      <td>-0.204288</td>\n",
       "      <td>0.250661</td>\n",
       "      <td>-0.344301</td>\n",
       "      <td>NaN</td>\n",
       "      <td>-0.368126</td>\n",
       "      <td>1.000000</td>\n",
       "      <td>-0.388180</td>\n",
       "      <td>0.489251</td>\n",
       "      <td>0.279301</td>\n",
       "      <td>0.256354</td>\n",
       "      <td>-0.359314</td>\n",
       "      <td>0.254099</td>\n",
       "      <td>-0.063314</td>\n",
       "    </tr>\n",
       "    <tr>\n",
       "      <th>AVG_WHT_P</th>\n",
       "      <td>0.101817</td>\n",
       "      <td>0.286255</td>\n",
       "      <td>0.035862</td>\n",
       "      <td>0.441127</td>\n",
       "      <td>NaN</td>\n",
       "      <td>0.606461</td>\n",
       "      <td>-0.388180</td>\n",
       "      <td>1.000000</td>\n",
       "      <td>-0.216706</td>\n",
       "      <td>-0.156963</td>\n",
       "      <td>-0.184128</td>\n",
       "      <td>0.742655</td>\n",
       "      <td>-0.246733</td>\n",
       "      <td>-0.085020</td>\n",
       "    </tr>\n",
       "    <tr>\n",
       "      <th>AVG_CHOKE_SIZE</th>\n",
       "      <td>0.113634</td>\n",
       "      <td>0.061813</td>\n",
       "      <td>-0.146118</td>\n",
       "      <td>-0.100080</td>\n",
       "      <td>NaN</td>\n",
       "      <td>-0.310533</td>\n",
       "      <td>0.489251</td>\n",
       "      <td>-0.216706</td>\n",
       "      <td>1.000000</td>\n",
       "      <td>0.107322</td>\n",
       "      <td>0.105227</td>\n",
       "      <td>-0.123510</td>\n",
       "      <td>0.041621</td>\n",
       "      <td>0.035103</td>\n",
       "    </tr>\n",
       "    <tr>\n",
       "      <th>BORE_OIL_VOL</th>\n",
       "      <td>0.468937</td>\n",
       "      <td>-0.418949</td>\n",
       "      <td>-0.101082</td>\n",
       "      <td>-0.701081</td>\n",
       "      <td>NaN</td>\n",
       "      <td>-0.339547</td>\n",
       "      <td>0.279301</td>\n",
       "      <td>-0.156963</td>\n",
       "      <td>0.107322</td>\n",
       "      <td>1.000000</td>\n",
       "      <td>0.923341</td>\n",
       "      <td>-0.225518</td>\n",
       "      <td>0.153373</td>\n",
       "      <td>0.162524</td>\n",
       "    </tr>\n",
       "    <tr>\n",
       "      <th>BORE_GAS_VOL</th>\n",
       "      <td>0.469915</td>\n",
       "      <td>-0.389032</td>\n",
       "      <td>-0.141860</td>\n",
       "      <td>-0.722931</td>\n",
       "      <td>NaN</td>\n",
       "      <td>-0.378117</td>\n",
       "      <td>0.256354</td>\n",
       "      <td>-0.184128</td>\n",
       "      <td>0.105227</td>\n",
       "      <td>0.923341</td>\n",
       "      <td>1.000000</td>\n",
       "      <td>-0.271023</td>\n",
       "      <td>0.102133</td>\n",
       "      <td>0.141567</td>\n",
       "    </tr>\n",
       "    <tr>\n",
       "      <th>BORE_WAT_VOL</th>\n",
       "      <td>0.264188</td>\n",
       "      <td>0.440489</td>\n",
       "      <td>0.080000</td>\n",
       "      <td>0.679654</td>\n",
       "      <td>NaN</td>\n",
       "      <td>0.674464</td>\n",
       "      <td>-0.359314</td>\n",
       "      <td>0.742655</td>\n",
       "      <td>-0.123510</td>\n",
       "      <td>-0.225518</td>\n",
       "      <td>-0.271023</td>\n",
       "      <td>1.000000</td>\n",
       "      <td>-0.303373</td>\n",
       "      <td>-0.067786</td>\n",
       "    </tr>\n",
       "    <tr>\n",
       "      <th>WI_F4</th>\n",
       "      <td>0.211874</td>\n",
       "      <td>-0.353744</td>\n",
       "      <td>0.333041</td>\n",
       "      <td>-0.316462</td>\n",
       "      <td>NaN</td>\n",
       "      <td>-0.231805</td>\n",
       "      <td>0.254099</td>\n",
       "      <td>-0.246733</td>\n",
       "      <td>0.041621</td>\n",
       "      <td>0.153373</td>\n",
       "      <td>0.102133</td>\n",
       "      <td>-0.303373</td>\n",
       "      <td>1.000000</td>\n",
       "      <td>0.621478</td>\n",
       "    </tr>\n",
       "    <tr>\n",
       "      <th>WI_F5</th>\n",
       "      <td>0.234530</td>\n",
       "      <td>-0.141182</td>\n",
       "      <td>0.057962</td>\n",
       "      <td>-0.131711</td>\n",
       "      <td>NaN</td>\n",
       "      <td>-0.081149</td>\n",
       "      <td>-0.063314</td>\n",
       "      <td>-0.085020</td>\n",
       "      <td>0.035103</td>\n",
       "      <td>0.162524</td>\n",
       "      <td>0.141567</td>\n",
       "      <td>-0.067786</td>\n",
       "      <td>0.621478</td>\n",
       "      <td>1.000000</td>\n",
       "    </tr>\n",
       "  </tbody>\n",
       "</table>\n",
       "</div>"
      ]
     },
     "metadata": {},
     "execution_count": 140
    }
   ],
   "metadata": {}
  },
  {
   "cell_type": "code",
   "execution_count": 141,
   "source": [
    "plt.figure(figsize=(12,10))\n",
    "sns.heatmap(df_final_w1.corr(),annot=True)\n",
    "plt.savefig('heatmap.png', dpi=300)"
   ],
   "outputs": [
    {
     "output_type": "display_data",
     "data": {
      "text/plain": [
       "<Figure size 864x720 with 2 Axes>"
      ],
      "image/png": "[encoded data removed]"
     },
     "metadata": {
      "needs_background": "light"
     }
    }
   ],
   "metadata": {}
  },
  {
   "cell_type": "markdown",
   "source": [
    "# APLICACIÓN DE MODELOS"
   ],
   "metadata": {}
  },
  {
   "cell_type": "code",
   "execution_count": 142,
   "source": [
    "from sklearn.model_selection import train_test_split"
   ],
   "outputs": [],
   "metadata": {}
  },
  {
   "cell_type": "code",
   "execution_count": 143,
   "source": [
    "X = df_final_w1.filter([\"ON_STREAM_HRS\", 'AVG_DOWNHOLE_PRESSURE', 'AVG_DP_TUBING', 'AVG_WHP_P', 'AVG_WHT_P', 'DP_CHOKE_SIZE', \"WI_F4\",\"WI_F5\"])\n",
    "Y = df_final_w1[['BORE_OIL_VOL', 'BORE_GAS_VOL']]\n",
    "print('Features shape:', X.shape)\n",
    "print('Target shape', Y.shape)"
   ],
   "outputs": [
    {
     "output_type": "stream",
     "name": "stdout",
     "text": [
      "Features shape: (438, 7)\n",
      "Target shape (438, 2)\n"
     ]
    }
   ],
   "metadata": {}
  },
  {
   "cell_type": "code",
   "execution_count": 144,
   "source": [
    "X_train, X_test, y_train, y_test = train_test_split(X, Y, test_size=0.2, random_state=42, shuffle = True)\n",
    "\n",
    "\n",
    "Time=df_final_w1.iloc[:,0]\n",
    "Time_train, Time_test = train_test_split(Time, test_size=0.3, random_state=42)"
   ],
   "outputs": [],
   "metadata": {}
  },
  {
   "cell_type": "markdown",
   "source": [
    "## ARIMA"
   ],
   "metadata": {}
  },
  {
   "cell_type": "code",
   "execution_count": null,
   "source": [
    "# pip install pmdarima"
   ],
   "outputs": [],
   "metadata": {
    "tags": []
   }
  },
  {
   "cell_type": "code",
   "execution_count": 146,
   "source": [
    "from statsmodels.graphics.tsaplots import plot_acf"
   ],
   "outputs": [],
   "metadata": {}
  },
  {
   "cell_type": "code",
   "execution_count": 147,
   "source": [
    "from statsmodels.tsa.ar_model import AR\n",
    "from sklearn.metrics import mean_squared_error"
   ],
   "outputs": [],
   "metadata": {}
  },
  {
   "cell_type": "code",
   "execution_count": 148,
   "source": [
    "import warnings\n",
    "warnings.filterwarnings('ignore', 'statsmodels.tsa.ar_model.AR', FutureWarning)"
   ],
   "outputs": [],
   "metadata": {}
  },
  {
   "cell_type": "code",
   "execution_count": 149,
   "source": [
    "from statsmodels.tsa.arima_model import ARIMA"
   ],
   "outputs": [],
   "metadata": {}
  },
  {
   "cell_type": "code",
   "execution_count": 150,
   "source": [
    "import warnings\n",
    "warnings.filterwarnings(\"ignore\")"
   ],
   "outputs": [],
   "metadata": {}
  },
  {
   "cell_type": "code",
   "execution_count": 151,
   "source": [
    "well1_arima=df_final_w1.set_index(\"DATEPRD\")\n",
    "well1_arima\n"
   ],
   "outputs": [
    {
     "output_type": "execute_result",
     "data": {
      "text/plain": [
       "            ON_STREAM_HRS  AVG_DOWNHOLE_PRESSURE  AVG_DOWNHOLE_TEMPERATURE  \\\n",
       "DATEPRD                                                                      \n",
       "2014-04-21          11.50                223.935                108.124327   \n",
       "2014-04-22          24.00                223.935                108.124327   \n",
       "2014-04-23          24.00                270.240                108.124327   \n",
       "2014-04-24          24.00                262.843                107.869000   \n",
       "2014-04-25          24.00                255.527                107.971000   \n",
       "...                   ...                    ...                       ...   \n",
       "2016-04-02          24.00                223.012                108.058000   \n",
       "2016-04-03          24.00                221.813                108.044000   \n",
       "2016-04-04          24.00                220.780                108.042000   \n",
       "2016-04-05          24.00                218.752                108.078000   \n",
       "2016-04-06          20.82                218.438                107.857000   \n",
       "\n",
       "            AVG_DP_TUBING  AVG_ANNULUS_PRESS  AVG_CHOKE_SIZE_P  AVG_WHP_P  \\\n",
       "DATEPRD                                                                     \n",
       "2014-04-21        204.795                0.0         50.987051   35.27676   \n",
       "2014-04-22        182.059                0.0         43.343450   35.27676   \n",
       "2014-04-23        171.053                0.0         47.167520   35.27676   \n",
       "2014-04-24        168.242                0.0         47.732310   35.27676   \n",
       "2014-04-25        165.539                0.0         48.533770   35.27676   \n",
       "...                   ...                ...               ...        ...   \n",
       "2016-04-02        196.629                0.0         54.687740   26.38300   \n",
       "2016-04-03        196.133                0.0         54.724110   25.68100   \n",
       "2016-04-04        195.665                0.0         55.067950   25.11500   \n",
       "2016-04-05        193.411                0.0         55.998130   25.34100   \n",
       "2016-04-06        192.830                0.0         45.143440   25.60800   \n",
       "\n",
       "            AVG_WHT_P  AVG_CHOKE_SIZE  BORE_OIL_VOL  BORE_GAS_VOL  \\\n",
       "DATEPRD                                                             \n",
       "2014-04-21  62.420736       11.025647      0.000000      0.000000   \n",
       "2014-04-22  37.939000       11.025647    631.470000  90439.090000   \n",
       "2014-04-23  60.757000       11.025647    359.481355  55918.232095   \n",
       "2014-04-24  63.047000       11.025647    359.481355  55918.232095   \n",
       "2014-04-25  64.547000       11.025647    359.481355  55918.232095   \n",
       "...               ...             ...           ...           ...   \n",
       "2016-04-02  69.559000       10.681000    284.720000  46880.140000   \n",
       "2016-04-03  72.502000        9.910000    280.170000  45842.820000   \n",
       "2016-04-04  71.750000        9.197000    281.930000  45800.830000   \n",
       "2016-04-05  72.218000        9.101000    317.380000  51990.650000   \n",
       "2016-04-06  66.568000        9.830000    208.000000  34998.300000   \n",
       "\n",
       "            BORE_WAT_VOL    WI_F4        WI_F5  \n",
       "DATEPRD                                         \n",
       "2014-04-21          0.00  5662.27  4768.820000  \n",
       "2014-04-22          0.00  5789.49  4247.450000  \n",
       "2014-04-23          0.00  6465.92  5060.800000  \n",
       "2014-04-24          0.00  6158.80  5236.800000  \n",
       "2014-04-25          0.00  6412.50  5423.600000  \n",
       "...                  ...      ...          ...  \n",
       "2016-04-02        766.23  6429.66  5629.787566  \n",
       "2016-04-03        748.25  4598.72  4395.170000  \n",
       "2016-04-04        797.30  5137.82  3437.600000  \n",
       "2016-04-05        792.76  6521.45  3972.170000  \n",
       "2016-04-06        542.39  4443.90  2825.430000  \n",
       "\n",
       "[438 rows x 14 columns]"
      ],
      "text/html": [
       "<div>\n",
       "<style scoped>\n",
       "    .dataframe tbody tr th:only-of-type {\n",
       "        vertical-align: middle;\n",
       "    }\n",
       "\n",
       "    .dataframe tbody tr th {\n",
       "        vertical-align: top;\n",
       "    }\n",
       "\n",
       "    .dataframe thead th {\n",
       "        text-align: right;\n",
       "    }\n",
       "</style>\n",
       "<table border=\"1\" class=\"dataframe\">\n",
       "  <thead>\n",
       "    <tr style=\"text-align: right;\">\n",
       "      <th></th>\n",
       "      <th>ON_STREAM_HRS</th>\n",
       "      <th>AVG_DOWNHOLE_PRESSURE</th>\n",
       "      <th>AVG_DOWNHOLE_TEMPERATURE</th>\n",
       "      <th>AVG_DP_TUBING</th>\n",
       "      <th>AVG_ANNULUS_PRESS</th>\n",
       "      <th>AVG_CHOKE_SIZE_P</th>\n",
       "      <th>AVG_WHP_P</th>\n",
       "      <th>AVG_WHT_P</th>\n",
       "      <th>AVG_CHOKE_SIZE</th>\n",
       "      <th>BORE_OIL_VOL</th>\n",
       "      <th>BORE_GAS_VOL</th>\n",
       "      <th>BORE_WAT_VOL</th>\n",
       "      <th>WI_F4</th>\n",
       "      <th>WI_F5</th>\n",
       "    </tr>\n",
       "    <tr>\n",
       "      <th>DATEPRD</th>\n",
       "      <th></th>\n",
       "      <th></th>\n",
       "      <th></th>\n",
       "      <th></th>\n",
       "      <th></th>\n",
       "      <th></th>\n",
       "      <th></th>\n",
       "      <th></th>\n",
       "      <th></th>\n",
       "      <th></th>\n",
       "      <th></th>\n",
       "      <th></th>\n",
       "      <th></th>\n",
       "      <th></th>\n",
       "    </tr>\n",
       "  </thead>\n",
       "  <tbody>\n",
       "    <tr>\n",
       "      <th>2014-04-21</th>\n",
       "      <td>11.50</td>\n",
       "      <td>223.935</td>\n",
       "      <td>108.124327</td>\n",
       "      <td>204.795</td>\n",
       "      <td>0.0</td>\n",
       "      <td>50.987051</td>\n",
       "      <td>35.27676</td>\n",
       "      <td>62.420736</td>\n",
       "      <td>11.025647</td>\n",
       "      <td>0.000000</td>\n",
       "      <td>0.000000</td>\n",
       "      <td>0.00</td>\n",
       "      <td>5662.27</td>\n",
       "      <td>4768.820000</td>\n",
       "    </tr>\n",
       "    <tr>\n",
       "      <th>2014-04-22</th>\n",
       "      <td>24.00</td>\n",
       "      <td>223.935</td>\n",
       "      <td>108.124327</td>\n",
       "      <td>182.059</td>\n",
       "      <td>0.0</td>\n",
       "      <td>43.343450</td>\n",
       "      <td>35.27676</td>\n",
       "      <td>37.939000</td>\n",
       "      <td>11.025647</td>\n",
       "      <td>631.470000</td>\n",
       "      <td>90439.090000</td>\n",
       "      <td>0.00</td>\n",
       "      <td>5789.49</td>\n",
       "      <td>4247.450000</td>\n",
       "    </tr>\n",
       "    <tr>\n",
       "      <th>2014-04-23</th>\n",
       "      <td>24.00</td>\n",
       "      <td>270.240</td>\n",
       "      <td>108.124327</td>\n",
       "      <td>171.053</td>\n",
       "      <td>0.0</td>\n",
       "      <td>47.167520</td>\n",
       "      <td>35.27676</td>\n",
       "      <td>60.757000</td>\n",
       "      <td>11.025647</td>\n",
       "      <td>359.481355</td>\n",
       "      <td>55918.232095</td>\n",
       "      <td>0.00</td>\n",
       "      <td>6465.92</td>\n",
       "      <td>5060.800000</td>\n",
       "    </tr>\n",
       "    <tr>\n",
       "      <th>2014-04-24</th>\n",
       "      <td>24.00</td>\n",
       "      <td>262.843</td>\n",
       "      <td>107.869000</td>\n",
       "      <td>168.242</td>\n",
       "      <td>0.0</td>\n",
       "      <td>47.732310</td>\n",
       "      <td>35.27676</td>\n",
       "      <td>63.047000</td>\n",
       "      <td>11.025647</td>\n",
       "      <td>359.481355</td>\n",
       "      <td>55918.232095</td>\n",
       "      <td>0.00</td>\n",
       "      <td>6158.80</td>\n",
       "      <td>5236.800000</td>\n",
       "    </tr>\n",
       "    <tr>\n",
       "      <th>2014-04-25</th>\n",
       "      <td>24.00</td>\n",
       "      <td>255.527</td>\n",
       "      <td>107.971000</td>\n",
       "      <td>165.539</td>\n",
       "      <td>0.0</td>\n",
       "      <td>48.533770</td>\n",
       "      <td>35.27676</td>\n",
       "      <td>64.547000</td>\n",
       "      <td>11.025647</td>\n",
       "      <td>359.481355</td>\n",
       "      <td>55918.232095</td>\n",
       "      <td>0.00</td>\n",
       "      <td>6412.50</td>\n",
       "      <td>5423.600000</td>\n",
       "    </tr>\n",
       "    <tr>\n",
       "      <th>...</th>\n",
       "      <td>...</td>\n",
       "      <td>...</td>\n",
       "      <td>...</td>\n",
       "      <td>...</td>\n",
       "      <td>...</td>\n",
       "      <td>...</td>\n",
       "      <td>...</td>\n",
       "      <td>...</td>\n",
       "      <td>...</td>\n",
       "      <td>...</td>\n",
       "      <td>...</td>\n",
       "      <td>...</td>\n",
       "      <td>...</td>\n",
       "      <td>...</td>\n",
       "    </tr>\n",
       "    <tr>\n",
       "      <th>2016-04-02</th>\n",
       "      <td>24.00</td>\n",
       "      <td>223.012</td>\n",
       "      <td>108.058000</td>\n",
       "      <td>196.629</td>\n",
       "      <td>0.0</td>\n",
       "      <td>54.687740</td>\n",
       "      <td>26.38300</td>\n",
       "      <td>69.559000</td>\n",
       "      <td>10.681000</td>\n",
       "      <td>284.720000</td>\n",
       "      <td>46880.140000</td>\n",
       "      <td>766.23</td>\n",
       "      <td>6429.66</td>\n",
       "      <td>5629.787566</td>\n",
       "    </tr>\n",
       "    <tr>\n",
       "      <th>2016-04-03</th>\n",
       "      <td>24.00</td>\n",
       "      <td>221.813</td>\n",
       "      <td>108.044000</td>\n",
       "      <td>196.133</td>\n",
       "      <td>0.0</td>\n",
       "      <td>54.724110</td>\n",
       "      <td>25.68100</td>\n",
       "      <td>72.502000</td>\n",
       "      <td>9.910000</td>\n",
       "      <td>280.170000</td>\n",
       "      <td>45842.820000</td>\n",
       "      <td>748.25</td>\n",
       "      <td>4598.72</td>\n",
       "      <td>4395.170000</td>\n",
       "    </tr>\n",
       "    <tr>\n",
       "      <th>2016-04-04</th>\n",
       "      <td>24.00</td>\n",
       "      <td>220.780</td>\n",
       "      <td>108.042000</td>\n",
       "      <td>195.665</td>\n",
       "      <td>0.0</td>\n",
       "      <td>55.067950</td>\n",
       "      <td>25.11500</td>\n",
       "      <td>71.750000</td>\n",
       "      <td>9.197000</td>\n",
       "      <td>281.930000</td>\n",
       "      <td>45800.830000</td>\n",
       "      <td>797.30</td>\n",
       "      <td>5137.82</td>\n",
       "      <td>3437.600000</td>\n",
       "    </tr>\n",
       "    <tr>\n",
       "      <th>2016-04-05</th>\n",
       "      <td>24.00</td>\n",
       "      <td>218.752</td>\n",
       "      <td>108.078000</td>\n",
       "      <td>193.411</td>\n",
       "      <td>0.0</td>\n",
       "      <td>55.998130</td>\n",
       "      <td>25.34100</td>\n",
       "      <td>72.218000</td>\n",
       "      <td>9.101000</td>\n",
       "      <td>317.380000</td>\n",
       "      <td>51990.650000</td>\n",
       "      <td>792.76</td>\n",
       "      <td>6521.45</td>\n",
       "      <td>3972.170000</td>\n",
       "    </tr>\n",
       "    <tr>\n",
       "      <th>2016-04-06</th>\n",
       "      <td>20.82</td>\n",
       "      <td>218.438</td>\n",
       "      <td>107.857000</td>\n",
       "      <td>192.830</td>\n",
       "      <td>0.0</td>\n",
       "      <td>45.143440</td>\n",
       "      <td>25.60800</td>\n",
       "      <td>66.568000</td>\n",
       "      <td>9.830000</td>\n",
       "      <td>208.000000</td>\n",
       "      <td>34998.300000</td>\n",
       "      <td>542.39</td>\n",
       "      <td>4443.90</td>\n",
       "      <td>2825.430000</td>\n",
       "    </tr>\n",
       "  </tbody>\n",
       "</table>\n",
       "<p>438 rows × 14 columns</p>\n",
       "</div>"
      ]
     },
     "metadata": {},
     "execution_count": 151
    }
   ],
   "metadata": {}
  },
  {
   "cell_type": "code",
   "execution_count": 152,
   "source": [
    "well1_arima[\"BORE_OIL_VOL\"].plot(figsize=(12,5))"
   ],
   "outputs": [
    {
     "output_type": "execute_result",
     "data": {
      "text/plain": [
       "<AxesSubplot:xlabel='DATEPRD'>"
      ]
     },
     "metadata": {},
     "execution_count": 152
    },
    {
     "output_type": "display_data",
     "data": {
      "text/plain": [
       "<Figure size 864x360 with 1 Axes>"
      ],
      "image/png": "[encoded data removed]"
     },
     "metadata": {
      "needs_background": "light"
     }
    }
   ],
   "metadata": {}
  },
  {
   "cell_type": "markdown",
   "source": [
    "### Check for stationarity"
   ],
   "metadata": {}
  },
  {
   "cell_type": "code",
   "execution_count": 153,
   "source": [
    "from statsmodels.tsa.stattools import adfuller"
   ],
   "outputs": [],
   "metadata": {}
  },
  {
   "cell_type": "code",
   "execution_count": 154,
   "source": [
    "def ad_test(dataset):\n",
    "    dftest=adfuller(dataset, autolag=\"AIC\")\n",
    "    print(\"1. ADF : \",dftest[0])\n",
    "    print(\"2. P-value :\",dftest[1])\n",
    "    print(\"3. Num Of Lags :\",dftest[2])\n",
    "    print(\"4. Num Of Observations Used For ADF Regression and Critical Values Calculation :\",dftest[3])\n",
    "    print(\"5. Critical values: \")\n",
    "    for key,val in dftest[4].items():\n",
    "        print(\"\\t\",key,\": \",val)"
   ],
   "outputs": [],
   "metadata": {}
  },
  {
   "cell_type": "code",
   "execution_count": 155,
   "source": [
    "ad_test(well1_arima[\"BORE_OIL_VOL\"])"
   ],
   "outputs": [
    {
     "output_type": "stream",
     "name": "stdout",
     "text": [
      "1. ADF :  -2.14924601075096\n",
      "2. P-value : 0.2251788108782981\n",
      "3. Num Of Lags : 17\n",
      "4. Num Of Observations Used For ADF Regression and Critical Values Calculation : 420\n",
      "5. Critical values: \n",
      "\t 1% :  -3.4460159927788574\n",
      "\t 5% :  -2.868446209372638\n",
      "\t 10% :  -2.570448781179138\n"
     ]
    }
   ],
   "metadata": {}
  },
  {
   "cell_type": "code",
   "execution_count": 156,
   "source": [
    "plot_acf(well1_arima[\"BORE_OIL_VOL\"])"
   ],
   "outputs": [
    {
     "output_type": "execute_result",
     "data": {
      "text/plain": [
       "<Figure size 432x288 with 1 Axes>"
      ],
      "image/png": "[encoded data removed]"
     },
     "metadata": {},
     "execution_count": 156
    },
    {
     "output_type": "display_data",
     "data": {
      "text/plain": [
       "<Figure size 432x288 with 1 Axes>"
      ],
      "image/png": "[encoded data removed]"
     },
     "metadata": {
      "needs_background": "light"
     }
    }
   ],
   "metadata": {}
  },
  {
   "cell_type": "code",
   "execution_count": 157,
   "source": [
    "well1_prod_diff=well1_arima[\"BORE_OIL_VOL\"].diff(periods=1)\n",
    "#integrated of order 1, denoted by d (for diff), one of the paramethers on ARIMA model\n",
    "well1_prod_diff=well1_prod_diff[1:]"
   ],
   "outputs": [],
   "metadata": {}
  },
  {
   "cell_type": "code",
   "execution_count": 158,
   "source": [
    "well1_prod_diff.plot()"
   ],
   "outputs": [
    {
     "output_type": "execute_result",
     "data": {
      "text/plain": [
       "<AxesSubplot:xlabel='DATEPRD'>"
      ]
     },
     "metadata": {},
     "execution_count": 158
    },
    {
     "output_type": "display_data",
     "data": {
      "text/plain": [
       "<Figure size 432x288 with 1 Axes>"
      ],
      "image/png": "[encoded data removed]"
     },
     "metadata": {
      "needs_background": "light"
     }
    }
   ],
   "metadata": {}
  },
  {
   "cell_type": "code",
   "execution_count": 159,
   "source": [
    "plot_acf(well1_prod_diff)"
   ],
   "outputs": [
    {
     "output_type": "execute_result",
     "data": {
      "text/plain": [
       "<Figure size 432x288 with 1 Axes>"
      ],
      "image/png": "[encoded data removed]"
     },
     "metadata": {},
     "execution_count": 159
    },
    {
     "output_type": "display_data",
     "data": {
      "text/plain": [
       "<Figure size 432x288 with 1 Axes>"
      ],
      "image/png": "[encoded data removed]"
     },
     "metadata": {
      "needs_background": "light"
     }
    }
   ],
   "metadata": {}
  },
  {
   "cell_type": "code",
   "execution_count": 160,
   "source": [
    "well1_prod_diff"
   ],
   "outputs": [
    {
     "output_type": "execute_result",
     "data": {
      "text/plain": [
       "DATEPRD\n",
       "2014-04-22    631.470000\n",
       "2014-04-23   -271.988645\n",
       "2014-04-24      0.000000\n",
       "2014-04-25      0.000000\n",
       "2014-04-26      0.000000\n",
       "                 ...    \n",
       "2016-04-02    -14.770000\n",
       "2016-04-03     -4.550000\n",
       "2016-04-04      1.760000\n",
       "2016-04-05     35.450000\n",
       "2016-04-06   -109.380000\n",
       "Name: BORE_OIL_VOL, Length: 437, dtype: float64"
      ]
     },
     "metadata": {},
     "execution_count": 160
    }
   ],
   "metadata": {}
  },
  {
   "cell_type": "code",
   "execution_count": 161,
   "source": [
    "from pmdarima import auto_arima"
   ],
   "outputs": [],
   "metadata": {}
  },
  {
   "cell_type": "code",
   "execution_count": 162,
   "source": [
    "stepwise_fit=auto_arima(well1_prod_diff, trace=True,suppress_warnings=True)\n",
    "stepwise_fit.summary()"
   ],
   "outputs": [
    {
     "output_type": "stream",
     "name": "stdout",
     "text": [
      "Performing stepwise search to minimize aic\n",
      " ARIMA(2,0,2)(0,0,0)[0] intercept   : AIC=5359.187, Time=1.14 sec\n",
      " ARIMA(0,0,0)(0,0,0)[0] intercept   : AIC=5416.377, Time=0.03 sec\n",
      " ARIMA(1,0,0)(0,0,0)[0] intercept   : AIC=5413.639, Time=0.34 sec\n",
      " ARIMA(0,0,1)(0,0,0)[0] intercept   : AIC=5410.632, Time=0.21 sec\n",
      " ARIMA(0,0,0)(0,0,0)[0]             : AIC=5414.384, Time=0.02 sec\n",
      " ARIMA(1,0,2)(0,0,0)[0] intercept   : AIC=5358.233, Time=0.93 sec\n",
      " ARIMA(0,0,2)(0,0,0)[0] intercept   : AIC=5384.464, Time=0.75 sec\n",
      " ARIMA(1,0,1)(0,0,0)[0] intercept   : AIC=5358.681, Time=0.44 sec\n",
      " ARIMA(1,0,3)(0,0,0)[0] intercept   : AIC=5359.955, Time=1.70 sec\n",
      " ARIMA(0,0,3)(0,0,0)[0] intercept   : AIC=5372.395, Time=1.26 sec\n",
      " ARIMA(2,0,1)(0,0,0)[0] intercept   : AIC=5358.425, Time=0.66 sec\n",
      " ARIMA(2,0,3)(0,0,0)[0] intercept   : AIC=5361.173, Time=2.83 sec\n",
      " ARIMA(1,0,2)(0,0,0)[0]             : AIC=5356.592, Time=0.60 sec\n",
      " ARIMA(0,0,2)(0,0,0)[0]             : AIC=5382.465, Time=0.16 sec\n",
      " ARIMA(1,0,1)(0,0,0)[0]             : AIC=5357.295, Time=0.26 sec\n",
      " ARIMA(2,0,2)(0,0,0)[0]             : AIC=5357.612, Time=0.73 sec\n",
      " ARIMA(1,0,3)(0,0,0)[0]             : AIC=5358.366, Time=1.48 sec\n",
      " ARIMA(0,0,1)(0,0,0)[0]             : AIC=5408.636, Time=0.16 sec\n",
      " ARIMA(0,0,3)(0,0,0)[0]             : AIC=5370.433, Time=0.70 sec\n",
      " ARIMA(2,0,1)(0,0,0)[0]             : AIC=5356.778, Time=0.45 sec\n",
      " ARIMA(2,0,3)(0,0,0)[0]             : AIC=5359.596, Time=1.27 sec\n",
      "\n",
      "Best model:  ARIMA(1,0,2)(0,0,0)[0]          \n",
      "Total fit time: 16.449 seconds\n"
     ]
    },
    {
     "output_type": "execute_result",
     "data": {
      "text/plain": [
       "<class 'statsmodels.iolib.summary.Summary'>\n",
       "\"\"\"\n",
       "                               SARIMAX Results                                \n",
       "==============================================================================\n",
       "Dep. Variable:                      y   No. Observations:                  437\n",
       "Model:               SARIMAX(1, 0, 2)   Log Likelihood               -2674.296\n",
       "Date:                Mon, 26 Jul 2021   AIC                           5356.592\n",
       "Time:                        11:15:11   BIC                           5372.912\n",
       "Sample:                             0   HQIC                          5363.032\n",
       "                                - 437                                         \n",
       "Covariance Type:                  opg                                         \n",
       "==============================================================================\n",
       "                 coef    std err          z      P>|z|      [0.025      0.975]\n",
       "------------------------------------------------------------------------------\n",
       "ar.L1          0.5673      0.065      8.701      0.000       0.440       0.695\n",
       "ma.L1         -0.8120      0.072    -11.333      0.000      -0.952      -0.672\n",
       "ma.L2         -0.1292      0.057     -2.255      0.024      -0.241      -0.017\n",
       "sigma2      1.208e+04    490.957     24.598      0.000    1.11e+04     1.3e+04\n",
       "===================================================================================\n",
       "Ljung-Box (L1) (Q):                   0.03   Jarque-Bera (JB):              1018.30\n",
       "Prob(Q):                              0.87   Prob(JB):                         0.00\n",
       "Heteroskedasticity (H):               0.80   Skew:                            -0.60\n",
       "Prob(H) (two-sided):                  0.18   Kurtosis:                        10.38\n",
       "===================================================================================\n",
       "\n",
       "Warnings:\n",
       "[1] Covariance matrix calculated using the outer product of gradients (complex-step).\n",
       "\"\"\""
      ],
      "text/html": [
       "<table class=\"simpletable\">\n",
       "<caption>SARIMAX Results</caption>\n",
       "<tr>\n",
       "  <th>Dep. Variable:</th>           <td>y</td>        <th>  No. Observations:  </th>    <td>437</td>   \n",
       "</tr>\n",
       "<tr>\n",
       "  <th>Model:</th>           <td>SARIMAX(1, 0, 2)</td> <th>  Log Likelihood     </th> <td>-2674.296</td>\n",
       "</tr>\n",
       "<tr>\n",
       "  <th>Date:</th>            <td>Mon, 26 Jul 2021</td> <th>  AIC                </th> <td>5356.592</td> \n",
       "</tr>\n",
       "<tr>\n",
       "  <th>Time:</th>                <td>11:15:11</td>     <th>  BIC                </th> <td>5372.912</td> \n",
       "</tr>\n",
       "<tr>\n",
       "  <th>Sample:</th>                  <td>0</td>        <th>  HQIC               </th> <td>5363.032</td> \n",
       "</tr>\n",
       "<tr>\n",
       "  <th></th>                      <td> - 437</td>      <th>                     </th>     <td> </td>    \n",
       "</tr>\n",
       "<tr>\n",
       "  <th>Covariance Type:</th>        <td>opg</td>       <th>                     </th>     <td> </td>    \n",
       "</tr>\n",
       "</table>\n",
       "<table class=\"simpletable\">\n",
       "<tr>\n",
       "     <td></td>       <th>coef</th>     <th>std err</th>      <th>z</th>      <th>P>|z|</th>  <th>[0.025</th>    <th>0.975]</th>  \n",
       "</tr>\n",
       "<tr>\n",
       "  <th>ar.L1</th>  <td>    0.5673</td> <td>    0.065</td> <td>    8.701</td> <td> 0.000</td> <td>    0.440</td> <td>    0.695</td>\n",
       "</tr>\n",
       "<tr>\n",
       "  <th>ma.L1</th>  <td>   -0.8120</td> <td>    0.072</td> <td>  -11.333</td> <td> 0.000</td> <td>   -0.952</td> <td>   -0.672</td>\n",
       "</tr>\n",
       "<tr>\n",
       "  <th>ma.L2</th>  <td>   -0.1292</td> <td>    0.057</td> <td>   -2.255</td> <td> 0.024</td> <td>   -0.241</td> <td>   -0.017</td>\n",
       "</tr>\n",
       "<tr>\n",
       "  <th>sigma2</th> <td> 1.208e+04</td> <td>  490.957</td> <td>   24.598</td> <td> 0.000</td> <td> 1.11e+04</td> <td>  1.3e+04</td>\n",
       "</tr>\n",
       "</table>\n",
       "<table class=\"simpletable\">\n",
       "<tr>\n",
       "  <th>Ljung-Box (L1) (Q):</th>     <td>0.03</td> <th>  Jarque-Bera (JB):  </th> <td>1018.30</td>\n",
       "</tr>\n",
       "<tr>\n",
       "  <th>Prob(Q):</th>                <td>0.87</td> <th>  Prob(JB):          </th>  <td>0.00</td>  \n",
       "</tr>\n",
       "<tr>\n",
       "  <th>Heteroskedasticity (H):</th> <td>0.80</td> <th>  Skew:              </th>  <td>-0.60</td> \n",
       "</tr>\n",
       "<tr>\n",
       "  <th>Prob(H) (two-sided):</th>    <td>0.18</td> <th>  Kurtosis:          </th>  <td>10.38</td> \n",
       "</tr>\n",
       "</table><br/><br/>Warnings:<br/>[1] Covariance matrix calculated using the outer product of gradients (complex-step)."
      ]
     },
     "metadata": {},
     "execution_count": 162
    }
   ],
   "metadata": {}
  },
  {
   "cell_type": "code",
   "execution_count": 163,
   "source": [
    "print(well1_arima.shape)\n",
    "train=well1_arima.iloc[:-88] #80%\n",
    "test=well1_arima.iloc[-88:] #20%\n",
    "print(train.shape,test.shape)"
   ],
   "outputs": [
    {
     "output_type": "stream",
     "name": "stdout",
     "text": [
      "(438, 14)\n",
      "(350, 14) (88, 14)\n"
     ]
    }
   ],
   "metadata": {}
  },
  {
   "cell_type": "markdown",
   "source": [
    "### Train the model"
   ],
   "metadata": {}
  },
  {
   "cell_type": "code",
   "execution_count": 164,
   "source": [
    "model=ARIMA(train[\"BORE_OIL_VOL\"],order=(1,0,2))\n",
    "model=model.fit()\n",
    "model.summary()"
   ],
   "outputs": [
    {
     "output_type": "execute_result",
     "data": {
      "text/plain": [
       "<class 'statsmodels.iolib.summary.Summary'>\n",
       "\"\"\"\n",
       "                              ARMA Model Results                              \n",
       "==============================================================================\n",
       "Dep. Variable:           BORE_OIL_VOL   No. Observations:                  350\n",
       "Model:                     ARMA(1, 2)   Log Likelihood               -2158.689\n",
       "Method:                       css-mle   S.D. of innovations            115.292\n",
       "Date:                Mon, 26 Jul 2021   AIC                           4327.378\n",
       "Time:                        11:15:48   BIC                           4346.668\n",
       "Sample:                             0   HQIC                          4335.056\n",
       "                                                                              \n",
       "======================================================================================\n",
       "                         coef    std err          z      P>|z|      [0.025      0.975]\n",
       "--------------------------------------------------------------------------------------\n",
       "const                384.8274     28.454     13.524      0.000     329.058     440.597\n",
       "ar.L1.BORE_OIL_VOL     0.8406      0.057     14.718      0.000       0.729       0.953\n",
       "ma.L1.BORE_OIL_VOL    -0.0577      0.086     -0.675      0.499      -0.225       0.110\n",
       "ma.L2.BORE_OIL_VOL    -0.1981      0.084     -2.346      0.019      -0.364      -0.033\n",
       "                                    Roots                                    \n",
       "=============================================================================\n",
       "                  Real          Imaginary           Modulus         Frequency\n",
       "-----------------------------------------------------------------------------\n",
       "AR.1            1.1896           +0.0000j            1.1896            0.0000\n",
       "MA.1            2.1059           +0.0000j            2.1059            0.0000\n",
       "MA.2           -2.3974           +0.0000j            2.3974            0.5000\n",
       "-----------------------------------------------------------------------------\n",
       "\"\"\""
      ],
      "text/html": [
       "<table class=\"simpletable\">\n",
       "<caption>ARMA Model Results</caption>\n",
       "<tr>\n",
       "  <th>Dep. Variable:</th>   <td>BORE_OIL_VOL</td>   <th>  No. Observations:  </th>    <td>350</td>   \n",
       "</tr>\n",
       "<tr>\n",
       "  <th>Model:</th>            <td>ARMA(1, 2)</td>    <th>  Log Likelihood     </th> <td>-2158.689</td>\n",
       "</tr>\n",
       "<tr>\n",
       "  <th>Method:</th>             <td>css-mle</td>     <th>  S.D. of innovations</th>  <td>115.292</td> \n",
       "</tr>\n",
       "<tr>\n",
       "  <th>Date:</th>          <td>Mon, 26 Jul 2021</td> <th>  AIC                </th> <td>4327.378</td> \n",
       "</tr>\n",
       "<tr>\n",
       "  <th>Time:</th>              <td>11:15:48</td>     <th>  BIC                </th> <td>4346.668</td> \n",
       "</tr>\n",
       "<tr>\n",
       "  <th>Sample:</th>                <td>0</td>        <th>  HQIC               </th> <td>4335.056</td> \n",
       "</tr>\n",
       "<tr>\n",
       "  <th></th>                       <td> </td>        <th>                     </th>     <td> </td>    \n",
       "</tr>\n",
       "</table>\n",
       "<table class=\"simpletable\">\n",
       "<tr>\n",
       "           <td></td>             <th>coef</th>     <th>std err</th>      <th>z</th>      <th>P>|z|</th>  <th>[0.025</th>    <th>0.975]</th>  \n",
       "</tr>\n",
       "<tr>\n",
       "  <th>const</th>              <td>  384.8274</td> <td>   28.454</td> <td>   13.524</td> <td> 0.000</td> <td>  329.058</td> <td>  440.597</td>\n",
       "</tr>\n",
       "<tr>\n",
       "  <th>ar.L1.BORE_OIL_VOL</th> <td>    0.8406</td> <td>    0.057</td> <td>   14.718</td> <td> 0.000</td> <td>    0.729</td> <td>    0.953</td>\n",
       "</tr>\n",
       "<tr>\n",
       "  <th>ma.L1.BORE_OIL_VOL</th> <td>   -0.0577</td> <td>    0.086</td> <td>   -0.675</td> <td> 0.499</td> <td>   -0.225</td> <td>    0.110</td>\n",
       "</tr>\n",
       "<tr>\n",
       "  <th>ma.L2.BORE_OIL_VOL</th> <td>   -0.1981</td> <td>    0.084</td> <td>   -2.346</td> <td> 0.019</td> <td>   -0.364</td> <td>   -0.033</td>\n",
       "</tr>\n",
       "</table>\n",
       "<table class=\"simpletable\">\n",
       "<caption>Roots</caption>\n",
       "<tr>\n",
       "    <td></td>   <th>            Real</th>  <th>         Imaginary</th> <th>         Modulus</th>  <th>        Frequency</th>\n",
       "</tr>\n",
       "<tr>\n",
       "  <th>AR.1</th> <td>           1.1896</td> <td>          +0.0000j</td> <td>           1.1896</td> <td>           0.0000</td>\n",
       "</tr>\n",
       "<tr>\n",
       "  <th>MA.1</th> <td>           2.1059</td> <td>          +0.0000j</td> <td>           2.1059</td> <td>           0.0000</td>\n",
       "</tr>\n",
       "<tr>\n",
       "  <th>MA.2</th> <td>          -2.3974</td> <td>          +0.0000j</td> <td>           2.3974</td> <td>           0.5000</td>\n",
       "</tr>\n",
       "</table>"
      ]
     },
     "metadata": {},
     "execution_count": 164
    }
   ],
   "metadata": {}
  },
  {
   "cell_type": "markdown",
   "source": [
    "### Make Predictions on Test Set"
   ],
   "metadata": {}
  },
  {
   "cell_type": "code",
   "execution_count": 165,
   "source": [
    "start=len(train)\n",
    "end=len(train)+len(test)-1\n",
    "pred=model.predict(start=start,end=end,typ=\"levels\")\n",
    "pred.index=well1_arima.index[start:end+1]\n",
    "print(pred)"
   ],
   "outputs": [
    {
     "output_type": "stream",
     "name": "stdout",
     "text": [
      "DATEPRD\n",
      "2015-10-25    280.764930\n",
      "2015-10-26    297.316951\n",
      "2015-10-27    311.263496\n",
      "2015-10-28    322.987380\n",
      "2015-10-29    332.842829\n",
      "                 ...    \n",
      "2016-04-02    384.827368\n",
      "2016-04-03    384.827377\n",
      "2016-04-04    384.827385\n",
      "2016-04-05    384.827391\n",
      "2016-04-06    384.827397\n",
      "Length: 88, dtype: float64\n"
     ]
    }
   ],
   "metadata": {}
  },
  {
   "cell_type": "code",
   "execution_count": 166,
   "source": [
    "pred.plot(legend=True)\n",
    "test[\"BORE_OIL_VOL\"].plot(legend=True)"
   ],
   "outputs": [
    {
     "output_type": "execute_result",
     "data": {
      "text/plain": [
       "<AxesSubplot:xlabel='DATEPRD'>"
      ]
     },
     "metadata": {},
     "execution_count": 166
    },
    {
     "output_type": "display_data",
     "data": {
      "text/plain": [
       "<Figure size 432x288 with 1 Axes>"
      ],
      "image/png": "[encoded data removed]"
     },
     "metadata": {
      "needs_background": "light"
     }
    }
   ],
   "metadata": {}
  },
  {
   "cell_type": "code",
   "execution_count": 167,
   "source": [
    "rmse=sqrt(mean_squared_error(pred, test[\"BORE_OIL_VOL\"]))\n",
    "print(rmse)"
   ],
   "outputs": [
    {
     "output_type": "stream",
     "name": "stdout",
     "text": [
      "184.40839469400538\n"
     ]
    }
   ],
   "metadata": {}
  },
  {
   "cell_type": "code",
   "execution_count": 168,
   "source": [
    "model2=ARIMA(well1_arima[\"BORE_OIL_VOL\"],order=(1,0,2))\n",
    "model2=model2.fit()\n",
    "well1_arima.tail()"
   ],
   "outputs": [
    {
     "output_type": "execute_result",
     "data": {
      "text/plain": [
       "            ON_STREAM_HRS  AVG_DOWNHOLE_PRESSURE  AVG_DOWNHOLE_TEMPERATURE  \\\n",
       "DATEPRD                                                                      \n",
       "2016-04-02          24.00                223.012                   108.058   \n",
       "2016-04-03          24.00                221.813                   108.044   \n",
       "2016-04-04          24.00                220.780                   108.042   \n",
       "2016-04-05          24.00                218.752                   108.078   \n",
       "2016-04-06          20.82                218.438                   107.857   \n",
       "\n",
       "            AVG_DP_TUBING  AVG_ANNULUS_PRESS  AVG_CHOKE_SIZE_P  AVG_WHP_P  \\\n",
       "DATEPRD                                                                     \n",
       "2016-04-02        196.629                0.0          54.68774     26.383   \n",
       "2016-04-03        196.133                0.0          54.72411     25.681   \n",
       "2016-04-04        195.665                0.0          55.06795     25.115   \n",
       "2016-04-05        193.411                0.0          55.99813     25.341   \n",
       "2016-04-06        192.830                0.0          45.14344     25.608   \n",
       "\n",
       "            AVG_WHT_P  AVG_CHOKE_SIZE  BORE_OIL_VOL  BORE_GAS_VOL  \\\n",
       "DATEPRD                                                             \n",
       "2016-04-02     69.559          10.681        284.72      46880.14   \n",
       "2016-04-03     72.502           9.910        280.17      45842.82   \n",
       "2016-04-04     71.750           9.197        281.93      45800.83   \n",
       "2016-04-05     72.218           9.101        317.38      51990.65   \n",
       "2016-04-06     66.568           9.830        208.00      34998.30   \n",
       "\n",
       "            BORE_WAT_VOL    WI_F4        WI_F5  \n",
       "DATEPRD                                         \n",
       "2016-04-02        766.23  6429.66  5629.787566  \n",
       "2016-04-03        748.25  4598.72  4395.170000  \n",
       "2016-04-04        797.30  5137.82  3437.600000  \n",
       "2016-04-05        792.76  6521.45  3972.170000  \n",
       "2016-04-06        542.39  4443.90  2825.430000  "
      ],
      "text/html": [
       "<div>\n",
       "<style scoped>\n",
       "    .dataframe tbody tr th:only-of-type {\n",
       "        vertical-align: middle;\n",
       "    }\n",
       "\n",
       "    .dataframe tbody tr th {\n",
       "        vertical-align: top;\n",
       "    }\n",
       "\n",
       "    .dataframe thead th {\n",
       "        text-align: right;\n",
       "    }\n",
       "</style>\n",
       "<table border=\"1\" class=\"dataframe\">\n",
       "  <thead>\n",
       "    <tr style=\"text-align: right;\">\n",
       "      <th></th>\n",
       "      <th>ON_STREAM_HRS</th>\n",
       "      <th>AVG_DOWNHOLE_PRESSURE</th>\n",
       "      <th>AVG_DOWNHOLE_TEMPERATURE</th>\n",
       "      <th>AVG_DP_TUBING</th>\n",
       "      <th>AVG_ANNULUS_PRESS</th>\n",
       "      <th>AVG_CHOKE_SIZE_P</th>\n",
       "      <th>AVG_WHP_P</th>\n",
       "      <th>AVG_WHT_P</th>\n",
       "      <th>AVG_CHOKE_SIZE</th>\n",
       "      <th>BORE_OIL_VOL</th>\n",
       "      <th>BORE_GAS_VOL</th>\n",
       "      <th>BORE_WAT_VOL</th>\n",
       "      <th>WI_F4</th>\n",
       "      <th>WI_F5</th>\n",
       "    </tr>\n",
       "    <tr>\n",
       "      <th>DATEPRD</th>\n",
       "      <th></th>\n",
       "      <th></th>\n",
       "      <th></th>\n",
       "      <th></th>\n",
       "      <th></th>\n",
       "      <th></th>\n",
       "      <th></th>\n",
       "      <th></th>\n",
       "      <th></th>\n",
       "      <th></th>\n",
       "      <th></th>\n",
       "      <th></th>\n",
       "      <th></th>\n",
       "      <th></th>\n",
       "    </tr>\n",
       "  </thead>\n",
       "  <tbody>\n",
       "    <tr>\n",
       "      <th>2016-04-02</th>\n",
       "      <td>24.00</td>\n",
       "      <td>223.012</td>\n",
       "      <td>108.058</td>\n",
       "      <td>196.629</td>\n",
       "      <td>0.0</td>\n",
       "      <td>54.68774</td>\n",
       "      <td>26.383</td>\n",
       "      <td>69.559</td>\n",
       "      <td>10.681</td>\n",
       "      <td>284.72</td>\n",
       "      <td>46880.14</td>\n",
       "      <td>766.23</td>\n",
       "      <td>6429.66</td>\n",
       "      <td>5629.787566</td>\n",
       "    </tr>\n",
       "    <tr>\n",
       "      <th>2016-04-03</th>\n",
       "      <td>24.00</td>\n",
       "      <td>221.813</td>\n",
       "      <td>108.044</td>\n",
       "      <td>196.133</td>\n",
       "      <td>0.0</td>\n",
       "      <td>54.72411</td>\n",
       "      <td>25.681</td>\n",
       "      <td>72.502</td>\n",
       "      <td>9.910</td>\n",
       "      <td>280.17</td>\n",
       "      <td>45842.82</td>\n",
       "      <td>748.25</td>\n",
       "      <td>4598.72</td>\n",
       "      <td>4395.170000</td>\n",
       "    </tr>\n",
       "    <tr>\n",
       "      <th>2016-04-04</th>\n",
       "      <td>24.00</td>\n",
       "      <td>220.780</td>\n",
       "      <td>108.042</td>\n",
       "      <td>195.665</td>\n",
       "      <td>0.0</td>\n",
       "      <td>55.06795</td>\n",
       "      <td>25.115</td>\n",
       "      <td>71.750</td>\n",
       "      <td>9.197</td>\n",
       "      <td>281.93</td>\n",
       "      <td>45800.83</td>\n",
       "      <td>797.30</td>\n",
       "      <td>5137.82</td>\n",
       "      <td>3437.600000</td>\n",
       "    </tr>\n",
       "    <tr>\n",
       "      <th>2016-04-05</th>\n",
       "      <td>24.00</td>\n",
       "      <td>218.752</td>\n",
       "      <td>108.078</td>\n",
       "      <td>193.411</td>\n",
       "      <td>0.0</td>\n",
       "      <td>55.99813</td>\n",
       "      <td>25.341</td>\n",
       "      <td>72.218</td>\n",
       "      <td>9.101</td>\n",
       "      <td>317.38</td>\n",
       "      <td>51990.65</td>\n",
       "      <td>792.76</td>\n",
       "      <td>6521.45</td>\n",
       "      <td>3972.170000</td>\n",
       "    </tr>\n",
       "    <tr>\n",
       "      <th>2016-04-06</th>\n",
       "      <td>20.82</td>\n",
       "      <td>218.438</td>\n",
       "      <td>107.857</td>\n",
       "      <td>192.830</td>\n",
       "      <td>0.0</td>\n",
       "      <td>45.14344</td>\n",
       "      <td>25.608</td>\n",
       "      <td>66.568</td>\n",
       "      <td>9.830</td>\n",
       "      <td>208.00</td>\n",
       "      <td>34998.30</td>\n",
       "      <td>542.39</td>\n",
       "      <td>4443.90</td>\n",
       "      <td>2825.430000</td>\n",
       "    </tr>\n",
       "  </tbody>\n",
       "</table>\n",
       "</div>"
      ]
     },
     "metadata": {},
     "execution_count": 168
    }
   ],
   "metadata": {}
  },
  {
   "cell_type": "markdown",
   "source": [
    "### For Future Dates"
   ],
   "metadata": {}
  },
  {
   "cell_type": "code",
   "execution_count": 169,
   "source": [
    "index_future_dates=pd.date_range(start=\"2016-04-06\",end=\"2017-04-06\")\n",
    "print(index_future_dates)"
   ],
   "outputs": [
    {
     "output_type": "stream",
     "name": "stdout",
     "text": [
      "DatetimeIndex(['2016-04-06', '2016-04-07', '2016-04-08', '2016-04-09',\n",
      "               '2016-04-10', '2016-04-11', '2016-04-12', '2016-04-13',\n",
      "               '2016-04-14', '2016-04-15',\n",
      "               ...\n",
      "               '2017-03-28', '2017-03-29', '2017-03-30', '2017-03-31',\n",
      "               '2017-04-01', '2017-04-02', '2017-04-03', '2017-04-04',\n",
      "               '2017-04-05', '2017-04-06'],\n",
      "              dtype='datetime64[ns]', length=366, freq='D')\n"
     ]
    }
   ],
   "metadata": {}
  },
  {
   "cell_type": "code",
   "execution_count": 170,
   "source": [
    "pred=model2.predict(start=len(well1_arima),end=len(well1_arima)+365,typ=\"levels\").rename(\"ARIMA Predictions\")\n",
    "print(pred)"
   ],
   "outputs": [
    {
     "output_type": "stream",
     "name": "stdout",
     "text": [
      "438    234.849769\n",
      "439    271.566316\n",
      "440    283.377149\n",
      "441    293.507073\n",
      "442    302.195314\n",
      "          ...    \n",
      "799    354.554621\n",
      "800    354.554621\n",
      "801    354.554621\n",
      "802    354.554621\n",
      "803    354.554621\n",
      "Name: ARIMA Predictions, Length: 366, dtype: float64\n"
     ]
    }
   ],
   "metadata": {}
  },
  {
   "cell_type": "code",
   "execution_count": 171,
   "source": [
    "pred.index=index_future_dates\n",
    "print(pred)"
   ],
   "outputs": [
    {
     "output_type": "stream",
     "name": "stdout",
     "text": [
      "2016-04-06    234.849769\n",
      "2016-04-07    271.566316\n",
      "2016-04-08    283.377149\n",
      "2016-04-09    293.507073\n",
      "2016-04-10    302.195314\n",
      "                 ...    \n",
      "2017-04-02    354.554621\n",
      "2017-04-03    354.554621\n",
      "2017-04-04    354.554621\n",
      "2017-04-05    354.554621\n",
      "2017-04-06    354.554621\n",
      "Freq: D, Name: ARIMA Predictions, Length: 366, dtype: float64\n"
     ]
    }
   ],
   "metadata": {}
  },
  {
   "cell_type": "code",
   "execution_count": 172,
   "source": [
    "pred.plot(figsize=(12,5),legend=True)"
   ],
   "outputs": [
    {
     "output_type": "execute_result",
     "data": {
      "text/plain": [
       "<AxesSubplot:>"
      ]
     },
     "metadata": {},
     "execution_count": 172
    },
    {
     "output_type": "display_data",
     "data": {
      "text/plain": [
       "<Figure size 864x360 with 1 Axes>"
      ],
      "image/png": "[encoded data removed]"
     },
     "metadata": {
      "needs_background": "light"
     }
    }
   ],
   "metadata": {}
  },
  {
   "cell_type": "markdown",
   "source": [
    "## Random Forest"
   ],
   "metadata": {}
  },
  {
   "cell_type": "code",
   "execution_count": 173,
   "source": [
    "from sklearn.ensemble import RandomForestRegressor"
   ],
   "outputs": [],
   "metadata": {}
  },
  {
   "cell_type": "code",
   "execution_count": 174,
   "source": [
    "rf = RandomForestRegressor(random_state=0).fit(X_train, y_train) \n",
    "predictions_rf = rf.predict(X_test)\n",
    "\n",
    "# Metrics\n",
    "print('Model score:',              round(rf.score(X_test, y_test),2))\n",
    "print('Mean absolute error:',      round(mean_absolute_error(y_test, predictions_rf),2))\n",
    "print('Root mean squared error:',  round(sqrt(mean_squared_error(y_test, predictions_rf)),2))\n",
    "print('R2:',                       round(r2_score(y_test, predictions_rf),2))"
   ],
   "outputs": [
    {
     "output_type": "stream",
     "name": "stdout",
     "text": [
      "Model score: 0.8\n",
      "Mean absolute error: 3616.44\n",
      "Root mean squared error: 8137.15\n",
      "R2: 0.8\n"
     ]
    }
   ],
   "metadata": {}
  },
  {
   "cell_type": "code",
   "execution_count": 175,
   "source": [
    "# List of features\n",
    "feature_list = list(X_train.columns)\n",
    "\n",
    "# Get numerical feature importances (Gini importance)\n",
    "importances = list(rf.feature_importances_)\n",
    "\n",
    "# List of tuples with variable and importance\n",
    "feature_importances = [(feature, round(importance, 2)) for feature, importance in zip(feature_list, importances)]\n",
    "\n",
    "# Sort the feature importances by most important first\n",
    "feature_importances = sorted(feature_importances, key = lambda x: x[1], reverse = True)\n",
    "\n",
    "# Print out the feature and importances \n",
    "[print('Variable: {:30} Importance: {}'.format(*pair)) for pair in feature_importances];"
   ],
   "outputs": [
    {
     "output_type": "stream",
     "name": "stdout",
     "text": [
      "Variable: AVG_DP_TUBING                  Importance: 0.6\n",
      "Variable: ON_STREAM_HRS                  Importance: 0.13\n",
      "Variable: AVG_DOWNHOLE_PRESSURE          Importance: 0.08\n",
      "Variable: WI_F4                          Importance: 0.07\n",
      "Variable: AVG_WHT_P                      Importance: 0.05\n",
      "Variable: WI_F5                          Importance: 0.05\n",
      "Variable: AVG_WHP_P                      Importance: 0.02\n"
     ]
    }
   ],
   "metadata": {}
  },
  {
   "cell_type": "code",
   "execution_count": 176,
   "source": [
    "# list of x locations for plotting\n",
    "X_testues = list(range(len(importances)))\n",
    "\n",
    "# Make a bar chart\n",
    "plt.bar(X_testues, importances, orientation = 'vertical', color = 'b', edgecolor = 'k', linewidth = 1.2)\n",
    "\n",
    "# Tick labels for x axis\n",
    "plt.xticks(X_testues, feature_list, rotation='vertical')\n",
    "\n",
    "# Axis labels and title\n",
    "plt.ylabel('Importance'); plt.xlabel('Variable'); plt.title('Variable Importances');"
   ],
   "outputs": [
    {
     "output_type": "display_data",
     "data": {
      "text/plain": [
       "<Figure size 432x288 with 1 Axes>"
      ],
      "image/png": "[encoded data removed]"
     },
     "metadata": {
      "needs_background": "light"
     }
    }
   ],
   "metadata": {}
  },
  {
   "cell_type": "code",
   "execution_count": 177,
   "source": [
    "rf.fit(X_train, y_train);"
   ],
   "outputs": [],
   "metadata": {}
  },
  {
   "cell_type": "code",
   "execution_count": 178,
   "source": [
    "predictions_import = rf.predict(X_test)"
   ],
   "outputs": [],
   "metadata": {}
  },
  {
   "cell_type": "code",
   "execution_count": 179,
   "source": [
    "from pprint import pprint"
   ],
   "outputs": [],
   "metadata": {}
  },
  {
   "cell_type": "code",
   "execution_count": 180,
   "source": [
    "pprint(rf.get_params())"
   ],
   "outputs": [
    {
     "output_type": "stream",
     "name": "stdout",
     "text": [
      "{'bootstrap': True,\n",
      " 'ccp_alpha': 0.0,\n",
      " 'criterion': 'mse',\n",
      " 'max_depth': None,\n",
      " 'max_features': 'auto',\n",
      " 'max_leaf_nodes': None,\n",
      " 'max_samples': None,\n",
      " 'min_impurity_decrease': 0.0,\n",
      " 'min_impurity_split': None,\n",
      " 'min_samples_leaf': 1,\n",
      " 'min_samples_split': 2,\n",
      " 'min_weight_fraction_leaf': 0.0,\n",
      " 'n_estimators': 100,\n",
      " 'n_jobs': None,\n",
      " 'oob_score': False,\n",
      " 'random_state': 0,\n",
      " 'verbose': 0,\n",
      " 'warm_start': False}\n"
     ]
    }
   ],
   "metadata": {}
  },
  {
   "cell_type": "code",
   "execution_count": 181,
   "source": [
    "from sklearn.model_selection import cross_val_score\n",
    "from sklearn.model_selection import RandomizedSearchCV, GridSearchCV"
   ],
   "outputs": [],
   "metadata": {}
  },
  {
   "cell_type": "code",
   "execution_count": 182,
   "source": [
    "# Definition of specific parameters for Random forest \n",
    "# Number of trees in random forest\n",
    "n_estimators = [int(x) for x in np.linspace(start = 2, stop = 2000, num = 20)]\n",
    "# Number of features to consider at every split\n",
    "max_features = ['auto', 'sqrt']\n",
    "# Maximum number of levels in tree\n",
    "max_depth = [int(x) for x in np.linspace(4, 30, num = 2)]\n",
    "max_depth.append(None)\n",
    "# Minimum number of samples required to split a node\n",
    "min_samples_split = [2, 3, 4, 5, 10]\n",
    "# Minimum number of samples required at each leaf node\n",
    "min_samples_leaf = [1, 2, 4]\n",
    "# Method of selecting samples for training each tree\n",
    "bootstrap = [True, False]\n",
    "\n",
    "# Create the random grid\n",
    "random_grid = {'n_estimators': n_estimators,\n",
    "               'max_features': max_features,\n",
    "               'max_depth': max_depth,\n",
    "               'min_samples_split': min_samples_split,\n",
    "               'min_samples_leaf': min_samples_leaf,\n",
    "               'bootstrap': bootstrap}\n",
    "\n",
    "pprint(random_grid)"
   ],
   "outputs": [
    {
     "output_type": "stream",
     "name": "stdout",
     "text": [
      "{'bootstrap': [True, False],\n",
      " 'max_depth': [4, 30, None],\n",
      " 'max_features': ['auto', 'sqrt'],\n",
      " 'min_samples_leaf': [1, 2, 4],\n",
      " 'min_samples_split': [2, 3, 4, 5, 10],\n",
      " 'n_estimators': [2,\n",
      "                  107,\n",
      "                  212,\n",
      "                  317,\n",
      "                  422,\n",
      "                  527,\n",
      "                  632,\n",
      "                  738,\n",
      "                  843,\n",
      "                  948,\n",
      "                  1053,\n",
      "                  1158,\n",
      "                  1263,\n",
      "                  1369,\n",
      "                  1474,\n",
      "                  1579,\n",
      "                  1684,\n",
      "                  1789,\n",
      "                  1894,\n",
      "                  2000]}\n"
     ]
    }
   ],
   "metadata": {}
  },
  {
   "cell_type": "code",
   "execution_count": null,
   "source": [
    "rf = RandomForestRegressor(random_state = 42)\n",
    "\n",
    "# Use the random grid to search for best hyperparameters\n",
    "# Random search of parameters, using 3 fold cross validation, \n",
    "# search across different combinations.\n",
    "rf_random = RandomizedSearchCV(estimator=rf, param_distributions=random_grid, n_iter = 15, scoring='neg_mean_absolute_error',  cv = 3, verbose=2, random_state=42, n_jobs=-1, return_train_score=True)\n",
    "\n",
    "# Fit the random search model\n",
    "rf_random.fit(X_train, y_train);"
   ],
   "outputs": [],
   "metadata": {}
  },
  {
   "cell_type": "code",
   "execution_count": 184,
   "source": [
    "# Obtaining the best parameters\n",
    "rf_random.best_params_"
   ],
   "outputs": [
    {
     "output_type": "execute_result",
     "data": {
      "text/plain": [
       "{'n_estimators': 1894,\n",
       " 'min_samples_split': 3,\n",
       " 'min_samples_leaf': 1,\n",
       " 'max_features': 'auto',\n",
       " 'max_depth': None,\n",
       " 'bootstrap': True}"
      ]
     },
     "metadata": {},
     "execution_count": 184
    }
   ],
   "metadata": {}
  },
  {
   "cell_type": "markdown",
   "source": [
    "### Evaluación de los parámetros"
   ],
   "metadata": {}
  },
  {
   "cell_type": "code",
   "execution_count": 185,
   "source": [
    "best_random = rf_random.best_estimator_.fit(X_train, y_train)\n",
    "predictions_best_random_test = best_random.predict(X_test)\n",
    "predictions_best_random_train = best_random.predict(X_train)\n",
    "\n",
    "print('Model score:', round(best_random.score(X_test, y_test),2))\n",
    "print('Mean absolute error:', round(mean_absolute_error(y_test, predictions_best_random_test),2))\n",
    "print('Root mean squared error:', round(sqrt(mean_squared_error(y_test, predictions_best_random_test)),2))\n",
    "print('R2:', round(r2_score(y_test, predictions_best_random_test),2))\n",
    "\n",
    "r2_rf=r2_score(y_test, predictions_best_random_test)\n",
    "Mean_absolute_error_rf=mean_absolute_error(y_test, predictions_best_random_test)\n",
    "Root_mean_squared_error_rf=sqrt(mean_squared_error(y_test, predictions_best_random_test))"
   ],
   "outputs": [
    {
     "output_type": "stream",
     "name": "stdout",
     "text": [
      "Model score: 0.8\n",
      "Mean absolute error: 3649.7\n",
      "Root mean squared error: 8376.82\n",
      "R2: 0.8\n"
     ]
    }
   ],
   "metadata": {}
  },
  {
   "cell_type": "code",
   "execution_count": 186,
   "source": [
    "result_df = pd.DataFrame({'BORE_OIL_VOL': [y_test], 'Predicted': [predictions_best_random_test]})"
   ],
   "outputs": [],
   "metadata": {}
  },
  {
   "cell_type": "code",
   "execution_count": 187,
   "source": [
    "from scipy import stats\n",
    "import statsmodels as sm\n",
    "\n",
    "y = y_train\n",
    "X_train_np = np.array(X_train)\n",
    "y_np = np.array(y)\n",
    "\n",
    "def abline(slope, intercept):\n",
    "    axes = plt.gca()\n",
    "    x_vals = np.array(axes.get_xlim())\n",
    "    y_vals = intercept + slope * x_vals\n",
    "    plt.plot(x_vals, y_vals, '-')\n",
    "\n",
    "#predict y values for training data\n",
    "y_hat = predictions_best_random_train \n",
    "\n",
    "#plot predicted vs actual\n",
    "plt.plot(y_hat,y_np,'o')\n",
    "plt.xlabel('Predicted')#,color='white')\n",
    "plt.ylabel('Actual')#,color='white')\n",
    "plt.title('Predicted vs. Actual: Visual Linearity Test')#,color='white')\n",
    "plt.tick_params(axis='x', colors='white')\n",
    "plt.tick_params(axis='y', colors='white')\n",
    "abline(1,0)\n",
    "plt.show()"
   ],
   "outputs": [
    {
     "output_type": "display_data",
     "data": {
      "text/plain": [
       "<Figure size 432x288 with 1 Axes>"
      ],
      "image/png": "[encoded data removed]"
     },
     "metadata": {
      "needs_background": "dark"
     }
    }
   ],
   "metadata": {}
  }
 ],
 "metadata": {
  "kernelspec": {
   "name": "python3",
   "display_name": "Python 3.9.2 64-bit ('env': venv)"
  },
  "language_info": {
   "codemirror_mode": {
    "name": "ipython",
    "version": 3
   },
   "file_extension": ".py",
   "mimetype": "text/x-python",
   "name": "python",
   "nbconvert_exporter": "python",
   "pygments_lexer": "ipython3",
   "version": "3.9.2"
  },
  "interpreter": {
   "hash": "af2746ecef15f2471a74c740b671fe158729d70a660acd3dbc5f3a5ee277144b"
  }
 },
 "nbformat": 4,
 "nbformat_minor": 5
}